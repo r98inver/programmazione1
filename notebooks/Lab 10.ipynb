{
 "cells": [
  {
   "cell_type": "markdown",
   "metadata": {},
   "source": [
    "# Tipi di dati e funzioni primitive di Python\n",
    "\n",
    "## Dati primitivi\n",
    "Sino a questo punto del corso abbiamo usato essenzialmente quattro tipi di dati primitivi:\n",
    "\n",
    "* `int`: numeri interi\n",
    "* `float`: numeri \"con la virgola\" (più precisamente in \"virgola mobile\" con precisione numerica a 64 bit)\n",
    "* `bool`: i valori logici True e False\n",
    "* `NoneType`: è il tipo associato alla parola chiave `None` che abbiamo usato come simbolo di fine lista\n",
    "\n",
    "Durante l'esecuzione di un programma è sempre possibile controllare il tipo di dato di un oggetto o di una variabile usando la funzione primitiva (o **builtin**) `type`.\n",
    "\n",
    "**ESEMPIO:**"
   ]
  },
  {
   "cell_type": "code",
   "execution_count": 1,
   "metadata": {},
   "outputs": [
    {
     "name": "stdout",
     "output_type": "stream",
     "text": [
      "<class 'int'>\n"
     ]
    }
   ],
   "source": [
    "a = 3\n",
    "print(type(a))"
   ]
  },
  {
   "cell_type": "code",
   "execution_count": 2,
   "metadata": {},
   "outputs": [
    {
     "name": "stdout",
     "output_type": "stream",
     "text": [
      "<class 'float'>\n"
     ]
    }
   ],
   "source": [
    "b = 3.2\n",
    "print(type(b))"
   ]
  },
  {
   "cell_type": "code",
   "execution_count": 3,
   "metadata": {},
   "outputs": [
    {
     "name": "stdout",
     "output_type": "stream",
     "text": [
      "False <class 'bool'>\n"
     ]
    }
   ],
   "source": [
    "c = a == b\n",
    "print(c, type(c))\n"
   ]
  },
  {
   "cell_type": "code",
   "execution_count": 4,
   "metadata": {},
   "outputs": [
    {
     "name": "stdout",
     "output_type": "stream",
     "text": [
      "<class 'NoneType'>\n"
     ]
    }
   ],
   "source": [
    "print(type(None))"
   ]
  },
  {
   "cell_type": "markdown",
   "metadata": {},
   "source": [
    "Tuttavia, in Python i tipi delle variabili sono definiti durante l'esecuzione di un programma (si dice a \"runtime\"), e i risultati di operazioni tra tipi diversi sono possibili attraverso delle conversioni di tipi implicite.\n",
    "\n",
    "**ESEMPIO:**"
   ]
  },
  {
   "cell_type": "code",
   "execution_count": 5,
   "metadata": {},
   "outputs": [
    {
     "name": "stdout",
     "output_type": "stream",
     "text": [
      "<class 'int'> <class 'float'> <class 'float'>\n"
     ]
    }
   ],
   "source": [
    "print(type(a), type(b), type(a/b))"
   ]
  },
  {
   "cell_type": "code",
   "execution_count": 6,
   "metadata": {},
   "outputs": [
    {
     "name": "stdout",
     "output_type": "stream",
     "text": [
      "<class 'bool'> <class 'int'>\n"
     ]
    }
   ],
   "source": [
    "print(type(c), type(c+1))"
   ]
  },
  {
   "cell_type": "markdown",
   "metadata": {},
   "source": [
    "Quando un tipo di dati viene convertito ad un altro tipo di dati si effettua un **cast**."
   ]
  },
  {
   "cell_type": "markdown",
   "metadata": {},
   "source": [
    "## Le stringhe\n",
    "Per rappresentare una sequenza di caratteri possiamo usare un oggetto di tipo **stringa**, ovvero un dato composto di tipo `str`:"
   ]
  },
  {
   "cell_type": "code",
   "execution_count": 7,
   "metadata": {},
   "outputs": [],
   "source": [
    "a = \"Vorrei, ma non posto!\""
   ]
  },
  {
   "cell_type": "code",
   "execution_count": 8,
   "metadata": {},
   "outputs": [
    {
     "name": "stdout",
     "output_type": "stream",
     "text": [
      "Vorrei, ma non posto!\n"
     ]
    }
   ],
   "source": [
    "print(a)"
   ]
  },
  {
   "cell_type": "code",
   "execution_count": 9,
   "metadata": {},
   "outputs": [
    {
     "name": "stdout",
     "output_type": "stream",
     "text": [
      "<class 'str'>\n"
     ]
    }
   ],
   "source": [
    "print(type(a))"
   ]
  },
  {
   "cell_type": "markdown",
   "metadata": {},
   "source": [
    "Attenzione che una stringa è una semplice sequenza di caratteri:"
   ]
  },
  {
   "cell_type": "code",
   "execution_count": 10,
   "metadata": {},
   "outputs": [],
   "source": [
    "a = '123'\n",
    "b = '321'\n",
    "c = a + b\n",
    "d = 3 * a"
   ]
  },
  {
   "cell_type": "code",
   "execution_count": 11,
   "metadata": {},
   "outputs": [
    {
     "data": {
      "text/plain": [
       "str"
      ]
     },
     "execution_count": 11,
     "metadata": {},
     "output_type": "execute_result"
    }
   ],
   "source": [
    "type(c)"
   ]
  },
  {
   "cell_type": "markdown",
   "metadata": {},
   "source": [
    "Quanto vale la variabile `c`?"
   ]
  },
  {
   "cell_type": "code",
   "execution_count": 12,
   "metadata": {},
   "outputs": [
    {
     "name": "stdout",
     "output_type": "stream",
     "text": [
      "Valore: 123321 - Tipo: <class 'str'>\n"
     ]
    }
   ],
   "source": [
    "print('Valore:', c, '- Tipo:', type(c))"
   ]
  },
  {
   "cell_type": "code",
   "execution_count": 13,
   "metadata": {},
   "outputs": [
    {
     "name": "stdout",
     "output_type": "stream",
     "text": [
      "Valore: 123123123 - Tipo: <class 'str'>\n"
     ]
    }
   ],
   "source": [
    "print('Valore:', d, '- Tipo:', type(d))"
   ]
  },
  {
   "cell_type": "markdown",
   "metadata": {},
   "source": [
    "Gli operatori aritmetici sono stati ridefiniti per i dati di tipo stringa in modo tale che:\n",
    "\n",
    "1. l'operatore di somma effettua la CONCATENAZIONE di due stringhe\n",
    "2. l'operatore di moltiplicazione, se richiamato con un intero $n$ e una stringa, RIPETE (o concatena) la stringa $n$ volte.\n",
    "\n",
    "In questi due casi, in termini tecnici si dice che l'operatore è **overloaded**: funziona in modo diverso in base al tipo di dati che gli viene passato.\n",
    "\n",
    "NOTA: Se si utilizza l'operatore di moltiplicazione tra due stringhe, o si utilizza un qualsiasi operatore aritmetico che non è stato ridefinito, si ottiene un `TypeError`:"
   ]
  },
  {
   "cell_type": "code",
   "execution_count": 15,
   "metadata": {},
   "outputs": [
    {
     "data": {
      "text/plain": [
       "'ciaociaociao'"
      ]
     },
     "execution_count": 15,
     "metadata": {},
     "output_type": "execute_result"
    }
   ],
   "source": [
    "a = 3\n",
    "b = 'ciao'\n",
    "a*b"
   ]
  },
  {
   "cell_type": "code",
   "execution_count": 16,
   "metadata": {},
   "outputs": [
    {
     "ename": "TypeError",
     "evalue": "unsupported operand type(s) for -: 'int' and 'str'",
     "output_type": "error",
     "traceback": [
      "\u001b[0;31m---------------------------------------------------------------------------\u001b[0m",
      "\u001b[0;31mTypeError\u001b[0m                                 Traceback (most recent call last)",
      "\u001b[0;32m<ipython-input-16-5ae0619f8fe1>\u001b[0m in \u001b[0;36m<module>\u001b[0;34m()\u001b[0m\n\u001b[0;32m----> 1\u001b[0;31m \u001b[0ma\u001b[0m\u001b[0;34m-\u001b[0m\u001b[0mb\u001b[0m\u001b[0;34m\u001b[0m\u001b[0m\n\u001b[0m",
      "\u001b[0;31mTypeError\u001b[0m: unsupported operand type(s) for -: 'int' and 'str'"
     ]
    }
   ],
   "source": [
    "a-b"
   ]
  },
  {
   "cell_type": "markdown",
   "metadata": {},
   "source": [
    "Il controllo dei tipi degli oggetti viene chiamato **Type Checking** e dipende dal [Type System](https://en.wikipedia.org/wiki/Type_system) definito dal linguaggio di programmazione in uso. Il type system di Python viene chiamato *dinamico* in quanto controllo i tipi degli oggetti durante l'esecuzione dei programmi, e non è necessario specificare il tipo di dati direttamente nel codice."
   ]
  },
  {
   "cell_type": "markdown",
   "metadata": {},
   "source": [
    "Le stringhe sono uno dei diversi tipi di dati di Python che rappresentano delle **SEQUENZE** (in questo caso sequenze di caratteri). Alcune operazioni sono comuni per tutti i tipi di sequenze:\n",
    "\n",
    "* Si può usare la funzione `len(X)` che prende in input una sequenza e restituisce la lunghezza della sequenza. Esempio: `len('abc')` è pari a 3.\n",
    "* Gli elementi della sequenza possono essere **indicizzati** (in modo simile all'uso della funzione `Nth` vista nell'esercitazione 3). Il primo elemento della sequenza ha indice 0. Se si usa un numero negativo, si inizia a contare dalla fine della sequenza."
   ]
  },
  {
   "cell_type": "code",
   "execution_count": 17,
   "metadata": {},
   "outputs": [
    {
     "data": {
      "text/plain": [
       "'a'"
      ]
     },
     "execution_count": 17,
     "metadata": {},
     "output_type": "execute_result"
    }
   ],
   "source": [
    "'abc'[0]"
   ]
  },
  {
   "cell_type": "code",
   "execution_count": 18,
   "metadata": {},
   "outputs": [
    {
     "data": {
      "text/plain": [
       "'c'"
      ]
     },
     "execution_count": 18,
     "metadata": {},
     "output_type": "execute_result"
    }
   ],
   "source": [
    "'abc'[-1]"
   ]
  },
  {
   "cell_type": "markdown",
   "metadata": {},
   "source": [
    "* È possibile estrarre delle sotto sequenze con un'operazione di *slicing*. Se `s` è una stringa, l'espressione `s[start:end]` restituisce la sotto stringa di `s` che inizia all'indice `start` e termina all'indice `end-1`."
   ]
  },
  {
   "cell_type": "code",
   "execution_count": 19,
   "metadata": {},
   "outputs": [
    {
     "name": "stdout",
     "output_type": "stream",
     "text": [
      "ma non\n"
     ]
    }
   ],
   "source": [
    "a = \"Vorrei, ma non posto!\"\n",
    "print(a[8:14])"
   ]
  },
  {
   "cell_type": "markdown",
   "metadata": {},
   "source": [
    "Il secondo indice `end` non è compreso in modo tale che l'espressione `s[0:len(s)]` abbia il valore che uno si aspetta. Quest'ultima espressione è equivalente a `s[:]`. \n",
    "\n",
    "Se il primo indice viene omesso, di default assume il valore 0."
   ]
  },
  {
   "cell_type": "code",
   "execution_count": 20,
   "metadata": {},
   "outputs": [
    {
     "data": {
      "text/plain": [
       "'Vorrei'"
      ]
     },
     "execution_count": 20,
     "metadata": {},
     "output_type": "execute_result"
    }
   ],
   "source": [
    "a[:6]"
   ]
  },
  {
   "cell_type": "markdown",
   "metadata": {},
   "source": [
    "Se il secondo indice viene omesso, prende il valore di default `len(s)`."
   ]
  },
  {
   "cell_type": "code",
   "execution_count": 21,
   "metadata": {},
   "outputs": [
    {
     "data": {
      "text/plain": [
       "'orrei, ma non posto!'"
      ]
     },
     "execution_count": 21,
     "metadata": {},
     "output_type": "execute_result"
    }
   ],
   "source": [
    "a[1:]"
   ]
  },
  {
   "cell_type": "markdown",
   "metadata": {},
   "source": [
    "* Per le sequenze è possibile controllare se un elemento appartiene ad una sequenza usando la sintassi: `<elemento> in <sequenza>` che è un predicato che restituisce True o False:"
   ]
  },
  {
   "cell_type": "code",
   "execution_count": 22,
   "metadata": {},
   "outputs": [
    {
     "data": {
      "text/plain": [
       "False"
      ]
     },
     "execution_count": 22,
     "metadata": {},
     "output_type": "execute_result"
    }
   ],
   "source": [
    "'z' in a"
   ]
  },
  {
   "cell_type": "code",
   "execution_count": 23,
   "metadata": {},
   "outputs": [
    {
     "data": {
      "text/plain": [
       "False"
      ]
     },
     "execution_count": 23,
     "metadata": {},
     "output_type": "execute_result"
    }
   ],
   "source": [
    "# Distingue le maiuscole (case sensitive)\n",
    "'v' in a"
   ]
  },
  {
   "cell_type": "code",
   "execution_count": 24,
   "metadata": {},
   "outputs": [
    {
     "data": {
      "text/plain": [
       "True"
      ]
     },
     "execution_count": 24,
     "metadata": {},
     "output_type": "execute_result"
    }
   ],
   "source": [
    "'V' in a"
   ]
  },
  {
   "cell_type": "markdown",
   "metadata": {},
   "source": [
    "### Leggere stringhe in input\n",
    "È possibile prendere in input una stringa da tastiera usando il comando `input`:"
   ]
  },
  {
   "cell_type": "code",
   "execution_count": 25,
   "metadata": {},
   "outputs": [
    {
     "name": "stdout",
     "output_type": "stream",
     "text": [
      "Quanti anni hai? 3\n"
     ]
    }
   ],
   "source": [
    "n = input(\"Quanti anni hai? \")"
   ]
  },
  {
   "cell_type": "code",
   "execution_count": 26,
   "metadata": {},
   "outputs": [
    {
     "name": "stdout",
     "output_type": "stream",
     "text": [
      "3\n"
     ]
    }
   ],
   "source": [
    "print(n)"
   ]
  },
  {
   "cell_type": "code",
   "execution_count": 27,
   "metadata": {},
   "outputs": [
    {
     "data": {
      "text/plain": [
       "str"
      ]
     },
     "execution_count": 27,
     "metadata": {},
     "output_type": "execute_result"
    }
   ],
   "source": [
    "type(n)"
   ]
  },
  {
   "cell_type": "markdown",
   "metadata": {},
   "source": [
    "È possibile anche leggere un file di testo e memorizzare tutto il suo contenuto in un'unica stringa usando i due comandi:\n",
    "\n",
    "* `filehandle = open(filename, mod, encoding)`: la funzione apre il file con nome \"filename\"  in modalità \"mod\" e restituisce un riferimento al file \"filehandle\". Le modalità di apertura di un file sono: 'r'=lettura, 'w'=scrittura, 'a'=aggiunta. Il tipo di encoding serve per specificare il formato del file di testo; per file che contengono caratteri speciali (i.e., le lettere accentate italiane) si consiglia di usare encoding \"utf-8\". Si consiglia di leggere la [documentazione completa di open](https://docs.python.org/3/library/functions.html#open).\n",
    "\n",
    "* `s = filehandle.read()`: legge tutto il file a cui fa riferimento `filehandle` e ne memorizza il contenuto nella stringa `s`.\n",
    "\n",
    "**ESEMPIO:** Si controlli di avere il file \"canzone.txt\" nella directory corrente (usare il comando `ls`), e si eseguano i comandi seguenti:"
   ]
  },
  {
   "cell_type": "code",
   "execution_count": 28,
   "metadata": {},
   "outputs": [
    {
     "name": "stdout",
     "output_type": "stream",
     "text": [
      "Io lo so che cosa pensa tutta questa gente \n",
      "questo è vuoto dentro ma è pieno di sé \n",
      "Tutto il giorno non fa niente sta a letto con l’influencer \n",
      "“Ti chiedo una foto si ma non è per me” \n",
      "Poi ti insulto tanto per farci su due chiacchiere\n",
      "\n",
      "Citazioni su Baudelaire, anche se non so chi è \n",
      "Sono poco docile \n",
      "Non ho il sangue nobile \n",
      "So che qui chi ti disprezza compra i followers \n",
      "Comunque vada cara tu sei la mia Intifada \n",
      "Comunista con il Rolex di rifondazione Prada \n",
      "Con te peso le parole in un messaggio ho messo qualche spazio in più, che faccio? Lascio? \n",
      "\n",
      "Ti conosco da sempre, ma non ti ho mai capita \n",
      "E’ meglio così \n",
      "Sconosciuti da una vita \n",
      "E ogni giorno è per sempre, ogni giorno è finita \n",
      "Ma è bello così \n",
      "Sconosciuti da una vita \n",
      "\n",
      "Ricordo le canzoni, mai gli anniversari \n",
      "Ho un lavoro straordinario ma che impone straordinari \n",
      "Troppa gente pensa che sia sempre in ferie \n",
      "Si fa viaggi strani \n",
      "Io più conosco esseri umani più amo gli animali \n",
      "Vogliono solo fare foto, siamo dei trofei nei display \n",
      "La musica leggera pesa come un pachiderma \n",
      "Vogliono un supereroe ma senza i soldi di Bruce Wayne \n",
      "Quindi faccio l’eremita nella bat caverna \n",
      "Amare un che vive in un mondo fantasy, stile libro di Tolkien \n",
      "E una strada dissestata da sbalzi d’umore \n",
      "A volte t’accarezzo come Elsa di Frozen \n",
      "Non vorrei però ti ghiaccio il cuore \n",
      "\n",
      "Ti conosco da sempre, ma non ti ho mai capita \n",
      "E’ meglio così \n",
      "Sconosciuti da una vita \n",
      "E ogni giorno è per sempre, ogni giorno è finita \n",
      "Ma è bello così \n",
      "Sconosciuti da una vita \n",
      "\n",
      "Poi sono castelli in aria che diventano macerie\n",
      "Perché darsi tutto spesso è anche darsi suoi nervi \n",
      "Quante volte ci siamo gridati in faccia cattiverie \n",
      "Ma alla fine era tutto per finta come il wrestling \n",
      "Io non socantare \n",
      "Non trovo la nota giusta ma trovo la giusta nota vocale da mandare a te \n",
      "So che ci conosciamo da poco ma mi sembra che \n",
      "\n",
      "Ti conosco da sempre, ma non ti ho mai capita \n",
      "E’ meglio così \n",
      "Sconosciuti da una vita \n",
      "E ogni giorno è per sempre, ogni giorno è finita \n",
      "Ma è belo così \n",
      "Sconosciuti da una vita\n"
     ]
    }
   ],
   "source": [
    "fh = open('./canzone.txt', 'r', encoding=\"utf-8\")\n",
    "s = fh.read()\n",
    "print(s)"
   ]
  },
  {
   "cell_type": "code",
   "execution_count": 29,
   "metadata": {},
   "outputs": [
    {
     "name": "stdout",
     "output_type": "stream",
     "text": [
      "372\n"
     ]
    }
   ],
   "source": [
    "print(len(s.split(' ')))"
   ]
  },
  {
   "cell_type": "code",
   "execution_count": 30,
   "metadata": {},
   "outputs": [
    {
     "name": "stdout",
     "output_type": "stream",
     "text": [
      "['Io', 'lo', 'so', 'che', 'cosa', 'pensa', 'tutta', 'questa', 'gente', 'questo', 'è', 'vuoto', 'dentro', 'ma', 'è', 'pieno', 'di', 'sé', 'Tutto', 'il', 'giorno', 'non', 'fa', 'niente', 'sta', 'a', 'letto', 'con', 'l’influencer', '“Ti', 'chiedo', 'una', 'foto', 'si', 'ma', 'non', 'è', 'per', 'me”', 'Poi', 'ti', 'insulto', 'tanto', 'per', 'farci', 'su', 'due', 'chiacchiereCitazioni', 'su', 'Baudelaire,', 'anche', 'se', 'non', 'so', 'chi', 'è', 'Sono', 'poco', 'docile', 'Non', 'ho', 'il', 'sangue', 'nobile', 'So', 'che', 'qui', 'chi', 'ti', 'disprezza', 'compra', 'i', 'followers', 'Comunque', 'vada', 'cara', 'tu', 'sei', 'la', 'mia', 'Intifada', 'Comunista', 'con', 'il', 'Rolex', 'di', 'rifondazione', 'Prada', 'Con', 'te', 'peso', 'le', 'parole', 'in', 'un', 'messaggio', 'ho', 'messo', 'qualche', 'spazio', 'in', 'più,', 'che', 'faccio?', 'Lascio?', 'Ti', 'conosco', 'da', 'sempre,', 'ma', 'non', 'ti', 'ho', 'mai', 'capita', 'E’', 'meglio', 'così', 'Sconosciuti', 'da', 'una', 'vita', 'E', 'ogni', 'giorno', 'è', 'per', 'sempre,', 'ogni', 'giorno', 'è', 'finita', 'Ma', 'è', 'bello', 'così', 'Sconosciuti', 'da', 'una', 'vita', 'Ricordo', 'le', 'canzoni,', 'mai', 'gli', 'anniversari', 'Ho', 'un', 'lavoro', 'straordinario', 'ma', 'che', 'impone', 'straordinari', 'Troppa', 'gente', 'pensa', 'che', 'sia', 'sempre', 'in', 'ferie', 'Si', 'fa', 'viaggi', 'strani', 'Io', 'più', 'conosco', 'esseri', 'umani', 'più', 'amo', 'gli', 'animali', 'Vogliono', 'solo', 'fare', 'foto,', 'siamo', 'dei', 'trofei', 'nei', 'display', 'La', 'musica', 'leggera', 'pesa', 'come', 'un', 'pachiderma', 'Vogliono', 'un', 'supereroe', 'ma', 'senza', 'i', 'soldi', 'di', 'Bruce', 'Wayne', 'Quindi', 'faccio', 'l’eremita', 'nella', 'bat', 'caverna', 'Amare', 'un', 'che', 'vive', 'in', 'un', 'mondo', 'fantasy,', 'stile', 'libro', 'di', 'Tolkien', 'E', 'una', 'strada', 'dissestata', 'da', 'sbalzi', 'd’umore', 'A', 'volte', 't’accarezzo', 'come', 'Elsa', 'di', 'Frozen', 'Non', 'vorrei', 'però', 'ti', 'ghiaccio', 'il', 'cuore', 'Ti', 'conosco', 'da', 'sempre,', 'ma', 'non', 'ti', 'ho', 'mai', 'capita', 'E’', 'meglio', 'così', 'Sconosciuti', 'da', 'una', 'vita', 'E', 'ogni', 'giorno', 'è', 'per', 'sempre,', 'ogni', 'giorno', 'è', 'finita', 'Ma', 'è', 'bello', 'così', 'Sconosciuti', 'da', 'una', 'vita', 'Poi', 'sono', 'castelli', 'in', 'aria', 'che', 'diventano', 'maceriePerché', 'darsi', 'tutto', 'spesso', 'è', 'anche', 'darsi', 'suoi', 'nervi', 'Quante', 'volte', 'ci', 'siamo', 'gridati', 'in', 'faccia', 'cattiverie', 'Ma', 'alla', 'fine', 'era', 'tutto', 'per', 'finta', 'come', 'il', 'wrestling', 'Io', 'non', 'socantare', 'Non', 'trovo', 'la', 'nota', 'giusta', 'ma', 'trovo', 'la', 'giusta', 'nota', 'vocale', 'da', 'mandare', 'a', 'te', 'So', 'che', 'ci', 'conosciamo', 'da', 'poco', 'ma', 'mi', 'sembra', 'che', 'Ti', 'conosco', 'da', 'sempre,', 'ma', 'non', 'ti', 'ho', 'mai', 'capita', 'E’', 'meglio', 'così', 'Sconosciuti', 'da', 'una', 'vita', 'E', 'ogni', 'giorno', 'è', 'per', 'sempre,', 'ogni', 'giorno', 'è', 'finita', 'Ma', 'è', 'belo', 'così', 'Sconosciuti', 'da', 'una', 'vita']\n"
     ]
    }
   ],
   "source": [
    "print(s.replace('\\n','').split(' '))"
   ]
  },
  {
   "cell_type": "code",
   "execution_count": 31,
   "metadata": {},
   "outputs": [
    {
     "name": "stdout",
     "output_type": "stream",
     "text": [
      "['io', 'lo', 'so', 'che', 'cosa', 'pensa', 'tutta', 'questa', 'gente', 'questo', 'è', 'vuoto', 'dentro', 'ma', 'è', 'pieno', 'di', 'sé', 'tutto', 'il', 'giorno', 'non', 'fa', 'niente', 'sta', 'a', 'letto', 'con', 'l’influencer', '“ti', 'chiedo', 'una', 'foto', 'si', 'ma', 'non', 'è', 'per', 'me”', 'poi', 'ti', 'insulto', 'tanto', 'per', 'farci', 'su', 'due', 'chiacchierecitazioni', 'su', 'baudelaire,', 'anche', 'se', 'non', 'so', 'chi', 'è', 'sono', 'poco', 'docile', 'non', 'ho', 'il', 'sangue', 'nobile', 'so', 'che', 'qui', 'chi', 'ti', 'disprezza', 'compra', 'i', 'followers', 'comunque', 'vada', 'cara', 'tu', 'sei', 'la', 'mia', 'intifada', 'comunista', 'con', 'il', 'rolex', 'di', 'rifondazione', 'prada', 'con', 'te', 'peso', 'le', 'parole', 'in', 'un', 'messaggio', 'ho', 'messo', 'qualche', 'spazio', 'in', 'più,', 'che', 'faccio?', 'lascio?', 'ti', 'conosco', 'da', 'sempre,', 'ma', 'non', 'ti', 'ho', 'mai', 'capita', 'e’', 'meglio', 'così', 'sconosciuti', 'da', 'una', 'vita', 'e', 'ogni', 'giorno', 'è', 'per', 'sempre,', 'ogni', 'giorno', 'è', 'finita', 'ma', 'è', 'bello', 'così', 'sconosciuti', 'da', 'una', 'vita', 'ricordo', 'le', 'canzoni,', 'mai', 'gli', 'anniversari', 'ho', 'un', 'lavoro', 'straordinario', 'ma', 'che', 'impone', 'straordinari', 'troppa', 'gente', 'pensa', 'che', 'sia', 'sempre', 'in', 'ferie', 'si', 'fa', 'viaggi', 'strani', 'io', 'più', 'conosco', 'esseri', 'umani', 'più', 'amo', 'gli', 'animali', 'vogliono', 'solo', 'fare', 'foto,', 'siamo', 'dei', 'trofei', 'nei', 'display', 'la', 'musica', 'leggera', 'pesa', 'come', 'un', 'pachiderma', 'vogliono', 'un', 'supereroe', 'ma', 'senza', 'i', 'soldi', 'di', 'bruce', 'wayne', 'quindi', 'faccio', 'l’eremita', 'nella', 'bat', 'caverna', 'amare', 'un', 'che', 'vive', 'in', 'un', 'mondo', 'fantasy,', 'stile', 'libro', 'di', 'tolkien', 'e', 'una', 'strada', 'dissestata', 'da', 'sbalzi', 'd’umore', 'a', 'volte', 't’accarezzo', 'come', 'elsa', 'di', 'frozen', 'non', 'vorrei', 'però', 'ti', 'ghiaccio', 'il', 'cuore', 'ti', 'conosco', 'da', 'sempre,', 'ma', 'non', 'ti', 'ho', 'mai', 'capita', 'e’', 'meglio', 'così', 'sconosciuti', 'da', 'una', 'vita', 'e', 'ogni', 'giorno', 'è', 'per', 'sempre,', 'ogni', 'giorno', 'è', 'finita', 'ma', 'è', 'bello', 'così', 'sconosciuti', 'da', 'una', 'vita', 'poi', 'sono', 'castelli', 'in', 'aria', 'che', 'diventano', 'macerieperché', 'darsi', 'tutto', 'spesso', 'è', 'anche', 'darsi', 'suoi', 'nervi', 'quante', 'volte', 'ci', 'siamo', 'gridati', 'in', 'faccia', 'cattiverie', 'ma', 'alla', 'fine', 'era', 'tutto', 'per', 'finta', 'come', 'il', 'wrestling', 'io', 'non', 'socantare', 'non', 'trovo', 'la', 'nota', 'giusta', 'ma', 'trovo', 'la', 'giusta', 'nota', 'vocale', 'da', 'mandare', 'a', 'te', 'so', 'che', 'ci', 'conosciamo', 'da', 'poco', 'ma', 'mi', 'sembra', 'che', 'ti', 'conosco', 'da', 'sempre,', 'ma', 'non', 'ti', 'ho', 'mai', 'capita', 'e’', 'meglio', 'così', 'sconosciuti', 'da', 'una', 'vita', 'e', 'ogni', 'giorno', 'è', 'per', 'sempre,', 'ogni', 'giorno', 'è', 'finita', 'ma', 'è', 'belo', 'così', 'sconosciuti', 'da', 'una', 'vita']\n"
     ]
    }
   ],
   "source": [
    "print(s.lower().replace('\\n','').split(' '))"
   ]
  },
  {
   "cell_type": "markdown",
   "metadata": {},
   "source": [
    "In Python è anche molto semplice leggere delle pagine web e memorizzarle in una stringa. Per fare questo si deve usare la libreria `urllib.request` nel modo seguente:"
   ]
  },
  {
   "cell_type": "code",
   "execution_count": 32,
   "metadata": {},
   "outputs": [
    {
     "name": "stdout",
     "output_type": "stream",
     "text": [
      "[\"b'<!DOCTYPE\", 'html>\\\\n<html', 'lang=\"it\">\\\\n', '', '', '<head>\\\\n', '', '', '', '', '', '<meta', 'charset=\"utf-8\"', '/>\\\\n', '', '', '', '', '', '', '<meta', 'http-equiv=\"X-UA-Compatible\"', 'content=\"IE=edge\">\\\\n', '', '', '', '', '', '', '<meta', 'name=\"viewport\"', 'content=\"width=device-width,', 'initial-scale=1.0,', 'minimum-scale=1.0\">\\\\n', '', '', '', '', '', '', '<meta', 'name=\"description\"', 'content=\"Sito', 'per', 'il', 'corso', 'di', 'Programmazione', '1,', 'corso', 'introduttivo', 'alla', 'programmazione', 'per', 'matematici.\">\\\\n\\\\n', '', '', '', '', '', '<title>Programmazione', '1</title>\\\\n', '', '', '', '', '', '<link', 'rel=\"stylesheet\"', 'href=\"mypage.css\"', '/>\\\\n', '', '', '', '', '', '<script>\\\\n', '', '', '', '', '', '', '', '', \"(function(i,s,o,g,r,a,m){i[\\\\'GoogleAnalyticsObject\\\\']=r;i[r]=i[r]||function(){\\\\n\", '', '', '', '', '', '', '', '', '', '', '', '', '', '', '(i[r].q=i[r].q||[]).push(arguments)},i[r].l=1*new', 'Date();a=s.createElement(o),\\\\n', '', '', '', '', '', '', '', '', '', '', '', 'm=s.getElementsByTagName(o)[0];a.async=1;a.src=g;m.parentNode.insertBefore(a,m)\\\\n', '', '', '', '', '', '', '', '', \"})(window,document,\\\\'script\\\\',\\\\'https://www.google-analytics.com/analytics.js\\\\',\\\\'ga\\\\');\\\\n\\\\n\", '', '', '', '', '', '', '', '', \"ga(\\\\'create\\\\',\", \"\\\\'UA-34931940-1\\\\',\", \"\\\\'auto\\\\');\\\\n\", '', '', '', '', '', '', '', '', \"ga(\\\\'send\\\\',\", \"\\\\'pageview\\\\');\\\\n\", '', '', '', '', '', '</script>\\\\n', '', '', '', '', '', '<script', 'type=\"application/ld+json\">\\\\n', '', '', '', '', '', '', '', '', '{\\\\n', '', '', '', '', '', '', '', '', '', '', '', '\"@context\":', '\"http://schema.org\",\\\\n', '', '', '', '', '', '', '', '', '', '', '', '\"@type\":', '\"Person\",\\\\n', '', '', '', '', '', '', '', '', '', '', '', '\"name\":', '\"Stefano', 'Gualandi\",\\\\n', '', '', '', '', '', '', '', '', '', '', '', '\"url\":', '\"https://matematica.unipv.it/gualandi\",\\\\n', '', '', '', '', '', '', '', '', '', '', '', '\"sameAs\":', '[\\\\n', '', '', '', '', '', '', '', '', '', '', '', '\"http://www.linkedin.com/in/stefanogualandi\",\\\\n', '', '', '', '', '', '', '', '', '', '', '', '\"http://plus.google.com/+StefanoGualandi\",\\\\n', '', '', '', '', '', '', '', '', '', '', '', '\"http://twitter.com/famo2spaghi\"\\\\n', '', '', '', '', '', '', '', '', '', '', '', ']\\\\n', '', '', '', '', '', '', '', '', '}\\\\n', '', '', '', '', '', '</script>\\\\n', '', '', '', '', '', '<script', 'type=\"application/ld+json\">\\\\n', '', '', '', '', '', '', '', '', '{\\\\n', '', '', '', '', '', '', '', '', '', '', '', '\"@context\":', '\"http://schema.org\",\\\\n', '', '', '', '', '', '', '', '', '', '', '', '\"@type\":', '\"Course\",\\\\n', '', '', '', '', '', '', '', '', '', '', '', '\"name\":', '\"Programmazione', '1\",\\\\n', '', '', '', '', '', '', '', '', '', '', '', '\"description\":', '\"Corso', 'introduttivo', 'alla', 'programmazione', 'per', 'matematici\",\\\\n', '', '', '', '', '', '', '', '', '', '', '', '\"provider\":', '{\\\\n', '', '', '', '', '', '', '', '', '', '', '', '', '', '', '\"@type\":', '\"Organization\",\\\\n', '', '', '', '', '', '', '', '', '', '', '', '', '', '', '\"name\":', '\"Universit\\\\xc3\\\\xa0', 'degli', 'studi', 'di', 'Pavia,', 'Dipartimento', 'di', 'Matematica\",\\\\n', '', '', '', '', '', '', '', '', '', '', '', '', '', '', '\"sameAs\":', '\"http://matematica.unipv.it/\"\\\\n', '', '', '', '', '', '', '', '', '', '', '', '}\\\\n', '', '', '', '', '', '', '', '', '}\\\\n', '', '', '', '', '', '</script>\\\\n', '', '', '</head>\\\\n', '', '', '<body>\\\\n', '', '', '', '', '', '<section>\\\\n', '', '', '', '', '', '<heading>\\\\n', '', '', '', '', '', '<h1>Programmazione', '1</h1>\\\\n', '', '', '', '', '', '<h2><a', 'href=\"../index.html\">Home</a>', '-', '<a', 'href=\"../teaching/\">Teaching</a></h2>\\\\n', '', '', '', '', '', '</heading>\\\\n', '', '', '', '', '', '<hr>\\\\n', '', '', '', '', '', '<article>\\\\n', '', '', '', '', '', '<h2>Informazioni', 'per', 'gli', 'studenti</h2>\\\\n', '', '', '', '', '', '<p><b>AVVISI</b>:', 'Istruzioni', 'per', 'attivare', \"l\\\\'account\", 'nelle', 'aule', 'informatice', '(aule', 'C3', 'e', 'B2):', '<a', 'href=\"slides/AuleInformatiche.pdf\">Istruzioni</a></p>\\\\n', '', '', '', '', '', '<b>IMPORTANTE</b>:', 'in', 'laboratorio,', 'scaricare', 'i', 'notebooks', 'da', '<a', 'href=\"https://github.com/mathcoding/programming/tree/master/notebooks_v3\">questo', 'sito</a>.\\\\n', '', '', '', '', '', '<p>\\\\n', '', '', '', '', '', '<b>IMPORTANTE</b>:', 'per', 'chi', 'avesse', 'dei', 'problemi', 'ad', 'installare', 'Anaconda,', 'per', 'il', 'momento', \"puo\\\\'\", 'usare', 'questo', 'sito:', '<a', 'href=\"https://try.jupyter.org/\">Prova', 'Jupyter!</a></br>\\\\n', '', '', '', '', '', '</p>\\\\n', '', '', '', '', '', '<p>Per', 'chi', 'sa', 'usare', '<a', 'href=\"\">GitHub</a>,', 'tutto', 'il', 'materiale', \"e\\\\'\", 'anche', 'disponibile', 'nel', 'progetto', '<a', 'href=\"https://github.com/mathcoding/programming\">programming</a></p>\\\\n', '', '', '', '', '', '<p>\\\\n', '', '', '', '', '', '<b>ORARIO</b>', '\\\\n', '', '', '', '', '', '<ul>\\\\n', '', '', '', '', '', '', '', '', '<li>Mercoledi:', 'ore', '12h10/13h10,', 'Aula', 'C3</li>\\\\n', '', '', '', '', '', '', '', '', '<li>Giovedi:', 'ore', '11h10/13h10,', 'Aula', 'B2</li>\\\\n', '', '', '', '', '', '', '', '', '<li>Venerdi:', 'ore', '11h10/13h10,', 'Aula', 'C3', '(in', 'alcuni', 'giornate', 'particolari', 'Laboratorio', 'Didattico', 'al', 'Dip.', 'di', 'Matematica)</li>\\\\n', '', '', '', '', '', '</ul>\\\\n', '', '', '', '', '', 'Le', 'aule', 'C3', 'e', 'B2', 'si', 'trovano', 'a', 'ingegneria,', 'il', 'Laboratorio', 'Didattico', 'si', 'trova', 'la', 'piano', 'terreno', 'del', 'Dipartimento', 'di', 'Matematica.\\\\n', '', '', '', '', '', '</p>\\\\n', '', '', '', '', '', '<p>\\\\n', '', '', '', '', '', '<b>ORARIO', 'RICEVIMENTO</b>:', 'Primo', 'semestre', 'A.A.', '2017/2018,', 'il', 'giovedi', 'dalle', '14h00', 'alle', '15h00.', 'Negli', 'altri', 'giorni', 'della', 'settimana,', 'si', 'riceve', 'su', 'appuntamento,', 'da', 'richiedere', 'via', 'email.\\\\n', '', '', '', '', '', '</p>\\\\n', '', '', '', '', '', \"<p>E\\\\'\", 'sempre', 'possibile', 'mandare', 'in', 'modo', 'anonimo', 'delle', 'domande', 'al', 'docente', 'usando', 'questo', '<a', 'href=\"https://goo.gl/forms/Mlgd2PD7DPvN3fRp1\">FORM</a></p>\\\\n', '', '', '', '', '', '<p>\\\\n', '', '', '', '', '', '<b>LIBRO', 'DI', 'TESTO', 'CONSIGLIATO:</b>\\\\n', '', '', '', '', '', '<ul>\\\\n', '', '', '', '', '', '', '', '', '<li><a', 'href=\"https://mitpress.mit.edu/books/introduction-computation-and-programming-using-python-1\">Introduction', 'to', 'Computation', 'and', 'Programming', 'Using', 'Python', '-', 'With', 'Application', 'to', 'Understanding', 'Data</a>,', 'by', 'John', 'V.', 'Guttag.', 'MIT', 'Press', '(second', 'edition).</li>\\\\n', '', '', '', '', '', '</ul>\\\\n', '', '', '', '', '', '</p>\\\\n', '', '', '', '', '', '<p>\\\\n', '', '', '', '', '', '<b>MODALITA`', 'DI', 'ESAME</b>', '\\\\n', '', '', '', '', '', '<ul>\\\\n', '', '', '', '', '', '', '', '', \"<li>L\\\\'esame\", 'consiste', 'in', 'una', 'prova', 'pratica', 'al', 'computer', 'della', 'durata', 'di', '2', 'ore,', 'in', 'cui', 'si', 'richiede', 'di', 'scrivere', 'un', 'programma', 'in', 'Python', 'che', 'implementi\\\\n', '', '', '', '', '', '', '', '', 'gli', 'algoritmi', 'necessari', 'a', 'risolvere', 'i', 'problemi', 'proposti.', \"L\\\\'obiettivo\", \"dell\\\\'esame\", \"e\\\\'\", 'verificare', 'che', 'lo', 'studente', 'abbia', 'acquisito', 'le', 'conoscenze', 'teoriche', 'e', 'pratiche', 'presentate', 'a', 'lezione.</li>\\\\n', '', '', '', '', '', '</ul>\\\\n', '', '', '', '', '', '</p>\\\\n', '', '', '', '', '', '<p>\\\\n', '', '', '', '', '', '<b>APPELLI', 'A.A.', '2017/18</b>:', '\\\\n', '', '', '', '', '', '<ul>\\\\n', '', '', '', '', '', '', '', '', '<li>18', 'gennario', '2018,', 'ore', '11h30', 'aula', 'B2</li>\\\\n', '', '', '', '', '', '', '', '', '<li>22', 'febbraio', '2018,', 'ore', '9h00', 'aula', 'B2</li>\\\\n', '', '', '', '', '', '</ul>\\\\n', '', '', '', '', '', '</p>\\\\n', '', '', '', '', '', '<hr>\\\\n', '', '', '', '', '', '</article>\\\\n\\\\n', '', '', '', '', '', '<article>\\\\n', '', '', '', '', '', '<h2>Materiale', 'didattico</h2>\\\\n', '', '', '', '', '', '<p>\\\\n', '', '', '', '', '', '<b>IMPORTANTE</b>:', 'in', 'laboratorio,', 'scaricare', 'i', 'notebooks', 'da', '<a', 'href=\"https://github.com/mathcoding/programming/tree/master/notebooks_v3\">questo', 'sito</a>.\\\\n', '', '', '', '', '', '</p>\\\\n', '', '', '', '', '', '<p>Si', 'consiglia', 'di', 'usare', '<a', 'href=\"https://github.com/\">GitHub</a>', 'e', '<a', 'href=\"https://desktop.github.com/\">GitHub', 'Desktop</a>', 'per', 'rimanere', 'aggiornati', 'su', 'tutto', 'il', 'materiale', 'usato', 'a', 'lezione', 'e', 'caricato', 'nel', 'progetto:', '<a', 'href=\"https://github.com/mathcoding/programming\">programming</a>\\\\n', '', '', '', '', '', '</p>\\\\n', '', '', '', '', '', '<p>\\\\n', '', '', '', '', '', 'Materiale', 'usato', 'a', 'lezione:\\\\n', '', '', '', '', '', '<ul>\\\\n', '', '', '', '', '', '', '', '', '<li><b>[8', 'novembre', '2017]:</b>', 'Soluzioni', 'Esercitazione', '4:', '<a', 'href=\"https://github.com/mathcoding/programming/blob/master/scripts/pairslist.py\">pairslist.py</a>', '(servono', 'anche', 'pairslist_impl.py', 'e', 'pairslist_array.py)</li>\\\\n', '', '', '', '', '', '', '', '', '<li><b>[3', 'novembre', '2017]:</b>', '<a', 'href=\"https://github.com/mathcoding/programming/blob/master/latex/esercitazioni/es_4.pdf\">Esercitazione', '4</a></li>', '\\\\n', '', '', '', '', '', '', '', '', '<li><b>[2', 'novembre', '2017]:</b>', '<a', 'href=\"https://github.com/mathcoding/programming/blob/master/scripts/Soluzioni_es_3.py\">Soluzione_es_3.py</a>', '-\\\\n', '', '', '', '', '', '', '', '', '<a', 'href=\"https://github.com/mathcoding/programming/blob/master/scripts/pairslist.py\">pairlist.py</a>', '-\\\\n', '', '', '', '', '', '', '', '', '<a', 'href=\"https://github.com/mathcoding/programming/blob/master/scripts/pairslist_impl.py\">pairlist_impl.py</a>', '-\\\\n', '', '', '', '', '', '', '', '', '<a', 'href=\"https://github.com/mathcoding/programming/blob/master/scripts/pairslist_array.py\">pairlist_array.py</a>\\\\n', '', '', '', '', '', '', '', '', '</li>\\\\n', '', '', '', '', '', '', '', '', '<li><b>[27', 'ottobre', '2017]:</b>', '<a', 'href=\"https://github.com/mathcoding/programming/blob/master/latex/esercitazioni/es_3.pdf\">Esercitazione', '3</a>', '-', '\\\\n', '', '', '', '', '', '', '', '', '<a', 'href=\"http://mate.unipv.it/~gualandi/programming/slides/GitHub_and_Spyder.pdf\">Slides', 'di', 'supporto</a>', '-', '\\\\n', '', '', '', '', '', '', '', '', '<a', 'href=\"https://github.com/mathcoding/programming/blob/master/scripts/pairslist.py\">pairslist.py</a></li>\\\\n', '', '', '', '', '', '', '', '', '<li><b>[26', 'ottobre', '2017]:</b>', '\\\\n', '', '', '', '', '', '', '', '', '<a', 'href=\"http://mate.unipv.it/~gualandi/programming/slides/BoxAndPointer.pdf\">Slides', 'di', 'supporto</a>', '-', '\\\\n', '', '', '', '', '', '', '', '', '<a', 'href=\"http://mate.unipv.it/~gualandi/programming/notebooks/Lab%208.ipynb\">Notebook', '-', 'Lab', '8</a>', '-', '\\\\n', '', '', '', '', '', '', '', '', '<a', 'href=\"http://mate.unipv.it/~gualandi/programming/notebooks/Lab%209.ipynb\">Notebook', '-', 'Lab', '9</a></li>\\\\n', '', '', '', '', '', '', '', '', '<li><b>[25', 'ottobre', '2017]:</b>', '<a', 'href=\"https://github.com/mathcoding/programming/blob/master/latex/soluzioni/sol_es_2.pdf\">Soluzioni', 'Esercitazione', '2</a>', '-\\\\n', '', '', '', '', '', '', '', '', '<a', 'href=\"https://github.com/mathcoding/programming/blob/master/scripts/Soluzioni_es_2.py\">Soluzione_es_2.py</a></li>\\\\n', '', '', '', '', '', '', '', '', '<li><b>[20', 'ottobre', '2017]:</b>', '<a', 'href=\"http://mate.unipv.it/~gualandi/programming/notebooks/Lab%207.ipynb\">Notebook', '-', 'Lab', '6</a>', '-', '<a', 'href=\"https://github.com/mathcoding/programming/blob/master/latex/esercitazioni/es_2.pdf\">Esercitazione', '2</a></li>\\\\n', '', '', '', '', '', '', '', '', '<li><b>[19', 'ottobre', '2017]:</b>', '<a', 'href=\"https://github.com/mathcoding/programming/blob/master/slides/GraficiFunzioni.pdf\">Slides', 'Grafico', 'di', 'Funzioni</a>', '-\\\\n', '', '', '', '', '', '', '', '', '<a', 'href=\"http://mate.unipv.it/~gualandi/programming/notebooks/Lab%205.ipynb\">Notebook', '-', 'Lab', '5</a>,', '\\\\n', '', '', '', '', '', '', '', '', '<a', 'href=\"http://mate.unipv.it/~gualandi/programming/notebooks/Lab%206.ipynb\">Notebook', '-', 'Lab', '6</a></li>\\\\n', '', '', '', '', '', '', '', '', '<li><b>[18', 'ottobre', '2017]:</b>', '<a', 'href=\"https://github.com/mathcoding/programming/blob/master/latex/soluzioni/sol_es_1.pdf\">Soluzioni', 'Esercitazione', '1</a>', '-\\\\n', '', '', '', '', '', '', '', '', '<a', 'href=\"https://github.com/mathcoding/programming/blob/master/scripts/Soluzioni_es_1.py\">Soluzione_es_1.py</a>', '-\\\\n', '', '', '', '', '', '', '', '', '<a', 'href=\"https://github.com/mathcoding/programming/blob/master/slides/WrapUp.pdf\">Slides', 'di', 'riassunto</a>\\\\n', '', '', '', '', '', '', '', '', '<li><b>[13', 'ottobre', '2017]:</b>', '<a', 'href=\"https://github.com/mathcoding/programming/blob/master/latex/esercitazioni/es_1.pdf\">Esercitazione', '1</a>\\\\n', '', '', '', '', '', '', '', '', '<li><b>[12', 'ottobre', '2017]:</b>', '\\\\n', '', '', '', '', '', '', '', '', '<a', 'href=\"http://mate.unipv.it/~gualandi/programming/notebooks/Lab%204.ipynb\">Notebook', '-', 'Lab', '4</a></li>\\\\n', '', '', '', '', '', '', '', '', '<li><b>[11', 'ottobre', '2017]:</b>', '\\\\n', '', '', '', '', '', '', '', '', '<a', 'href=\"http://mate.unipv.it/~gualandi/programming/notebooks/Lab%203.ipynb\">Notebook', '-', 'Lab', '3</a></li>\\\\n', '', '', '', '', '', '', '', '', '<li><b>[06', 'ottobre', '2017]:</b>', '\\\\n', '', '', '', '', '', '', '', '', '<a', 'href=\"http://mate.unipv.it/~gualandi/programming/notebooks/Lab%202.ipynb\">Notebook', '-', 'Lab', '2</a></li>\\\\n', '', '', '', '', '', '', '', '', '<li><b>[05', 'ottobre', '2017]:</b>', '\\\\n', '', '', '', '', '', '', '', '', '<a', 'href=\"http://mate.unipv.it/~gualandi/programming/notebooks/Introduzione%20ai%20notebooks.ipynb\">Notebook', 'di', 'prova</a>\\\\n', '', '', '', '', '', '', '', '', '<a', 'href=\"http://mate.unipv.it/~gualandi/programming/notebooks/Lab%201.ipynb\">Notebook', '-', 'Lab', '1</a></li>\\\\n', '', '', '', '', '', '', '', '', '<li><b>[04', 'ottobre', '2017]:</b>', '\\\\n', '', '', '', '', '', '', '', '', '<a', 'href=\"http://mate.unipv.it/~gualandi/programming/slides/Introduzione.pdf\">Introduzione', 'al', 'corso</a></li>\\\\n', '', '', '', '', '', '</ul>\\\\n', '', '', '', '', '', '</p>\\\\n', '', '', '', '', '', '<p>\\\\n', '', '', '', '', '', 'Soluzioni', 'esercizi', 'facoltativi:\\\\n', '', '', '', '', '', '<ul>\\\\n', '', '', '', '', '', '', '', '', '<li><b>CHALLENGE', '1:</b>', '<a', 'href=\"https://github.com/mathcoding/programming/blob/master/scripts/cambio_monete.py\">cambio_monete.py</a></li>\\\\n', '', '', '', '', '', '</ul>\\\\n', '', '', '', '', '', '</p>\\\\n', '', '', '', '', '', '<p>\\\\n', '', '', '', '', '', '<h3>Altri', 'Libri', 'Consigliati</h3>\\\\n', '', '', '', '', '', '<ul>\\\\n', '', '', '', '', '', '', '', '', '<li><a', 'href=\"https://mitpress.mit.edu/sites/default/files/6515.pdf\">Structure', 'and', 'Interpretation', 'of', 'Computer', 'Programs</a>,', 'by', 'H.', 'Abelson,', 'G.S.Sussman,', 'J.', 'Sussman.', 'MIT', 'Press', '(second', 'edition).</li>\\\\n', '', '', '', '', '', '', '', '', '<li><a', 'href=\"http://www.cs.nott.ac.uk/~pszgmh/pih.html\">Programming', 'in', 'Haskell</a>,', 'by', 'Graham', 'Hutton.', 'Cambridge', 'University', 'Press', '(second', 'edition).</li>\\\\n', '', '', '', '', '', '</ul>\\\\n', '', '', '', '', '', '</p>\\\\n', '', '', '', '', '', '<p>\\\\n', '', '', '', '', '', '<h3>Letture', 'Consigliate</h3>\\\\n', '', '', '', '', '', '</p>\\\\n', '', '', '', '', '', '<hr>\\\\n', '', '', '', '', '', '</article>\\\\n\\\\n', '', '', '', '', '', '<article>\\\\n', '', '', '', '', '', '<h2>Links', 'Utili</h2>\\\\n', '', '', '', '', '', '<p>\\\\n', '', '', '', '', '', '<ul>\\\\n', '', '', '', '', '', '', '', '', '<li><a', 'href=\"https://developers.google.com/open-source/gsoc/\">Google', 'Summer', 'of', 'Code</a></li>\\\\n', '', '', '', '', '', '', '', '', '<li><a', 'href=\"https://www.numfocus.org/\">NumFOCUS:', 'Open', 'Source', '=', 'Better', 'Science</a></li>\\\\n', '', '', '', '', '', '', '', '', '<li>Versione', 'di', 'Python', 'consigliata:', '<a', 'href=\"https://www.continuum.io/downloads\">Anaconda</a></li>\\\\n', '', '', '', '', '', '', '', '', '<li>Applicazione', 'per', 'connettersi', 'a', 'GitHub:', '<a', 'href=\"https://desktop.github.com/\">GitHub', 'Desktop</a>\\\\n', '', '', '', '', '', '', '', '', '<li><a', 'href=\"https://education.github.com/pack\">GitHub', 'Student', 'Pack</a></li>\\\\n', '', '', '', '', '', '', '', '', '<li>Documentazione', 'ufficiale', 'di', 'Python', '3.x:', '<a', 'href=\"https://docs.python.org/3/\">docs</a>\\\\n', '', '', '', '', '', '</ul>\\\\n', '', '', '', '', '', '</p>\\\\n', '', '', '', '', '', '<hr>\\\\n', '', '', '', '', '', '</article>\\\\n', '', '', '', '', '', '</section>\\\\n', '', '', \"</body>\\\\n</html>\\\\n'\"]\n"
     ]
    }
   ],
   "source": [
    "import urllib.request\n",
    "with urllib.request.urlopen('http://matematica.unipv.it/gualandi/programming/') as response:\n",
    "   pagina_corso = str(response.read())\n",
    "\n",
    "print(pagina_corso.split(' '))"
   ]
  },
  {
   "cell_type": "markdown",
   "metadata": {},
   "source": [
    "Per maggiori dettagli per la lettura di pagine web, si consiglia leggere la documentazione della libraria [urllib](https://docs.python.org/3/howto/urllib2.html)."
   ]
  },
  {
   "cell_type": "markdown",
   "metadata": {},
   "source": [
    "### Definizione di procedure su stringhe"
   ]
  },
  {
   "cell_type": "markdown",
   "metadata": {},
   "source": [
    "**ESERCIZIO:** Scrivere una funzione che prende in input una stringa e stampi a video un carattere alla volta."
   ]
  },
  {
   "cell_type": "code",
   "execution_count": 35,
   "metadata": {},
   "outputs": [
    {
     "name": "stdout",
     "output_type": "stream",
     "text": [
      "a # b # c # d # e # a - b - c - d - e - "
     ]
    }
   ],
   "source": [
    "def SinglePrint(s):\n",
    "    if len(s) > 0:\n",
    "        head, tail = s[0], s[1:]\n",
    "        print(head, end=' # ')\n",
    "        SinglePrint(tail)\n",
    "\n",
    "SinglePrint('abcde')\n",
    "\n",
    "for t in 'abcde':\n",
    "    print (t, end = ' - ')"
   ]
  },
  {
   "cell_type": "code",
   "execution_count": 36,
   "metadata": {},
   "outputs": [
    {
     "name": "stdout",
     "output_type": "stream",
     "text": [
      "V # o # r # r # e # i # , #   # m # a #   # n # o # n #   # p # o # s # t # o # ! # "
     ]
    }
   ],
   "source": [
    "def SinglePrint2(s):\n",
    "    def Helper(i, n):\n",
    "        if i < n:\n",
    "            print(s[i], end=' # ')\n",
    "            Helper(i+1, n)\n",
    "    Helper(0, len(s))\n",
    "SinglePrint2(a)"
   ]
  },
  {
   "cell_type": "markdown",
   "metadata": {},
   "source": [
    "Per semplificare la scrittura di procedure che devono essere applicate a ciascun elemento di una sequenza si introduce la **SINTASSI** seguente:\n",
    "\n",
    "```\n",
    "for <elemento> in <sequenza>:\n",
    "    <body>  # in cui si usa l'elemento\n",
    "```\n",
    "\n",
    "e quindi possiamo scrivere:"
   ]
  },
  {
   "cell_type": "code",
   "execution_count": 37,
   "metadata": {},
   "outputs": [
    {
     "name": "stdout",
     "output_type": "stream",
     "text": [
      "a # b # c # d # e # "
     ]
    }
   ],
   "source": [
    "for c in 'abcde':\n",
    "    print(c, end=' # ')"
   ]
  },
  {
   "cell_type": "markdown",
   "metadata": {},
   "source": [
    "**NOTA:** Il comando `print` ha due parametri opzionali:\n",
    "\n",
    "1. `end`: specifica il carattere da usare per terminare la stampa della stringa. Di default è uguale al carattere di ritorno a capo `\\n`.\n",
    "2. `sep`: specifica il carattere da usare per separare più stringhe. Di default è uguale ad uno spazio."
   ]
  },
  {
   "cell_type": "code",
   "execution_count": 38,
   "metadata": {},
   "outputs": [
    {
     "name": "stdout",
     "output_type": "stream",
     "text": [
      "uno-->due-->tre!!!"
     ]
    }
   ],
   "source": [
    "print('uno','due','tre', sep='-->', end='!!!')"
   ]
  },
  {
   "cell_type": "markdown",
   "metadata": {},
   "source": [
    "### Funzioni builtin per le stringhe\n",
    "I seguenti metodi sono tutti molto utili e restituiscono delle nuove stringhe lasciando la stringa iniziale immutata:\n",
    "\n",
    "* `s.count(s1)`: conta qualche volte la stringa `s1` è contenuta in `s`\n",
    "* `s.find(s1)`: restituisce l'indice della stringa `s` in cui ha trovato per la prima volta la stringa `s1`; altrimenti restituisce -1\n",
    "* `s.rfind(s1)`: come sopra, ma inizia dalla fine di `s` (la `r` sta per `reversed`)\n",
    "* `s.lower()`: converte tutte le lettere in minuscolo\n",
    "* `s.upper()`: converte tutte le lettere in maiuscolo\n",
    "* `s.replace(old,new)`: sostituisce tutte le sotto stringhe uguali a `old` in `s` con la stringa `new`\n",
    "* `s.strip()`: rimuove tutti i caratteri blanks iniziali e finali dalla stringa `s`\n",
    "* `s.rstrip()`: rimuove tutti i caratteri blanks finali dalla stringa `s`\n",
    "* `s.split(d)`: suddivide la stringa in sotto stringhe usando il carattere `d` come separatore"
   ]
  },
  {
   "cell_type": "code",
   "execution_count": null,
   "metadata": {},
   "outputs": [],
   "source": [
    "'ciao'.upper()"
   ]
  },
  {
   "cell_type": "code",
   "execution_count": 39,
   "metadata": {},
   "outputs": [
    {
     "data": {
      "text/plain": [
       "'  ciao - -'"
      ]
     },
     "execution_count": 39,
     "metadata": {},
     "output_type": "execute_result"
    }
   ],
   "source": [
    "'  ciao - - '.rstrip()"
   ]
  },
  {
   "cell_type": "code",
   "execution_count": 40,
   "metadata": {},
   "outputs": [
    {
     "data": {
      "text/plain": [
       "'ciao - -'"
      ]
     },
     "execution_count": 40,
     "metadata": {},
     "output_type": "execute_result"
    }
   ],
   "source": [
    "'  ciao - - '.strip()"
   ]
  },
  {
   "cell_type": "code",
   "execution_count": 41,
   "metadata": {},
   "outputs": [
    {
     "ename": "ValueError",
     "evalue": "invalid literal for int() with base 10: 'c'",
     "output_type": "error",
     "traceback": [
      "\u001b[0;31m---------------------------------------------------------------------------\u001b[0m",
      "\u001b[0;31mValueError\u001b[0m                                Traceback (most recent call last)",
      "\u001b[0;32m<ipython-input-41-acab335649b2>\u001b[0m in \u001b[0;36m<module>\u001b[0;34m()\u001b[0m\n\u001b[0;32m----> 1\u001b[0;31m \u001b[0mint\u001b[0m\u001b[0;34m(\u001b[0m\u001b[0;34m'c'\u001b[0m\u001b[0;34m)\u001b[0m\u001b[0;34m\u001b[0m\u001b[0m\n\u001b[0m",
      "\u001b[0;31mValueError\u001b[0m: invalid literal for int() with base 10: 'c'"
     ]
    }
   ],
   "source": [
    "int('c')"
   ]
  },
  {
   "cell_type": "markdown",
   "metadata": {},
   "source": [
    "### Conversione di caratteri in interi e di interi in caratteri\n",
    "In Python non esiste un tipo di dati specifico per identificare un singolo carattere. Tuttavia è possibile convertire un carattere nel suo corrispondente [codice ASCII](https://en.wikipedia.org/wiki/ASCII) usando la funzione `ord(s)` in cui `s` è una stringa di lunghezza 1.\n",
    "\n",
    "**ESEMPIO:** Stampa a video dei codici ASCII per le lettere minuscole dell'alfabeto:"
   ]
  },
  {
   "cell_type": "code",
   "execution_count": 42,
   "metadata": {},
   "outputs": [
    {
     "name": "stdout",
     "output_type": "stream",
     "text": [
      "('A', 65), ('B', 66), ('C', 67), ('D', 68), ('E', 69), ('F', 70), ('G', 71), ('H', 72), ('I', 73), ('J', 74), ('K', 75), ('L', 76), ('M', 77), ('N', 78), ('O', 79), ('P', 80), ('Q', 81), ('R', 82), ('S', 83), ('T', 84), ('U', 85), ('V', 86), ('W', 87), ('X', 88), ('Y', 89), ('Z', 90), "
     ]
    }
   ],
   "source": [
    "for c in 'abcdefghijklmnopqrstuvwxyz'.upper():\n",
    "    print((c, ord(c)), end=', ')"
   ]
  },
  {
   "cell_type": "markdown",
   "metadata": {},
   "source": [
    "**ESERCIZIO:** Una [palindrome](https://it.wikipedia.org/wiki/Palindromo) è una sequenza di caratteri che si legge allo stesso modo in entrambi i sensi. Scrivere un predicato che prende in input una stringa e restituisce `True` se la stringa è una palindrome, e `False` altrimenti. Testare il predicato scritto con le stringhe seguenti."
   ]
  },
  {
   "cell_type": "code",
   "execution_count": 51,
   "metadata": {},
   "outputs": [
    {
     "data": {
      "text/plain": [
       "False"
      ]
     },
     "execution_count": 51,
     "metadata": {},
     "output_type": "execute_result"
    }
   ],
   "source": [
    "s1 = \"aibofobia\"\n",
    "s2 = \"satorarepotenetoperarotas\"\n",
    "s3 = \"aiboifobia\"\n",
    "\n",
    "def Palindromo(S):\n",
    "    for i in range(len(S)):\n",
    "        if i >= len(S)-i:\n",
    "            return True\n",
    "        if S[i] != S[-i-1]:\n",
    "            return False\n",
    "            \n",
    "    \n",
    "        \n",
    "Palindromo(s3)"
   ]
  },
  {
   "cell_type": "markdown",
   "metadata": {},
   "source": [
    "## Le tuple\n",
    "Le tuple, come le stringhe, sono delle sequenze *non modificabili* di elementi. A differenza delle stringhe non abbiamo nessun vincolo particolare sul **tipo** degli elementi che appaiono nella sequenza, e possono anche essere tutti diversi tra loro."
   ]
  },
  {
   "cell_type": "code",
   "execution_count": 52,
   "metadata": {},
   "outputs": [
    {
     "name": "stdout",
     "output_type": "stream",
     "text": [
      "(1, 2.3, 'cool!', False)\n"
     ]
    }
   ],
   "source": [
    "t = (1, 2.3, 'cool!', False)\n",
    "print(t)"
   ]
  },
  {
   "cell_type": "markdown",
   "metadata": {},
   "source": [
    "La \"coppia\" che abbiamo usato per costruire la nostra libreria `pairslist` è un caso particolare di tupla con lunghezza pari a due.\n",
    "\n",
    "Sulle tuple, essendo delle SEQUENZE, possiamo applicare gli stessi operatori di base che abbiamo visto per le stringhe:"
   ]
  },
  {
   "cell_type": "code",
   "execution_count": 53,
   "metadata": {},
   "outputs": [
    {
     "name": "stdout",
     "output_type": "stream",
     "text": [
      "4\n"
     ]
    }
   ],
   "source": [
    "# Uso della funzione `len`\n",
    "print(len(t))"
   ]
  },
  {
   "cell_type": "code",
   "execution_count": 54,
   "metadata": {},
   "outputs": [
    {
     "name": "stdout",
     "output_type": "stream",
     "text": [
      "cool!\n"
     ]
    }
   ],
   "source": [
    "# Accesso diretto ad un elemento\n",
    "print(t[2])"
   ]
  },
  {
   "cell_type": "code",
   "execution_count": 55,
   "metadata": {},
   "outputs": [
    {
     "name": "stdout",
     "output_type": "stream",
     "text": [
      "(2.3,)\n"
     ]
    }
   ],
   "source": [
    "# Gli operatori di slicing\n",
    "print(t[1:2])"
   ]
  },
  {
   "cell_type": "code",
   "execution_count": 56,
   "metadata": {},
   "outputs": [
    {
     "name": "stdout",
     "output_type": "stream",
     "text": [
      "False\n",
      "False\n"
     ]
    }
   ],
   "source": [
    "# Test di appartenenza\n",
    "print('c' in t)\n",
    "print('2.3' in t)"
   ]
  },
  {
   "cell_type": "code",
   "execution_count": 57,
   "metadata": {},
   "outputs": [
    {
     "name": "stdout",
     "output_type": "stream",
     "text": [
      "1\n",
      "2.3\n",
      "cool!\n",
      "False\n"
     ]
    }
   ],
   "source": [
    "# Supporto del costrutto <for>\n",
    "for e in t:\n",
    "    print(e)"
   ]
  },
  {
   "cell_type": "code",
   "execution_count": 58,
   "metadata": {},
   "outputs": [
    {
     "name": "stdout",
     "output_type": "stream",
     "text": [
      "concatenazione: (1, 2.3, 'cool!', False, 'prova', 'prova')\n"
     ]
    }
   ],
   "source": [
    "# Concatenazione\n",
    "t2 = ('prova', 'prova')\n",
    "print('concatenazione:', t+t2)"
   ]
  },
  {
   "cell_type": "code",
   "execution_count": 59,
   "metadata": {},
   "outputs": [
    {
     "name": "stdout",
     "output_type": "stream",
     "text": [
      "repetition: ('prova', 'prova', 'prova', 'prova', 'prova', 'prova')\n"
     ]
    }
   ],
   "source": [
    "# Repetition\n",
    "print('repetition:',t2*3)"
   ]
  },
  {
   "cell_type": "markdown",
   "metadata": {},
   "source": [
    "**NOTA:** Per definire una tuple di lunghezza pari a uno, ovvero di un singolo elemento, bisogna usare la strana sintassi `(1,)`: si noti la virgola dopo l'uno."
   ]
  },
  {
   "cell_type": "code",
   "execution_count": 61,
   "metadata": {},
   "outputs": [
    {
     "name": "stdout",
     "output_type": "stream",
     "text": [
      "<class 'int'> <class 'tuple'>\n",
      "1 (1,)\n"
     ]
    }
   ],
   "source": [
    "a=(1)\n",
    "b=(1,)\n",
    "print(type(a), type(b))\n",
    "print (a, b)"
   ]
  },
  {
   "cell_type": "markdown",
   "metadata": {},
   "source": [
    "**ESERCIZIO 2:** Scrivere una funzione che prende in input due tuple e restituisce una tupla che contiene gli elementi che sono sia nella prima che nella seconda tupla. Scrivere anche una funzione di test che comprenda qualche caso significativo."
   ]
  },
  {
   "cell_type": "code",
   "execution_count": 66,
   "metadata": {},
   "outputs": [
    {
     "name": "stdout",
     "output_type": "stream",
     "text": [
      "Test zero: ok\n"
     ]
    }
   ],
   "source": [
    "def Intersect(As, Bs):\n",
    "    Rs = tuple()\n",
    "    for i in As:\n",
    "        if i in Bs and not i in Rs:\n",
    "            Rs = Rs + (i,)\n",
    "    return Rs\n",
    "\n",
    "def TestZero():\n",
    "    if Intersect((2,3,4,2,1,2,7), (2,3,2,3,4)) == (2, 3, 4):\n",
    "        return 'ok'\n",
    "    return 'failed'\n",
    "\n",
    "print('Test zero: '+TestZero())\n",
    "# Intersect((2,3,4,2,1,2,7), (2,3,2,3,4): (2, 3, 4)"
   ]
  },
  {
   "cell_type": "code",
   "execution_count": 67,
   "metadata": {},
   "outputs": [
    {
     "data": {
      "text/plain": [
       "2.3"
      ]
     },
     "execution_count": 67,
     "metadata": {},
     "output_type": "execute_result"
    }
   ],
   "source": [
    "t[1]"
   ]
  },
  {
   "cell_type": "code",
   "execution_count": 68,
   "metadata": {},
   "outputs": [
    {
     "ename": "TypeError",
     "evalue": "'tuple' object does not support item assignment",
     "output_type": "error",
     "traceback": [
      "\u001b[0;31m---------------------------------------------------------------------------\u001b[0m",
      "\u001b[0;31mTypeError\u001b[0m                                 Traceback (most recent call last)",
      "\u001b[0;32m<ipython-input-68-91448c5f771b>\u001b[0m in \u001b[0;36m<module>\u001b[0;34m()\u001b[0m\n\u001b[0;32m----> 1\u001b[0;31m \u001b[0mt\u001b[0m\u001b[0;34m[\u001b[0m\u001b[0;36m1\u001b[0m\u001b[0;34m]\u001b[0m \u001b[0;34m=\u001b[0m \u001b[0;36m3\u001b[0m\u001b[0;34m\u001b[0m\u001b[0m\n\u001b[0m",
      "\u001b[0;31mTypeError\u001b[0m: 'tuple' object does not support item assignment"
     ]
    }
   ],
   "source": [
    "t[1] = 3"
   ]
  },
  {
   "cell_type": "code",
   "execution_count": 69,
   "metadata": {},
   "outputs": [
    {
     "ename": "TypeError",
     "evalue": "'str' object does not support item assignment",
     "output_type": "error",
     "traceback": [
      "\u001b[0;31m---------------------------------------------------------------------------\u001b[0m",
      "\u001b[0;31mTypeError\u001b[0m                                 Traceback (most recent call last)",
      "\u001b[0;32m<ipython-input-69-547859600149>\u001b[0m in \u001b[0;36m<module>\u001b[0;34m()\u001b[0m\n\u001b[0;32m----> 1\u001b[0;31m \u001b[0;34m'abcba'\u001b[0m\u001b[0;34m[\u001b[0m\u001b[0;36m2\u001b[0m\u001b[0;34m]\u001b[0m \u001b[0;34m=\u001b[0m \u001b[0;34m'd'\u001b[0m\u001b[0;34m\u001b[0m\u001b[0m\n\u001b[0m",
      "\u001b[0;31mTypeError\u001b[0m: 'str' object does not support item assignment"
     ]
    }
   ],
   "source": [
    "'abcba'[2] = 'd'"
   ]
  },
  {
   "cell_type": "markdown",
   "metadata": {},
   "source": [
    "**NOTA:** Le stringhe e le tuple sono dei tipi i oggetto non modificabili, ovvero sono dei dati *read only*."
   ]
  },
  {
   "cell_type": "markdown",
   "metadata": {},
   "source": [
    "## Le liste\n",
    "Le **liste** di Python sono delle sequenze di elementi come le tuple, ma a differenza di quest'ultime, possono essere modificate. La sintassi per gestire le liste è simile a quelle delle tuple: la differenza principale consiste nell'usare le parentesi tonde invece delle quadre:"
   ]
  },
  {
   "cell_type": "code",
   "execution_count": 70,
   "metadata": {},
   "outputs": [
    {
     "name": "stdout",
     "output_type": "stream",
     "text": [
      "<class 'list'>\n"
     ]
    }
   ],
   "source": [
    "Ls = [1, 2.3, 'cool!', False]\n",
    "print(type(Ls))\n"
   ]
  },
  {
   "cell_type": "code",
   "execution_count": 71,
   "metadata": {},
   "outputs": [],
   "source": [
    "Ls[1] = 33.3"
   ]
  },
  {
   "cell_type": "code",
   "execution_count": 72,
   "metadata": {},
   "outputs": [
    {
     "name": "stdout",
     "output_type": "stream",
     "text": [
      "[1, 33.3, 'cool!', False]\n"
     ]
    }
   ],
   "source": [
    "print(Ls)"
   ]
  },
  {
   "cell_type": "code",
   "execution_count": 73,
   "metadata": {},
   "outputs": [
    {
     "name": "stdout",
     "output_type": "stream",
     "text": [
      "0 <class 'list'>\n"
     ]
    }
   ],
   "source": [
    "# Lista vuota\n",
    "print(len([]), type([]))"
   ]
  },
  {
   "cell_type": "markdown",
   "metadata": {},
   "source": [
    "Anche per le liste possiamo usare tutte le funzioni che vengono solitamente usate in Python per le sequenze di elementi:"
   ]
  },
  {
   "cell_type": "code",
   "execution_count": 74,
   "metadata": {},
   "outputs": [
    {
     "name": "stdout",
     "output_type": "stream",
     "text": [
      "4\n",
      "cool!\n",
      "[33.3]\n",
      "False\n",
      "False\n",
      "1\n",
      "33.3\n",
      "cool!\n",
      "False\n",
      "concatenazione: [1, 33.3, 'cool!', False, 'prova', 'prova']\n",
      "repetition: ['prova', 'prova', 'prova', 'prova', 'prova', 'prova']\n"
     ]
    }
   ],
   "source": [
    "# Uso della funzione `len`\n",
    "print(len(Ls))\n",
    "# Accesso diretto ad un elemento\n",
    "print(Ls[2])\n",
    "# Gli operatori di slicing\n",
    "print(Ls[1:2])\n",
    "# Test di appartenenza\n",
    "print('c' in Ls)\n",
    "print('2.3' in Ls)\n",
    "# Supporto del costrutto <for>\n",
    "for e in Ls:\n",
    "    print(e)\n",
    "# Concatenazione\n",
    "L2 = ['prova', 'prova']\n",
    "print('concatenazione:', Ls+L2)\n",
    "# Repetition\n",
    "print('repetition:',L2*3)"
   ]
  },
  {
   "cell_type": "markdown",
   "metadata": {},
   "source": [
    "### Il problema di *aliasing*\n",
    "Si consideri l'esempio seguente, ripreso dal Capitolo 5 del libro di riferimento."
   ]
  },
  {
   "cell_type": "code",
   "execution_count": 75,
   "metadata": {},
   "outputs": [
    {
     "name": "stdout",
     "output_type": "stream",
     "text": [
      "True\n",
      "False\n"
     ]
    }
   ],
   "source": [
    "Techs = ['MIT', 'Caltech']\n",
    "Ivys = ['Harvard','Yale','Penn']\n",
    "U1 = [Techs, Ivys]\n",
    "U2 = [['MIT', 'Caltech'], ['Harvard','Yale','Penn']]\n",
    "print(U1 == U2)\n",
    "print(id(U1) == id(U2)) # la funzione id() restituisce l'identificativo unico di un oggetto Python"
   ]
  },
  {
   "cell_type": "code",
   "execution_count": 76,
   "metadata": {},
   "outputs": [
    {
     "name": "stdout",
     "output_type": "stream",
     "text": [
      "False\n"
     ]
    }
   ],
   "source": [
    "Techs.append('Standford')\n",
    "print(U1 == U2)"
   ]
  },
  {
   "cell_type": "code",
   "execution_count": 77,
   "metadata": {},
   "outputs": [
    {
     "name": "stdout",
     "output_type": "stream",
     "text": [
      "['MIT', 'Caltech']\n"
     ]
    }
   ],
   "source": [
    "U1[0].remove('Standford')\n",
    "print(Techs)"
   ]
  },
  {
   "cell_type": "markdown",
   "metadata": {},
   "source": [
    "**NOTA:** abbiamo due percorsi diversi che portano allo stesso oggetto di tipo lista: il primo attraverso il nome della lista `Techs`, il secondo attraverso il primo elemento della lista `U1`.  Basta modificare uno dei due, che il cambiamento si riflette sull'altro: si parla in questo caso di **side effect**, in quanto si potrebbero introdurre degli effetti non desiderati, difficili da individuare. Notare che problemi di questo tipo non si hanno con strutture dati di tipo *read only*."
   ]
  },
  {
   "cell_type": "markdown",
   "metadata": {},
   "source": [
    "**ESERCIZIO 3:** (*obiettivo: intuire il vantaggio di poter avere anche oggi non mutabili*)\n",
    "\n",
    "Si scriva una funzione che prenda in input due **liste** e che rimuove dalla prima lista ogni elemento che compare nella seconda lista. La funzione non ritorna nulla, ma **modifica** la prima lista data in input. Si può usare il metodo `L.remove(e)` che rimuove dalla lista `L` il primo elemento uguale a `e`."
   ]
  },
  {
   "cell_type": "code",
   "execution_count": 78,
   "metadata": {},
   "outputs": [
    {
     "name": "stdout",
     "output_type": "stream",
     "text": [
      "[2, 3, 4, 5, 1]\n"
     ]
    }
   ],
   "source": [
    "Ls = [2,3,4,1,5,1]\n",
    "Ls.remove(1)\n",
    "print(Ls)"
   ]
  },
  {
   "cell_type": "markdown",
   "metadata": {},
   "source": [
    "Completare la funzione seguente:"
   ]
  },
  {
   "cell_type": "code",
   "execution_count": 82,
   "metadata": {},
   "outputs": [
    {
     "name": "stdout",
     "output_type": "stream",
     "text": [
      "L1 = [5, 6, 6, 3, 9]\n"
     ]
    }
   ],
   "source": [
    "def RimuoviDuplicati(As, Bs):\n",
    "    for i in Bs:\n",
    "        for t in range(As.count(i)):\n",
    "            As.remove(i)\n",
    "    pass\n",
    "\n",
    "L1 = [2, 4, 2, 5, 6, 6, 3, 2, 9, 4]\n",
    "L2 = [2, 4, 7]\n",
    "RimuoviDuplicati(L1, L2)\n",
    "print('L1 =', L1)"
   ]
  },
  {
   "cell_type": "markdown",
   "metadata": {},
   "source": [
    "### List comprehensions\n",
    "Quando abbiamo definito i plot di alcune semplici funzioni, abbiamo usato direttamente una sintassi di Python che permette di creare in modo molto semplice delle list: le **list comprehensions**. Esempi:"
   ]
  },
  {
   "cell_type": "code",
   "execution_count": 83,
   "metadata": {},
   "outputs": [],
   "source": [
    "S = [x**2 for x in range(10)]\n",
    "V = [2**i for i in range(13)]\n",
    "M = [x for x in S if x % 2 == 0]"
   ]
  },
  {
   "cell_type": "code",
   "execution_count": 84,
   "metadata": {},
   "outputs": [
    {
     "name": "stdout",
     "output_type": "stream",
     "text": [
      "[0, 1, 4, 9, 16, 25, 36, 49, 64, 81]\n",
      "[1, 2, 4, 8, 16, 32, 64, 128, 256, 512, 1024, 2048, 4096]\n",
      "[0, 4, 16, 36, 64]\n"
     ]
    }
   ],
   "source": [
    "print(S)\n",
    "print(V)\n",
    "print(M)"
   ]
  },
  {
   "cell_type": "markdown",
   "metadata": {},
   "source": [
    "La stessa sintassi si può usare per le stringhe:"
   ]
  },
  {
   "cell_type": "code",
   "execution_count": 85,
   "metadata": {},
   "outputs": [
    {
     "name": "stdout",
     "output_type": "stream",
     "text": [
      "['Vorrei,', 'ma', 'non', 'posto!']\n"
     ]
    }
   ],
   "source": [
    "Ls = \"Vorrei, ma non posto!\"\n",
    "Ls = Ls.split(' ')\n",
    "print(Ls)"
   ]
  },
  {
   "cell_type": "code",
   "execution_count": 86,
   "metadata": {},
   "outputs": [
    {
     "name": "stdout",
     "output_type": "stream",
     "text": [
      "[(7, 'VORREI,', 'vorrei,'), (2, 'MA', 'ma'), (3, 'NON', 'non'), (6, 'POSTO!', 'posto!')]\n"
     ]
    }
   ],
   "source": [
    "As = [(len(s), s.upper(), s.lower()) for s in Ls]\n",
    "print(As)"
   ]
  },
  {
   "cell_type": "markdown",
   "metadata": {},
   "source": [
    "## Dizionari\n",
    "I dizionari sono una struttura dati molto utilizzati in Python. Sono delle strutture dati che corrispondono a delle liste di coppie **(key, value)**. I dizionari sono degli oggetti **mutabili** come le liste, ma non sono una sequenza ordinata, e quindi non possono essere indicizzati con dei numeri interi.\n",
    "\n",
    "La **key** viene utilizzata come chiave per indicizzare un **value**. Per esempio:\n",
    "\n",
    "`Dict[\"hello\"] = \"ciao\"`\n",
    "\n",
    "Abbiamo la chiave \"hello\" utilizzata per indicizzare l'elemento \"ciao\" nel dizionario Dict. Per semplicità, potete pensare ai dizionari a come dei vettori di elementi indicizzati da altri oggetti **immutabili**, come ad esempio delle stringhe.\n",
    "\n",
    "**ESEMPIO:**"
   ]
  },
  {
   "cell_type": "code",
   "execution_count": 87,
   "metadata": {},
   "outputs": [
    {
     "name": "stdout",
     "output_type": "stream",
     "text": [
      "<class 'dict'>\n"
     ]
    }
   ],
   "source": [
    "# Creo un dizionario vuoto\n",
    "Vocabolario = dict()\n",
    "print(type(Vocabolario))"
   ]
  },
  {
   "cell_type": "code",
   "execution_count": 88,
   "metadata": {},
   "outputs": [
    {
     "name": "stdout",
     "output_type": "stream",
     "text": [
      "Enrico, stai sereno\n"
     ]
    }
   ],
   "source": [
    "Vocabolario[\"keep\"] = \"stai\"\n",
    "Vocabolario[\"calm\"] = \"sereno\"\n",
    "print(\"Enrico,\", Vocabolario[\"keep\"], Vocabolario[\"calm\"])"
   ]
  },
  {
   "cell_type": "code",
   "execution_count": 89,
   "metadata": {},
   "outputs": [
    {
     "name": "stdout",
     "output_type": "stream",
     "text": [
      "chiave: keep - valore: stai\n",
      "chiave: calm - valore: sereno\n",
      "chiave: hello - valore: ciao\n"
     ]
    }
   ],
   "source": [
    "# E` possibile enumerare i dizionari con un ciclo for\n",
    "Vocabolario[\"hello\"] = \"ciao\"\n",
    "for key in Vocabolario:\n",
    "    print(\"chiave:\", key, \"- valore:\", Vocabolario[key])"
   ]
  },
  {
   "cell_type": "markdown",
   "metadata": {},
   "source": [
    "### Metodi utili sui dizionari\n",
    "I seguenti metodi sono molto utili per usare i dizionari:\n",
    "\n",
    "* `len(d)`: restituisce il numero di elementi nel dizionario `d`\n",
    "* `d.keys()`: restituisce una vista delle chiavi del dizionario `d`\n",
    "* `d.values()`: restituisce una vista dei valori del dizionario `d`\n",
    "* `key in d`: restituisce `True` se la chiave `key` è nel dizionario `d`\n",
    "* `d.get(key, value)`: restituisce `d[key]` se `key` è in `d`, altrimenti restituisce il valore `value`\n",
    "* `d[key] = value`: associa il valore `value` alla chiave `key` nel dizionario `d`\n",
    "* `del d[key]`: rimuove la chiave `k` dal dizionario `d`\n",
    "* `for key in d`: itera sulle chiavi del dizionario `d`"
   ]
  },
  {
   "cell_type": "markdown",
   "metadata": {},
   "source": [
    "**ESERCIZIO 4:** Per ogni carattere (stringa di lunghezza 1) della canzone contenuta nel file \"canzone.txt\", scrivere:\n",
    "\n",
    "1. una funzione `ContaCaratteri(c)` che conti il numero di volte che ciascun carattere appare nel testo e restituisce un dizionario dove si ha una \"chiave\" per ogni carattere e un \"valore\" pari al numero di volte che il carattere appare nella stringa. Rimuovere la punteggiatura, gli spazi vuoti, e i caratteri speciali. \n",
    "\n",
    "2. una funzione `CalcolaFrequenza(d)` che prende in input un dizionario con i conteggi dei caratteri, calcola la frequenza di ciascun carattere, e restituisce un dizionario dove si ha una \"chiave\" per ogni carattere e un \"valore\" pari alla frequenza con cui il carattere appare nel testo."
   ]
  },
  {
   "cell_type": "code",
   "execution_count": 10,
   "metadata": {},
   "outputs": [
    {
     "name": "stdout",
     "output_type": "stream",
     "text": [
      "{'i': 180, 'o': 182, 'l': 59, 's': 97, 'c': 92, 'h': 26, 'e': 143, 'a': 168, 'p': 42, 'n': 127, 't': 92, 'u': 51, 'q': 7, 'g': 34, 'è': 14, 'v': 25, 'd': 44, 'r': 82, 'm': 54, 'é': 2, 'f': 22, 'z': 11, 'b': 10, 'w': 3, 'x': 1, 'ù': 3, 'ì': 6, 'y': 3, 'k': 1, 'ò': 1} {'i': 0.11378002528445007, 'o': 0.11504424778761062, 'l': 0.03729456384323641, 's': 0.06131479140328698, 'c': 0.05815423514538559, 'h': 0.01643489254108723, 'e': 0.09039190897597978, 'a': 0.10619469026548672, 'p': 0.02654867256637168, 'n': 0.08027812895069532, 't': 0.05815423514538559, 'u': 0.032237673830594185, 'q': 0.004424778761061947, 'g': 0.021491782553729456, 'è': 0.008849557522123894, 'v': 0.01580278128950695, 'd': 0.02781289506953224, 'r': 0.051833122629582805, 'm': 0.03413400758533502, 'é': 0.0012642225031605564, 'f': 0.01390644753476612, 'z': 0.00695322376738306, 'b': 0.006321112515802781, 'w': 0.0018963337547408343, 'x': 0.0006321112515802782, 'ù': 0.0018963337547408343, 'ì': 0.0037926675094816687, 'y': 0.0018963337547408343, 'k': 0.0006321112515802782, 'ò': 0.0006321112515802782}\n"
     ]
    }
   ],
   "source": [
    "def ContaCaratteri(s):\n",
    "    # Costruttore di un dizionario vuoto\n",
    "    D = {}\n",
    "    # Ciclo su tutti caratteri della stringa\n",
    "    for c in s:\n",
    "        if c in D:\n",
    "            D[c] += 1\n",
    "        else:\n",
    "            D[c] = 1\n",
    "    return D\n",
    "\n",
    "def CalcolaFrequenza(D):\n",
    "    F = {}\n",
    "    count = 0\n",
    "    for key in D:\n",
    "        count += D[key]\n",
    "    for key in D:\n",
    "        F[key] = D[key]/count\n",
    "    # Da completare, esercizio\n",
    "    return F\n",
    "\n",
    "fh = open('./canzone.txt', 'r', encoding=\"utf-8\")\n",
    "s = fh.read()\n",
    "for c in ',?\\n”“ ’':\n",
    "    s = s.replace(c,'')\n",
    "D = ContaCaratteri(s.lower())\n",
    "F = CalcolaFrequenza(D)\n",
    "print(D, F)\n"
   ]
  },
  {
   "cell_type": "code",
   "execution_count": 15,
   "metadata": {},
   "outputs": [
    {
     "data": {
      "image/png": "[encoded data removed]",
      "text/plain": [
       "<matplotlib.figure.Figure at 0x7fbcaeca0cf8>"
      ]
     },
     "metadata": {},
     "output_type": "display_data"
    }
   ],
   "source": [
    "from matplotlib import pyplot\n",
    "x, y = [], []\n",
    "for i in range(len(D)):\n",
    "    x += [i]\n",
    "for t in D:\n",
    "    y += [D[t]]\n",
    "pyplot.plot(x, y)\n",
    "pyplot.show()"
   ]
  }
 ],
 "metadata": {
  "kernelspec": {
   "display_name": "Python 3",
   "language": "python",
   "name": "python3"
  },
  "language_info": {
   "codemirror_mode": {
    "name": "ipython",
    "version": 3
   },
   "file_extension": ".py",
   "mimetype": "text/x-python",
   "name": "python",
   "nbconvert_exporter": "python",
   "pygments_lexer": "ipython3",
   "version": "3.6.3"
  }
 },
 "nbformat": 4,
 "nbformat_minor": 2
}
