{
 "cells": [
  {
   "cell_type": "markdown",
   "metadata": {},
   "source": [
    "# Seconda parte: Dati aggregati\n",
    "Nella prima parte del corso, abbiamo studiato i processi di calcolo e il ruolo delle procedure nella scrittura di alcuni semplici programmi. Le procedure erano intese come funzioni che operavano su dati numerici, e partendo da semplici operazioni aritmetiche siamo arrivati a definire attraverso diversi livelli di astrazione, delle procedure composte più elaborate, che permettevano di calcolare, ad esempio, l'integrale definito di una funzione qualsiasi.\n",
    "\n",
    "In questa seconda parte del corso vedremo come costruire delle strutture dati che permettono di aggregare dei dati semplici, come ad esempio, **sequenze di numeri**, **insiemi di numeri**, e **stringhe** (ovvero sequenze di caratteri).\n",
    "\n",
    "Il motivo per studiare la possibilità di definire dei dati aggregati, o dati composti, è quello di poter definire concetti più astratti su dati aggregati (in gergo si parla di **data abstraction**)."
   ]
  },
  {
   "cell_type": "code",
   "execution_count": 1,
   "metadata": {},
   "outputs": [
    {
     "data": {
      "text/plain": [
       "False"
      ]
     },
     "execution_count": 1,
     "metadata": {},
     "output_type": "execute_result"
    }
   ],
   "source": [
    "7/6 == 1/2+2/3"
   ]
  },
  {
   "cell_type": "markdown",
   "metadata": {},
   "source": [
    "### Numeri Razionali\n",
    "Si consideri ad esempio un sistema di calcolo per i numeri razionali. Potremmo definire un operazione `SommaRaz(x,y)` che prende in input due numeri razionali, per esempio $\\frac{1}{2}$ e $\\frac{2}{3}$, e restituisce la loro somma (nell'esempio, $\\frac{7}{6})$. In termini di dati semplice, un numero razionale può essere pensato come una **COPPIA** di due numeri interi: un *numeratore* ed un *denominatore*.\n",
    "\n",
    "In pratica, potremmo definire un sistema in cui ogni numero razionale viene definito da due numeri interi, e per fare una somma dovremmo scrivere due procedure, una per produrre il numeratore e l'altra per produrre il denominatore. Tuttavia, questo approccio porterebbe in fretta ad un codice difficile da leggere, mantenere e migliorare, anche perchè dovremmo sempre tenere traccia di quale numeratore corrisponde a quale denominatore.\n",
    "\n",
    "Sarebbe molto meglio se fosse possibile \"incollare\" insieme il numeratore e il denominatore per ottenere un unico oggetto computazionale, in modo che il nostro programma e le nostre procedure lo possano considerare come un unico **tipo** di dato.\n",
    "\n",
    "In questo modo, potremmo aumentare la modularità dei nostri programmi. Se possiamo manipolare i numeri razionali direttamente come degli **oggetti** a se stanti, potremmo separare nei nostri programmi il codice che usa i numeri razionali in qualche modo utile, dalla parte di codice che specifica come eseguire le operazioni aritmetiche sui numeri razionali.\n",
    "\n",
    "L'uso di *dati aggregati* (o *strutture dati*) porterebbe ad un linguaggio ancora più **espressivo** di quello studiato sino ad ora."
   ]
  },
  {
   "cell_type": "markdown",
   "metadata": {},
   "source": [
    "**ESEMPIO:** Si consideri l'idea di formare una combinazione lineare $ax + by$. Potremmo scrivere una procedura che prende in input quattro parametri `a,x,b,y` e restituisce il valore `ax + by`. Se gli argomenti sono dei numeri, possiamo scrivere direttamente:"
   ]
  },
  {
   "cell_type": "code",
   "execution_count": 2,
   "metadata": {},
   "outputs": [],
   "source": [
    "def CombinazioneLineare(a, b, x, y):\n",
    "    return a*x + b*y "
   ]
  },
  {
   "cell_type": "markdown",
   "metadata": {},
   "source": [
    "Supponiamo però che non vogliamo definire una combinazione lineare solo di numeri \"semplici\", ma vogliamo esprimere una combinazione lineare per qualsiasi tipo di dato per cui sono state definite le funzioni `add` e `mul`, come ad esempio, per i numeri razionali, i numeri complessi, o dei polinomi. In generale potremmo scrivere:"
   ]
  },
  {
   "cell_type": "code",
   "execution_count": 3,
   "metadata": {},
   "outputs": [],
   "source": [
    "def CombinazioneLineare(a, b, x, y):\n",
    "    return Add(Mul(a, x), Mul(b, y))"
   ]
  },
  {
   "cell_type": "markdown",
   "metadata": {},
   "source": [
    "In cui `Add` e `Mul` non le operazioni aritmetiche `+` e `*`, ma procedure più complesse che eseguono l'operazione corretta per qualsiasi tipo di dato che gli passiamo come input. Il punto cruciale è che l'unica cosa che la procedura `CombinazioneLineare` deve sapere a riguardo di `a, b, x, y`, è che le procedure `Add` e `Mul` eseguiranno le operazioni in modo corretto. Dalla prospettiva della procedura `CombinazioneLineare` è irrilevante cosa siano effettivamente `a, b, x, y` e di come siano effettivamente rappresentati in termini di dati primitivi, qualora fossero dei dati composti, quali, ad esempio, numeri razionali, numeri complessi o polinomi."
   ]
  },
  {
   "cell_type": "markdown",
   "metadata": {},
   "source": [
    "Per rendere l'idea concreta, vediamo ora come implementare un sistema di procedure che permetta di eseguire le operazioni aritmetiche sui numeri razionali."
   ]
  },
  {
   "cell_type": "markdown",
   "metadata": {},
   "source": [
    "### Numeri razionali e data abstraction\n",
    "L'idea base del *data abstraction* è di strutturare i programmi che devono usare dei dati aggregati in modo tale che questi possono operare direttamente sui *dati astratti*. In pratica, non vogliamo fare nessuna ipotesi su come sono effettivamente memorizzati i dati primitivi. Allo stesso tempo un *dato concreto* è implementato in modo indipendente dai programmi che useranno quel tipo di dati. L'interfaccia tra i dati astratti e i dati concreti sarà costituita da un insieme di procedure, chiamate **selettori** e **costruttori**, che implementano i dati astratti in termini della loro vera rappresentazione \"concreta\".\n",
    "\n",
    "Torniamo ai nostri numeri razionali. Vogliamo definire un sistema che sia in grado di sommarli, sottrarli, moltiplicarli e dividerli, e un modo per testare se due numeri razionali sono uguali."
   ]
  },
  {
   "cell_type": "markdown",
   "metadata": {},
   "source": [
    "Supponiamo di saper già costruire un numero razionale a partire dal un numeratore e un denominatore (abbiamo il **costruttore**). Supponiamo anche che, dato un numero razionale, siamo in grado di ottenere (selezionare) il suo numeratore o il suo denominatore (abbiamo i **selettori**). Ovvero abbiamo le seguenti procedura:\n",
    "\n",
    "* `MakeQ(n, d)` che restituisce il numero $\\frac{n}{d}$, in cui sia `n` che `d` sono numeri interi.\n",
    "* `Num(x)` che restituisce il numeratore del numero razionale `x`.\n",
    "* `Den(x)` che restituisce il denominatore del numero razionale `x`."
   ]
  },
  {
   "cell_type": "markdown",
   "metadata": {},
   "source": [
    "Supponendo di avere queste procedure, che definiremo tra poco, noi potremmo già definire le operazioni richieste usando le seguenti relazioni sui numeri razionali:\n",
    "\n",
    "$$\\frac{n_1}{d_1} + \\frac{n_2}{d_2} = \\frac{n_1 d_2 + n_2 d_1}{d_1 d_2}$$\n",
    "\n",
    "$$\\frac{n_1}{d_1} - \\frac{n_2}{d_2} = \\frac{n_1 d_2 - n_2 d_1}{d_1 d_2}$$\n",
    "\n",
    "$$\\frac{n_1}{d_1} \\cdot \\frac{n_2}{d_2} = \\frac{n_1 n_2}{d_1 d_2}$$\n",
    "\n",
    "$$\\frac{n_1 / d_1}{n_2 / d_2} = \\frac{n_1 d_2}{d_1 n_2}$$\n",
    "\n",
    "$$\\frac{n_1}{d_1} = \\frac{n_2}{d_2} \\iff n_1 d_2 = n_2 d_1$$"
   ]
  },
  {
   "cell_type": "markdown",
   "metadata": {},
   "source": [
    "Queste regole possono essere tradotte direttamente nelle procedure seguenti:"
   ]
  },
  {
   "cell_type": "code",
   "execution_count": 4,
   "metadata": {},
   "outputs": [],
   "source": [
    "def AddQ(x, y):\n",
    "    return MakeQ(Num(x)*Den(y)+Num(y)*Den(x), Den(x)*Den(y))\n",
    "\n",
    "def SubQ(x, y):\n",
    "    return MakeQ(Num(x)*Den(y)-Num(y)*Den(x), Den(x)*Den(y))\n",
    "\n",
    "def MulQ(x, y):\n",
    "    return MakeQ(Num(x)*Num(y), Den(x)*Den(y))\n",
    "\n",
    "def DivQ(x, y):\n",
    "    return MakeQ(Num(x)*Den(y), Den(x)*Num(y))\n",
    "\n",
    "def EqualQ(x, y):\n",
    "    return Num(x)*Den(y) == Num(y)*Den(x)"
   ]
  },
  {
   "cell_type": "markdown",
   "metadata": {},
   "source": [
    "A questo abbiamo definito le operazioni sui numeri razionali senza aver ancora definito il **tipo** di dati per i numeri razionali. Per farlo abbiamo bisogno in uno strumento che ci permette di unire il numeratore con il denominatore."
   ]
  },
  {
   "cell_type": "markdown",
   "metadata": {},
   "source": [
    "### Le coppie (pairs)\n",
    "Per poter implementare i dati concreti del nostro dato astratto \"numero razionale\" usiamo le **coppie** di valori:"
   ]
  },
  {
   "cell_type": "code",
   "execution_count": 5,
   "metadata": {},
   "outputs": [],
   "source": [
    "a = (3,4)"
   ]
  },
  {
   "cell_type": "code",
   "execution_count": 6,
   "metadata": {},
   "outputs": [
    {
     "name": "stdout",
     "output_type": "stream",
     "text": [
      "(3, 4)\n"
     ]
    }
   ],
   "source": [
    "print(a)"
   ]
  },
  {
   "cell_type": "markdown",
   "metadata": {},
   "source": [
    "Una coppia è un dato composto dai due dati numerici. Data una coppia di numeri possiamo estrarre il primo e il secondo elemento nel modo seguente:"
   ]
  },
  {
   "cell_type": "code",
   "execution_count": 7,
   "metadata": {},
   "outputs": [],
   "source": [
    "b, c = a \n",
    "# Questo modo viene chiamato \"unfolding"
   ]
  },
  {
   "cell_type": "code",
   "execution_count": 8,
   "metadata": {},
   "outputs": [
    {
     "name": "stdout",
     "output_type": "stream",
     "text": [
      "3\n",
      "4\n"
     ]
    }
   ],
   "source": [
    "print(b)\n",
    "print(c)"
   ]
  },
  {
   "cell_type": "code",
   "execution_count": 9,
   "metadata": {},
   "outputs": [
    {
     "name": "stdout",
     "output_type": "stream",
     "text": [
      "3\n"
     ]
    }
   ],
   "source": [
    "print(a[0])  # Primo elemento della coppia"
   ]
  },
  {
   "cell_type": "code",
   "execution_count": 10,
   "metadata": {},
   "outputs": [
    {
     "name": "stdout",
     "output_type": "stream",
     "text": [
      "4\n"
     ]
    }
   ],
   "source": [
    "print(a[1])  # Secondo elemento della coppia"
   ]
  },
  {
   "cell_type": "markdown",
   "metadata": {},
   "source": [
    "Si noti come una coppia sia un oggetto, un dato unico, a cui possiamo dare un nome e che possiamo modificare *come se fosse un dato primitivo*."
   ]
  },
  {
   "cell_type": "markdown",
   "metadata": {},
   "source": [
    "Possiamo usare le *coppie* come elemento costitutivo delle procedure che ci mancano per i numeri razionali (costruttore e selettore):"
   ]
  },
  {
   "cell_type": "code",
   "execution_count": 12,
   "metadata": {},
   "outputs": [],
   "source": [
    "def MakeQ(n, d):\n",
    "    return (n, d)\n",
    "\n",
    "def Num(x):\n",
    "    return x[0]\n",
    "\n",
    "def Den(x):\n",
    "    return x[1]\n",
    "\n",
    "# Per avere un \"pretty print\"\n",
    "def PrintQ(x):\n",
    "    print(\"%d/%d\"%(Num(x), Den(x)))"
   ]
  },
  {
   "cell_type": "markdown",
   "metadata": {},
   "source": [
    "A questo punto possiamo usare il nostro sistema per eseguire delle operazioni sui numeri razionali:"
   ]
  },
  {
   "cell_type": "code",
   "execution_count": 13,
   "metadata": {},
   "outputs": [
    {
     "name": "stdout",
     "output_type": "stream",
     "text": [
      "7/6\n"
     ]
    }
   ],
   "source": [
    "a = MakeQ(1, 2)\n",
    "b = MakeQ(2, 3)\n",
    "PrintQ(AddQ(a, b))"
   ]
  },
  {
   "cell_type": "markdown",
   "metadata": {},
   "source": [
    "Vediamo cosa succede sommando due numeri uguali:"
   ]
  },
  {
   "cell_type": "code",
   "execution_count": 45,
   "metadata": {},
   "outputs": [
    {
     "name": "stdout",
     "output_type": "stream",
     "text": [
      "6/9\n"
     ]
    }
   ],
   "source": [
    "PrintQ(AddQ(MakeQ(1,3), MakeQ(1,3)))"
   ]
  },
  {
   "cell_type": "markdown",
   "metadata": {},
   "source": [
    "**ESERCIZIO 8.1:** Come visto nell'esempio precedente, il sistema sin qui visto non sfrutta la relazione di equivalenza tra i numeri razionali, e non li riduce quindi ai minimi termini. Modificare la procedura `MakeQ(n,f)` in modo che produca sempre un numero razionale ridotto ai minimi termini."
   ]
  },
  {
   "cell_type": "code",
   "execution_count": 31,
   "metadata": {},
   "outputs": [
    {
     "name": "stdout",
     "output_type": "stream",
     "text": [
      "(1, 2)\n"
     ]
    }
   ],
   "source": [
    "def MCD(a, b):\n",
    "    if b > a:\n",
    "        return MCD(b, a)\n",
    "    if b == 0:\n",
    "        return a\n",
    "    return MCD(b, a%b)\n",
    "\n",
    "def MakeQ(a, b):\n",
    "    m = MCD(a, b)\n",
    "    return (int(a/m), int(b/m))\n"
   ]
  },
  {
   "cell_type": "markdown",
   "metadata": {},
   "source": [
    "**ESERCIZIO 8.2**: Un modo diverso per ridurre un numero razionale ai minimi termini è di calcolare la riduzione solo quando si usano i *selettori*, ovvero quando si usa il numeratore o il denominatore. In questo caso non è necessario modificare il costruttore `MakeQ`, ma è sufficiente modificare i selettori `Num(x)` e `Den(x)`. Mostrare come può essere fatto in Python."
   ]
  },
  {
   "cell_type": "code",
   "execution_count": 35,
   "metadata": {},
   "outputs": [],
   "source": [
    "def Num(x):\n",
    "    return x[0] / MCD(x[0], x[1])\n",
    "\n",
    "def Den(x):\n",
    "    return x[1] / MCD(x[0], x[1])"
   ]
  },
  {
   "cell_type": "markdown",
   "metadata": {},
   "source": [
    "**ESERCIZIO 8.3**: Definire una versione migliore di `MakeQ(n, d)` che gestisce sia i numeri positivi che quelli negativi, e controlli che il denominatori non sia uguale a zero. Il segno dovrebbe essere normalizzato in modo tale che se il numero razionale è positivo, sia il numeratore che il denominatore sono positivi, se il numero razionale è negativo, solo il numeratore è negativo."
   ]
  },
  {
   "cell_type": "code",
   "execution_count": 40,
   "metadata": {},
   "outputs": [
    {
     "name": "stdout",
     "output_type": "stream",
     "text": [
      "(-1, 4)\n"
     ]
    }
   ],
   "source": [
    "def MakeQ(n, d):\n",
    "    if d == 0:\n",
    "        return ZeroDivisionError\n",
    "    sign = int(n*d/(abs(n*d)))\n",
    "    x = abs(n)\n",
    "    y = abs(d)\n",
    "    m = MCD(x, y)\n",
    "    return (sign*int(x/m), int(y/m))\n",
    "    \n",
    "print (MakeQ(-2, 8))"
   ]
  },
  {
   "cell_type": "markdown",
   "metadata": {},
   "source": [
    "**VEDI SLIDES: API**"
   ]
  },
  {
   "cell_type": "markdown",
   "metadata": {
    "collapsed": true
   },
   "source": [
    "### Definizione procedurale di \"coppia\"\n",
    "Consideriamo per esempio le coppie (pair), che sino ad ora abbiamo considerato come un dato primitivo del linguaggio.\n",
    "\n",
    "Potremmo avere una definizione interamente procedurale di coppia:"
   ]
  },
  {
   "cell_type": "code",
   "execution_count": 41,
   "metadata": {},
   "outputs": [],
   "source": [
    "def MakePair(x, y):\n",
    "    def Select(i):\n",
    "        if i == 1:\n",
    "            return x\n",
    "        if i == 2:\n",
    "            return y\n",
    "        print(\"Errore: in una coppia sono presenti solo due elementi.\")\n",
    "    return Select"
   ]
  },
  {
   "cell_type": "code",
   "execution_count": 42,
   "metadata": {},
   "outputs": [
    {
     "name": "stdout",
     "output_type": "stream",
     "text": [
      "2\n",
      "3\n"
     ]
    }
   ],
   "source": [
    "a = MakePair(2,3)\n",
    "print(a(1))\n",
    "print(a(2))"
   ]
  },
  {
   "cell_type": "markdown",
   "metadata": {},
   "source": [
    "A questo punto possiamo cambiare la nostra implementazione di numero razionale, senza dover cambiare le operazioni aritmetiche definite sui numeri razionali:"
   ]
  },
  {
   "cell_type": "code",
   "execution_count": 43,
   "metadata": {},
   "outputs": [],
   "source": [
    "def MakeQ(n, d):\n",
    "    return MakePair(n, d)\n",
    "\n",
    "def Num(x):\n",
    "    return x(1)\n",
    "\n",
    "def Den(x):\n",
    "    return x(2)"
   ]
  },
  {
   "cell_type": "code",
   "execution_count": 44,
   "metadata": {},
   "outputs": [
    {
     "name": "stdout",
     "output_type": "stream",
     "text": [
      "6/9\n"
     ]
    }
   ],
   "source": [
    "PrintQ(AddQ(MakeQ(1,3), MakeQ(1,3)))"
   ]
  },
  {
   "cell_type": "markdown",
   "metadata": {},
   "source": [
    "**NOTA:** la possibilità di avere le procedure come elementi primitivi del linguaggio, permette automaticamente la possibilità di definire dei dati aggregati, come abbiamo appena visto. La differenza tra *dati* e *procedure* è sempre più sottile."
   ]
  },
  {
   "cell_type": "markdown",
   "metadata": {},
   "source": [
    "## Approfondimento: *Lambda Calculus*\n",
    "In un linguaggio che può manipolare le procedure come se fossero dei dati, non abbiamo più bisogno di dati primitivi per rappresentare i numeri (almeno se ci limitiamo ai numeri interi non negativi): tutto quello che ci serve è di definire lo zero e l'operazione per aggiungere 1 ad un numero:"
   ]
  },
  {
   "cell_type": "code",
   "execution_count": 14,
   "metadata": {},
   "outputs": [],
   "source": [
    "def Zero():\n",
    "    return lambda f: (lambda x: x)\n",
    "\n",
    "def AddOne(n):\n",
    "    return lambda f: lambda x: f(n(f)(x))"
   ]
  },
  {
   "cell_type": "markdown",
   "metadata": {},
   "source": [
    "Questa rappresentazione è dovuta ad [Alonzo Church](https://en.wikipedia.org/wiki/Alonzo_Church), il logico matematico che ha inventato il [*Lambda Calculus*](https://en.wikipedia.org/wiki/Lambda_calculus)."
   ]
  },
  {
   "cell_type": "code",
   "execution_count": 26,
   "metadata": {},
   "outputs": [
    {
     "name": "stdout",
     "output_type": "stream",
     "text": [
      "<function AddOne.<locals>.<lambda> at 0x7f1138368d90>\n"
     ]
    }
   ],
   "source": [
    "a = Zero()\n",
    "\n",
    "print ( AddOne(a))"
   ]
  },
  {
   "cell_type": "code",
   "execution_count": null,
   "metadata": {},
   "outputs": [],
   "source": []
  }
 ],
 "metadata": {
  "kernelspec": {
   "display_name": "Python 3",
   "language": "python",
   "name": "python3"
  },
  "language_info": {
   "codemirror_mode": {
    "name": "ipython",
    "version": 3
   },
   "file_extension": ".py",
   "mimetype": "text/x-python",
   "name": "python",
   "nbconvert_exporter": "python",
   "pygments_lexer": "ipython3",
   "version": "3.6.3"
  }
 },
 "nbformat": 4,
 "nbformat_minor": 2
}
