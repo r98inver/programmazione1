{
 "cells": [
  {
   "cell_type": "markdown",
   "metadata": {},
   "source": [
    "# Ordini di grandezza\n",
    "Gli esempi che abbiamo visto per il calcolo del numero di Fibonacci ci mostrano che possiamo avere dei processi di calcolo in cui la velocità con cui vengono consumate le risorse di calcolo varia notevolmente. Un modo conveniente per descrivere queste differenze è di utilizzare gli **ordini di grandezza** per ottenere una misura approssimata delle risorse richieste da un processo quando l'input continua a diventare più grande.\n",
    "\n",
    "Sia $n$ un parametro che misura la dimensione di un problema, e sia $R(n)$ la quantità di risorsa che il processo richiede per un problema di dimensione $n$. \n",
    "\n",
    "$R(n)$ potrebbe essere il numero di registri di memoria che devono essere utilizzati, oppure il numero di operazioni elementari che devono essere eseguite. I computer attuali eseguono solo un numero finito di operazioni alla volta e il tempo totale richiesto sarà proporzionale al numero di istruzioni elementari da eseguire.\n",
    "\n",
    "Diciamo che $R(n)$ ha un ordine di crescita $\\Theta(f(n))$, scritto $R(n)=\\Theta(f(n))$ se esistono due costanti positive $k_1$ e $k_2$ indipendenti da $n$ tali che\n",
    "\n",
    "$$k_1 f(n) \\leq R(n) \\leq k_2 f(n)$$\n",
    "\n",
    "per valori sufficientemente grandi di $n$.\n",
    "\n",
    "Per esempio, con i processi lineari ricorsivi per calcolare il fattoriale di $n$ descritto nel **Lab 4**, il numero di passi necessari cresce linearmente con l'input $n$. Quindi, i passi richiesti dal processo cresce come $\\Theta(n)$. Abbiamo visto che anche lo spazio cresce come $\\Theta(n)$.\n",
    "\n",
    "Per il calcolo del fattoriale calcolato con un processo iterativo, il numero di passi è ancora $\\Theta(n)$, ma lo spazio richiesto è $\\Theta(1)$, ovvero è costante.\n",
    "\n",
    "Il calcolo dell'ennesimo numero della sequenza di Fibonacci richiede $\\Theta(1.61^n)$ passi e $\\Theta(n)$ spazio di memoria (NOTA: è possibile dimostrare come ottenere 1.61).\n",
    "\n",
    "Gli ordini di grandezza danno solo una descrizione di massima del comportamento di un processo di calcolo. Per esempio, un processo che richiede $n^2$ passi, un processo che richiede $1000n^2$ passi, e uno che richiede $3n^2 + 10n + 17$ passi hanno tutti un ordine di grandezza di $\\Theta(n^2)$. Tuttavia, anche se approssimata, l'informazione risulta essere molto utile.\n",
    "\n",
    "Se per esempio consideriamo un processo che è $\\Theta(n)$, raddoppiando la dimensione dell'input, ci aspettiamo che il processo raddoppi il consumo di risorse di calcolo. Invece, per un processo esponenziale, ad ogni incremento unitario della dimensione dell'input, ci aspettiamo che il consumo di risorse sia moltiplicato per un fattore costante."
   ]
  },
  {
   "cell_type": "markdown",
   "metadata": {},
   "source": [
    "**ESERCIZIO 6.1**: Si consideri il problema di calcolare l'esponenziale di un numero dato. Vorremo scrivere una procedura che prende in input una base $b$ e un esponente intero positivo $n$, e restituisce in output il valore $b^n$. Un modo per definire questa operazione è:\n",
    "\n",
    "$$\n",
    "\\begin{align}\n",
    "b^0 &= 1 \\\\\n",
    "b^n &= b \\cdot b^{n-1}\n",
    "\\end{align}\n",
    "$$\n",
    "\n",
    "Scrivere la procedura che implementa questa definizione."
   ]
  },
  {
   "cell_type": "code",
   "execution_count": null,
   "metadata": {
    "collapsed": false
   },
   "outputs": [],
   "source": [
    "def Exp(b,n):\n",
    "    if n == 0:\n",
    "        return 1\n",
    "    else:\n",
    "        return b*Exp(b, n-1)\n",
    "    \n",
    "Exp(2,5)"
   ]
  },
  {
   "cell_type": "markdown",
   "metadata": {},
   "source": [
    "La procedura appena scritta, quante operazioni elementari richiede? Che ordine di grandezza? E in termini di spazio di memoria?"
   ]
  },
  {
   "cell_type": "markdown",
   "metadata": {},
   "source": [
    "**ESERCIZIO 6.2**: Modificare la procedura precedente in modo tale che restituisca il numero di chiamate ricorsive necessarie per effettuare il calcolo richiesto. Tracciare un grafico che mostra la crescita del numero di passi richiesta in funzione di $n$."
   ]
  },
  {
   "cell_type": "code",
   "execution_count": 1,
   "metadata": {
    "collapsed": false
   },
   "outputs": [
    {
     "data": {
      "text/plain": [
       "101"
      ]
     },
     "execution_count": 1,
     "metadata": {},
     "output_type": "execute_result"
    }
   ],
   "source": [
    "def ExpGrowth(b,n):\n",
    "    def ExpCount(b, n, counter):\n",
    "        if n == 0:\n",
    "            return 1, counter\n",
    "        else:\n",
    "            c, d = ExpCount(b, n-1, counter+1)\n",
    "            return b*c, d\n",
    "    e, count = ExpCount(b,n,1)\n",
    "    return count\n",
    "\n",
    "ExpGrowth(2,100)"
   ]
  },
  {
   "cell_type": "code",
   "execution_count": 2,
   "metadata": {
    "collapsed": false
   },
   "outputs": [],
   "source": [
    "from numpy import linspace\n",
    "D = linspace(1,100,100)\n",
    "Y = [ExpGrowth(2, n) for n in D]"
   ]
  },
  {
   "cell_type": "code",
   "execution_count": 3,
   "metadata": {
    "collapsed": false
   },
   "outputs": [
    {
     "data": {
      "image/png": "[encoded data removed]",
      "text/plain": [
       "<matplotlib.figure.Figure at 0x105d58d6898>"
      ]
     },
     "metadata": {},
     "output_type": "display_data"
    }
   ],
   "source": [
    "from matplotlib.pyplot import plot, xlabel, ylabel, show\n",
    "plot(D,Y)\n",
    "xlabel(\"x\")\n",
    "ylabel(\"y=f(x)\")\n",
    "show()"
   ]
  },
  {
   "cell_type": "markdown",
   "metadata": {},
   "source": [
    "**ESERCIZIO 6.3:** È possibile calcolare gli esponenziali in un numero inferiore di passi, usando i quadrati successivi. Per esempio, invece di calcolare $b^8$ come:\n",
    "\n",
    "```\n",
    "b*(b*(b*(b*(b*(b*(b*b)))))))\n",
    "```\n",
    "\n",
    "possiamo calcolarlo usando solo tre moltiplicazioni:\n",
    "\n",
    "```\n",
    "b^2 = b*b\n",
    "b^4 = b^2*b^2\n",
    "b^8 = b^4*b^4\n",
    "```\n",
    "\n",
    "Questo metodo funziona bene con gli esponenti che sono potenze di 2. Possiamo usare la stessa idea nel calcolare gli esponenziali in generale se consideriamo che in generale vale la regola:\n",
    "\n",
    "$$\n",
    "\\begin{align}\n",
    "    b^n =(b^{n/2})^2 && \\mbox{se $n$ è pari} \\\\\n",
    "    b^n = b \\cdot b^{n-1} && \\mbox{se $n$ è dispari}\n",
    "\\end{align}\n",
    "$$\n",
    "\n",
    "Si scriva una proceduta che utilizza quest'idea."
   ]
  },
  {
   "cell_type": "code",
   "execution_count": null,
   "metadata": {
    "collapsed": false
   },
   "outputs": [],
   "source": [
    "def FastExp(b, n):\n",
    "    if n == 0:\n",
    "        return 1\n",
    "    if n % 2 == 0:\n",
    "        return FastExp(b, n/2)**2\n",
    "    return b*FastExp(b, n-1)\n",
    "\n",
    "FastExp(2,100)"
   ]
  },
  {
   "cell_type": "markdown",
   "metadata": {},
   "source": [
    "**ESERCIZIO 6.4:** Modificare la procedura precedente in modo tale che restituisca il numero di chiamate ricorsive necessarie per effettuare il calcolo richiesto. Tracciare un grafico che mostra la crescita del numero di passi richiesta in funzione di $n$."
   ]
  },
  {
   "cell_type": "code",
   "execution_count": 5,
   "metadata": {
    "collapsed": false
   },
   "outputs": [
    {
     "data": {
      "text/plain": [
       "10"
      ]
     },
     "execution_count": 5,
     "metadata": {},
     "output_type": "execute_result"
    }
   ],
   "source": [
    "def FastExpGrowth(b, n):\n",
    "    def FastExpCount(b, n, counter):\n",
    "        if n == 0:\n",
    "            return 1, counter\n",
    "        if n % 2 == 0:\n",
    "            c, d = FastExpCount(b, n/2, counter+1)\n",
    "            return c**2, d\n",
    "        c, d = FastExpCount(b, n-1, counter+1)\n",
    "        return b*c, d\n",
    "    c, d = FastExpCount(b, n, 1) \n",
    "    return d\n",
    "\n",
    "FastExpGrowth(2,100)"
   ]
  },
  {
   "cell_type": "code",
   "execution_count": 6,
   "metadata": {
    "collapsed": true
   },
   "outputs": [],
   "source": [
    "from numpy import linspace\n",
    "D = linspace(1,100,100)\n",
    "Y = [FastExpGrowth(2, n) for n in D]"
   ]
  },
  {
   "cell_type": "code",
   "execution_count": 7,
   "metadata": {
    "collapsed": false
   },
   "outputs": [
    {
     "data": {
      "image/png": "[encoded data removed]",
      "text/plain": [
       "<matplotlib.figure.Figure at 0x105d64cc940>"
      ]
     },
     "metadata": {},
     "output_type": "display_data"
    }
   ],
   "source": [
    "from matplotlib.pyplot import plot, xlabel, ylabel, show\n",
    "plot(D,Y)\n",
    "xlabel(\"x\")\n",
    "ylabel(\"y=f(x)\")\n",
    "show()"
   ]
  },
  {
   "cell_type": "code",
   "execution_count": null,
   "metadata": {
    "collapsed": true
   },
   "outputs": [],
   "source": []
  }
 ],
 "metadata": {
  "kernelspec": {
   "display_name": "Python [default]",
   "language": "python",
   "name": "python3"
  },
  "language_info": {
   "codemirror_mode": {
    "name": "ipython",
    "version": 3
   },
   "file_extension": ".py",
   "mimetype": "text/x-python",
   "name": "python",
   "nbconvert_exporter": "python",
   "pygments_lexer": "ipython3",
   "version": "3.5.3"
  }
 },
 "nbformat": 4,
 "nbformat_minor": 2
}
