{
 "cells": [
  {
   "cell_type": "markdown",
   "metadata": {},
   "source": [
    "# High-Order Procedures\n",
    "Abbiamo visto come le procedure siano in effetti delle **ASTRAZIONI** che ci permettono di descrivere delle operazioni composte in termini di numeri che sono indipendenti dai particolari valori che quei numeri possono assumere. Per esempio, quando definiamo:"
   ]
  },
  {
   "cell_type": "code",
   "execution_count": null,
   "metadata": {
    "collapsed": true
   },
   "outputs": [],
   "source": [
    "def Cubo(x):\n",
    "    return x*x*x   # equivalente a x**3"
   ]
  },
  {
   "cell_type": "markdown",
   "metadata": {},
   "source": [
    "non stiamo specificando il cubo di un numero particolare, ma stiamo specificando un metodo per trovare il cubo di un numero qualsiasi.\n",
    "\n",
    "Un linguaggio di programmazione per essere utile deve fornire un metodo per definire astrazioni di questo tipo, ovvero operazioni composte da operazioni primitive del linguaggio, in modo da poter ragionare solo nei termini più astratti.\n",
    "\n",
    "Tuttavia, un linguaggio di programmazione non deve essere limitato ad accettare come parametri solo dati numerici, ma dovrebbe essere in grado di accettare come parametri delle procedure stesse, ed eventualmente restituire delle procedure invece che dei semplici numeri.\n",
    "\n",
    "In questo notebook, vedremo dei semplici esempi in cui le procedure che definiamo nel linguaggio possono essere usate come parametri di altre funzioni composte, oppure come valore di ritorno di una procedura."
   ]
  },
  {
   "cell_type": "markdown",
   "metadata": {},
   "source": [
    "## Procedure passate come argomenti.\n",
    "Si considerino le tre procedure seguenti. La prima calcola la somma di interi da $a$ a $b$:"
   ]
  },
  {
   "cell_type": "code",
   "execution_count": null,
   "metadata": {},
   "outputs": [],
   "source": [
    "def SommaInteri(a, b):\n",
    "    if a > b:\n",
    "        return 0\n",
    "    else:\n",
    "        return a + SommaInteri(a+1, b)\n",
    "    \n",
    "SommaInteri(1,5)"
   ]
  },
  {
   "cell_type": "markdown",
   "metadata": {},
   "source": [
    "La seconda procedura calcola la somma dei cubi all'interno di un intervallo dato:"
   ]
  },
  {
   "cell_type": "code",
   "execution_count": null,
   "metadata": {},
   "outputs": [],
   "source": [
    "def SommaCubi(a, b):\n",
    "    if a > b:\n",
    "        return 0\n",
    "    else:\n",
    "        return Cubo(a) + SommaCubi(a+1, b)\n",
    "    \n",
    "SommaCubi(1,5)"
   ]
  },
  {
   "cell_type": "markdown",
   "metadata": {},
   "source": [
    "La terza procedura calcola la somma di una sequenza di termini nella serie:\n",
    "\n",
    "$$\n",
    "    \\frac{1}{1 \\cdot 3} + \\frac{1}{5 \\cdot 7} + \\frac{1}{9 \\cdot 11} + ...\n",
    "$$\n",
    "\n",
    "che converge a $\\frac{\\pi}{8}$ (anche se molto lentamente):"
   ]
  },
  {
   "cell_type": "code",
   "execution_count": null,
   "metadata": {
    "collapsed": true
   },
   "outputs": [],
   "source": [
    "def SommaPI(a, b):\n",
    "    if a > b:\n",
    "        return 0\n",
    "    else:\n",
    "        return (1/(a*(a+2))) + SommaPI(a+4, b)"
   ]
  },
  {
   "cell_type": "markdown",
   "metadata": {},
   "source": [
    "Queste tre procedure hanno uno schema di calcolo comune. Sono per lo più identiche, e si differenziano solo nel nome della procedura, la funzione di $a$ che viene usata per calcolare il valore che viene sommato, e la funzione che definisce il prossimo valore di $a$ che deve essere usato.\n",
    "\n",
    "Potremmo generare ognuna di queste tre procedure, partendo dallo schema seguente:\n",
    "\n",
    "```\n",
    "def <NomeProcedura>(a, b):\n",
    "    if a > b:\n",
    "        return 0\n",
    "    else:\n",
    "        return <F>(a) + <NomeProcedura>(<Next>(a), b)\n",
    "```\n",
    "\n",
    "La presenza di uno schema comune alla tre procedure rende evidente che si sia un'*astrazione* che aspetta solo di emergere. In pratica, i **matematici** hanno identificato questo schema tanti anni fa, identificando il concetto astratto di sommatoria di funzioni e hanno inventato la *notazione sigma* seguente:\n",
    "\n",
    "$$\n",
    "\\sum_{n=a}^b f(n) = f(a) + \\dots f(b)\n",
    "$$"
   ]
  },
  {
   "cell_type": "markdown",
   "metadata": {},
   "source": [
    "per esprimere in modo conciso questo concetto astratto.\n",
    "\n",
    "In maniera analoga, come programmatori, vorremo avere un linguaggio che ci permetta di scrivere una procedura che rappresenti il concetto di sommatoria di funzioni, piuttosto che scrivere una procedura che calcoli solo una particolare operazione composta.\n",
    "\n",
    "Questo può essere fatto in maniera abbastanza diretta in Python, nel modo seguente:"
   ]
  },
  {
   "cell_type": "code",
   "execution_count": null,
   "metadata": {
    "collapsed": true
   },
   "outputs": [],
   "source": [
    "def Sommatoria(F, a, Next, b):\n",
    "    if a > b:\n",
    "        return 0\n",
    "    else:\n",
    "        return F(a) + Sommatoria(F, Next(a), Next, b)"
   ]
  },
  {
   "cell_type": "markdown",
   "metadata": {},
   "source": [
    "Si noti che in questo caso, $a$ e $b$ sono gli estremi dell'intervallo della sommatoria, mentre `F` e `Next` sono due procedure non ancora specificate.\n",
    "\n",
    "Possiamo usare la procedura `Sommatoria` nel modo seguente.\n",
    "\n",
    "La prima procedura vista può essere definita come:"
   ]
  },
  {
   "cell_type": "code",
   "execution_count": null,
   "metadata": {},
   "outputs": [],
   "source": [
    "def Inc(x):\n",
    "    return x+1\n",
    "\n",
    "def SumCubi(a, b):    \n",
    "    return Sommatoria(Cubo, a, Inc, b)\n",
    "\n",
    "SumCubi(1, 5)"
   ]
  },
  {
   "cell_type": "markdown",
   "metadata": {},
   "source": [
    "Utilizzando la funzione identità per calcolare al posto della funzione `Cubo`, possiamo definire anche la prima funzione vista, ovvero la funzione `SommaInteri`, nel modo seguente:"
   ]
  },
  {
   "cell_type": "code",
   "execution_count": null,
   "metadata": {},
   "outputs": [],
   "source": [
    "def Ident(x):\n",
    "    return x\n",
    "\n",
    "def SumInteri(a, b):\n",
    "    return Sommatoria(Ident, a, Inc, b)\n",
    "\n",
    "SumInteri(1,5)"
   ]
  },
  {
   "cell_type": "markdown",
   "metadata": {},
   "source": [
    "Infine, facendo attenzione, possiamo definire anche la terza procedura, quella per calcolare $\\frac{\\pi}{8}$, utilizzando sempre la funzione high-order `Sommatoria`:"
   ]
  },
  {
   "cell_type": "code",
   "execution_count": null,
   "metadata": {},
   "outputs": [],
   "source": [
    "def SommaPI(a, b):\n",
    "    def PIF(x):\n",
    "        return 1/(x*(x+2))\n",
    "    def PINext(x):\n",
    "        return x+4\n",
    "    \n",
    "    return Sommatoria(PIF, a, PINext, b)\n",
    "\n",
    "print(8*SommaPI(1,1000)) # Moltiplichiamo per 8, per ottenere $\\pi$"
   ]
  },
  {
   "cell_type": "markdown",
   "metadata": {},
   "source": [
    "### Calcolo di integrali definiti\n",
    "Ora che abbiamo la funzione `Sommatoria`, possiamo usarla per formulare anche altri concetti. Per esempio, l'integrale definito di una funzione $f$ tra i limiti $a$ e $b$, può essere approssimato numericamente usando la formula:\n",
    "\n",
    "$$\n",
    "    \\int_a^b = [f(a+dx/2) + f(a+dx+dx/2) + f(1+ 2dx + dx/2)+ ...]dx\n",
    "$$\n",
    "\n",
    "per valori piccoli di $dx$. Questo può essere implementato direttamente in una procedura come segue:"
   ]
  },
  {
   "cell_type": "code",
   "execution_count": null,
   "metadata": {},
   "outputs": [],
   "source": [
    "def Integrale(F, a, b, dx):\n",
    "    def AddDx(x):\n",
    "        return x + dx\n",
    "    return dx*Sommatoria(F, a+dx/2, AddDx, b)\n",
    "\n",
    "Integrale(Cubo, 0, 1, 0.05)"
   ]
  },
  {
   "cell_type": "markdown",
   "metadata": {},
   "source": [
    "(Si tenga presente che il valore esatto dell'integrale è $\\frac{1}{4}$)."
   ]
  },
  {
   "cell_type": "markdown",
   "metadata": {},
   "source": [
    "### Definizione di procedure <`lambda`>\n",
    "Negli esempi precedenti abbiamo definito alcune procedure molto semplici, il cui unico scopo era quello di usarle come parametri alla chiamata di altre procedure, come ad esempio le procedure `AddDx` e `Ident`.\n",
    "\n",
    "In molti linguaggi, quando si devono definire delle procedure per un uso \"locale\", si usano quelle che in gergo vengono chiamate le \"*lambda functions*\". In pratica, si introduce nella **sintassi** del linguaggio, la possibilità di definire delle procedure senza specificarne direttamente il nome, ed usandole direttamente come parametri di chiamate ad altre procedure. La sintassi in Python è la seguente:\n",
    "\n",
    "```\n",
    "lambda x: <corpo della procedura, dove viene usata x>\n",
    "```\n",
    "\n",
    "La prima è la parola chiave `lambda`, che è una parola chiave del linguaggio, che viene seguita da una lista di parametri formali (di solito se ne usa solo uno), poi dopo i due punti segue il corpo della procedura.\n",
    "\n",
    "Per esempio la procedura `Integrale` definita sopra potrebbe essere usata nel modo seguente, per calcolare l'integrale di $x^4$"
   ]
  },
  {
   "cell_type": "code",
   "execution_count": null,
   "metadata": {},
   "outputs": [],
   "source": [
    "Integrale(lambda x: x**4, 0, 1, 0.05)"
   ]
  },
  {
   "cell_type": "code",
   "execution_count": null,
   "metadata": {},
   "outputs": [],
   "source": [
    "Integrale(lambda x: x**3, 0, 1, 0.05)"
   ]
  },
  {
   "cell_type": "markdown",
   "metadata": {},
   "source": [
    "Si noti come si è definita una piccola procedura, senza darle un nome, ed usandola solo come parametro alla chiamata di un'altra procedura.\n",
    "\n",
    "In maniera analoga, la funzione `SommaPI` potrebbe essere definita direttamente nel modo seguente:"
   ]
  },
  {
   "cell_type": "code",
   "execution_count": null,
   "metadata": {},
   "outputs": [],
   "source": [
    "def SommaPILambda(a, b):\n",
    "    return Sommatoria(lambda x: 1.0/(x*(x+2)), a, lambda x: x+4, b)\n",
    "\n",
    "print(8*SommaPILambda(1,1000))"
   ]
  },
  {
   "cell_type": "markdown",
   "metadata": {},
   "source": [
    "### Procedure come oggetti restituiti da una procedura\n",
    "Le procedure, sia quelle specificate con un nome, sia quelle definite tramite la parola chiave `lambda`, posso essere utilizzate come valore di ritorno di una procedura.\n",
    "\n",
    "Consideriamo l'esempio seguente. Si vuole scrivere una procedura che implementi la funzione composta\n",
    "\n",
    "$$\n",
    "    f(x) = 2\\,g(x)\n",
    "$$\n",
    "\n",
    "Senza specificare quale sia la funzione $g(x)$, che deve essere un parametro di input della nostra funzione. Usando le `lambda` possiamo scrivere la seguente procedura:"
   ]
  },
  {
   "cell_type": "code",
   "execution_count": null,
   "metadata": {
    "collapsed": true
   },
   "outputs": [],
   "source": [
    "def FunFactory(G):\n",
    "    return lambda x: 2*G(x)"
   ]
  },
  {
   "cell_type": "markdown",
   "metadata": {},
   "source": [
    "In questo caso, abbiamo scritto una procedura chiamata `FunFactory` che prende in input una procedura `G`, e restituisce in output una procedura `lambda` che calcola la funzione `2*G(x)`.\n",
    "\n",
    "Questa funzione **HIGH-ORDER**, può essere utilizzata nel modo seguente, per calcolare $f_1(x)= 2\\, x^2$ e $f_2(x)=2\\, x^3$:"
   ]
  },
  {
   "cell_type": "code",
   "execution_count": null,
   "metadata": {},
   "outputs": [],
   "source": [
    "F1 = FunFactory(lambda x: x**2)\n",
    "F2 = FunFactory(lambda x: x**3)\n",
    "\n",
    "print(F1(3), F2(3))"
   ]
  },
  {
   "cell_type": "markdown",
   "metadata": {},
   "source": [
    "**NOTA:** La possibilità di definire procedure/funzioni HIGH-ORDER, che prendono in input delle procedure e/o restituiscono in output altre procedure, è una caratteristica molto importante di un linguaggio di programmazione, che permette di introdurre in maniera astratta, ma elegante, procedure che possono effettuare dei calcoli anche complessi."
   ]
  }
 ],
 "metadata": {
  "kernelspec": {
   "display_name": "Python 3",
   "language": "python",
   "name": "python3"
  },
  "language_info": {
   "codemirror_mode": {
    "name": "ipython",
    "version": 3
   },
   "file_extension": ".py",
   "mimetype": "text/x-python",
   "name": "python",
   "nbconvert_exporter": "python",
   "pygments_lexer": "ipython3",
   "version": "3.6.3"
  }
 },
 "nbformat": 4,
 "nbformat_minor": 2
}
