{
 "cells": [
  {
   "cell_type": "markdown",
   "metadata": {},
   "source": [
    "## Esempio: Calcolo delle radici quadrata tramite il metodo di Newton\n",
    "Le procedure che abbiamo introdotto sino ad ora sono essenzialmente delle **funzioni matematiche**. Queste specificano un valore che viene calcolato a partire da uno o più parametri. Tuttavia, le procedure definite al calcolatore si differenziano in quanto devono essere anche **efficienti**.\n",
    "\n",
    "Prendiamo per esempio la definizione seguente:\n",
    "\n",
    "$$\\sqrt{x} = y \\mbox{ tale che } y \\geq 0 \\mbox{ e } y^2 = x$$\n",
    "\n",
    "Queste definizione va bene da un punto di vista matematico, e potremmo usarla per controllare se un certo numero è effettivamente la radice quadrata di un altro, ma non descrivere di certo una procedure per calcolare la radice quadrata di un numero."
   ]
  },
  {
   "cell_type": "markdown",
   "metadata": {},
   "source": [
    "### Enumerazione esaustiva (forza bruta)\n",
    "Se ci limitiamo a considerare i numeri interi, potremmo utilizzare la definizione precedente per trovare la radice quadrata per enumerazione esaustiva. Se dobbiamo trovare la radice quadrata di $x$, possiamo provare tutti i numeri da $x$ a 1, e provare ogni volta se il numero \"*tentativo*\" è il quadrato dell'altro. \n",
    "\n",
    "**ESERCIZIO 2.1**: scrivere una procedura (funzione) che prende in input un numero intero maggiore o uguale a 1, e prova tutti i numeri da $x$ a 1 e se trova la radice quadrata esatta la restituisce, altrimenti restituisce $-1$."
   ]
  },
  {
   "cell_type": "code",
   "execution_count": null,
   "metadata": {
    "collapsed": false
   },
   "outputs": [],
   "source": [
    "def RadiceBruteForce(x, y):\n",
    "    print(x, y)\n",
    "    if y == 0:\n",
    "        return -1\n",
    "    else:\n",
    "        if x == y*y:\n",
    "            return y\n",
    "        else:\n",
    "            return RadiceBruteForce(x, y-1)\n",
    "    \n",
    "def RadiceEnum(x):\n",
    "    if x < 1:\n",
    "        print(\"Funziona solo per numeri maggiori di 1\")\n",
    "        return -1\n",
    "    return RadiceBruteForce(x, x)"
   ]
  },
  {
   "cell_type": "code",
   "execution_count": null,
   "metadata": {
    "collapsed": false
   },
   "outputs": [],
   "source": [
    "RadiceEnum(25)"
   ]
  },
  {
   "cell_type": "code",
   "execution_count": null,
   "metadata": {
    "collapsed": false
   },
   "outputs": [],
   "source": [
    "RadiceEnum(16)"
   ]
  },
  {
   "cell_type": "code",
   "execution_count": null,
   "metadata": {
    "collapsed": false
   },
   "outputs": [],
   "source": [
    "RadiceEnum(17)"
   ]
  },
  {
   "cell_type": "code",
   "execution_count": null,
   "metadata": {
    "collapsed": false
   },
   "outputs": [],
   "source": [
    "RadiceEnum(1)"
   ]
  },
  {
   "cell_type": "code",
   "execution_count": null,
   "metadata": {
    "collapsed": false
   },
   "outputs": [],
   "source": [
    "RadiceEnum(0)"
   ]
  },
  {
   "cell_type": "markdown",
   "metadata": {},
   "source": [
    "### Ricerca per bisezione\n",
    "Potremmo cercare di migliorare la procedura precedente tenendo conto del fatto che i numeri che stiamo controllando sono ordinati, in ordine decrescente. Quindi potremmo evitare di controllare tutti i numeri, uno alla volta, ma potremmo cercare di fare dei \"salti\".\n",
    "\n",
    "**ESERCIZIO 2.2**: scrivere una procedura che, per trovare la radice quadrata di un numero, ogni volta divide l'intervallo di ricerca in due parti uguali, e continua ad esplorare solo la parte in cui effettivamente si può trovare la radice cercata."
   ]
  },
  {
   "cell_type": "code",
   "execution_count": null,
   "metadata": {
    "collapsed": true
   },
   "outputs": [],
   "source": [
    "def RadiceBisectionSearch(x, a, b):\n",
    "    print(x, a, b)\n",
    "    if a > b:\n",
    "        return -1\n",
    "    y = (b + a)/2\n",
    "    if x == y*y:\n",
    "        return y\n",
    "    if y*y < x:\n",
    "        return RadiceBisectionSearch(x, y, b)\n",
    "    else:\n",
    "        return RadiceBisectionSearch(x, a, y)\n",
    "    \n",
    "def RadiceBisection(x):\n",
    "    return RadiceBisectionSearch(x, 1, x)"
   ]
  },
  {
   "cell_type": "code",
   "execution_count": null,
   "metadata": {
    "collapsed": false
   },
   "outputs": [],
   "source": [
    "RadiceBisection(25)"
   ]
  },
  {
   "cell_type": "code",
   "execution_count": null,
   "metadata": {
    "collapsed": false
   },
   "outputs": [],
   "source": [
    "RadiceBisection(17)"
   ]
  },
  {
   "cell_type": "markdown",
   "metadata": {},
   "source": [
    "Potremmo introdurre il concetto di tolleranza numerica, cercando un numero tale che\n",
    "\n",
    "$$\\sqrt{x} = y \\mbox{ tale che } y \\geq 0 \\mbox{ e } |y^2 - x| < \\epsilon$$\n",
    "\n",
    "dove $\\epsilon$ è una costante molto piccola."
   ]
  },
  {
   "cell_type": "code",
   "execution_count": null,
   "metadata": {
    "collapsed": true
   },
   "outputs": [],
   "source": [
    "def Istess(x, y):\n",
    "    return abs(x - y) < 0.001\n",
    "\n",
    "def RadiceBisectionSearch(x, a, b):\n",
    "    if a > b:\n",
    "        return -1\n",
    "    y = (b + a)/2\n",
    "    if Istess(x, y*y):\n",
    "        return y\n",
    "    if y*y < x:\n",
    "        return RadiceBisectionSearch(x, y, b)\n",
    "    else:\n",
    "        return RadiceBisectionSearch(x, a, y)\n",
    "    \n",
    "def RadiceBisection(x):\n",
    "    return RadiceBisectionSearch(x, 1, x)"
   ]
  },
  {
   "cell_type": "markdown",
   "metadata": {},
   "source": [
    "### Il metodo di Newton\n",
    "Il metodo più usato per calcolare la radice quadrata è il metodo di approssimazioni successive introdotto da Newton. Il metodo consiste nel trovare la soluzione attraverso aggiustamenti successivi di una soluzione tentativa: se abbiamo un valore $y$ che dovrebbe essere la radice quadrata di un altro numero $x$  possiamo ottenere una approssimazione migliore facendo la media tra $y$ e $x/y$. \n",
    "\n",
    "**ESEMPIO:** ricerca della radice quadrata di 2.\n",
    "\n",
    "| Valore Tentativo $y$ | Quoziente $x/y$ | Media tra $y$ e $x/y$ |\n",
    "|    :--:   |    :--:    |    :--:    |\n",
    "|  1  |  2/1  | (1+2)/2=1.5 | \n",
    "|  1.5  |  2/1.5=1.3333  | (1.3333+1.5)/2=1.4167 |\n",
    "|  1.4167  |  2/1.4167=1.4118  | (1.4118 + 1.4167)/2=1.4142 |\n",
    "| 1.4142 | ... | ... |\n",
    "\n",
    "**ESERCIZIO 2.3**: Scrivere una o più procedure per trovare la radice quadrata di un numero, utilizzando il metodo di Newton scritto sopra."
   ]
  },
  {
   "cell_type": "code",
   "execution_count": null,
   "metadata": {
    "collapsed": true
   },
   "outputs": [],
   "source": [
    "# DA COMPLETARE"
   ]
  },
  {
   "cell_type": "code",
   "execution_count": null,
   "metadata": {
    "collapsed": false
   },
   "outputs": [],
   "source": [
    "RadiceNewton(25)"
   ]
  },
  {
   "cell_type": "markdown",
   "metadata": {},
   "source": [
    "## Confronto tra le tre funzioni trovate\n",
    "Possiamo provare a fare un piccolo confronto tra le tre funzioni trovate in termini di efficienza, andando a contare, per esempio, quante volte è stata chiamata la funzione ricorsiva.\n",
    "\n",
    "Per fare questo, modifichiamo leggermente la **specifica** della procedura, richiedendo che invece di restituire un solo numero, ritorni una coppia di numeri ($\\sqrt{x}$, `iter`), dove il primo numero è il valore approssimato della radice quadrata, mentre il secondo è il numero di chiamate alla funzione ricorsiva.\n",
    "\n",
    "**ESERCIZIO 2.4**: provare a modificare le procedure precedenti per ottenere il risultato voluto."
   ]
  },
  {
   "cell_type": "code",
   "execution_count": null,
   "metadata": {
    "collapsed": true
   },
   "outputs": [],
   "source": []
  }
 ],
 "metadata": {
  "kernelspec": {
   "display_name": "Python [default]",
   "language": "python",
   "name": "python3"
  },
  "language_info": {
   "codemirror_mode": {
    "name": "ipython",
    "version": 3
   },
   "file_extension": ".py",
   "mimetype": "text/x-python",
   "name": "python",
   "nbconvert_exporter": "python",
   "pygments_lexer": "ipython3",
   "version": "3.5.3"
  }
 },
 "nbformat": 4,
 "nbformat_minor": 2
}
