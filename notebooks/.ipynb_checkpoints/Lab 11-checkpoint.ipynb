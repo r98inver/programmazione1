{
 "cells": [
  {
   "cell_type": "markdown",
   "metadata": {},
   "source": [
    "# Numeri complessi\n",
    "In python è possibile definire direttamente dei numeri complessi, utilizzando il costruttore `complex(real, img)`, che restituisce un dato composto (tipo particolare di coppia di numeri) che rappresenta il relativo numero immaginario: "
   ]
  },
  {
   "cell_type": "code",
   "execution_count": 1,
   "metadata": {},
   "outputs": [],
   "source": [
    "c = complex(1,2)"
   ]
  },
  {
   "cell_type": "code",
   "execution_count": 2,
   "metadata": {},
   "outputs": [
    {
     "name": "stdout",
     "output_type": "stream",
     "text": [
      "(1+2j) <class 'complex'>\n"
     ]
    }
   ],
   "source": [
    "print(c, type(c))"
   ]
  },
  {
   "cell_type": "code",
   "execution_count": 6,
   "metadata": {},
   "outputs": [
    {
     "name": "stdout",
     "output_type": "stream",
     "text": [
      "(1-2j) <class 'complex'>\n"
     ]
    }
   ],
   "source": [
    "# oppure direttamente usando il carattere 'j' dopo un numero\n",
    "c2 = 1-2j\n",
    "print(c2, type(c2))"
   ]
  },
  {
   "cell_type": "markdown",
   "metadata": {},
   "source": [
    "È possibile ottenere il coniugato del numero:"
   ]
  },
  {
   "cell_type": "code",
   "execution_count": 4,
   "metadata": {},
   "outputs": [
    {
     "name": "stdout",
     "output_type": "stream",
     "text": [
      "coniugato: (1-2j), parte reale: 1.0, parte immaginaria: 2.0\n"
     ]
    }
   ],
   "source": [
    "print('coniugato: {}, parte reale: {}, parte immaginaria: {}'.format(c.conjugate(), c.real, c.imag))"
   ]
  },
  {
   "cell_type": "markdown",
   "metadata": {},
   "source": [
    "Si noti che `conjugate()` è una funzione (che prende in modo implicito come argomento il numero stesso, con notazione dot.function()), mentre `real` e `imag` sono degli **attributi** (tipo particolari di **selettori**) del dato composto di tipo `complex`.\n",
    "\n",
    "Inoltre sui numeri complessi sono stati ridefiniti tutti gli operatori aritmetici, il predicato di uguaglianza, e il calcolo del modulo:"
   ]
  },
  {
   "cell_type": "code",
   "execution_count": 7,
   "metadata": {},
   "outputs": [
    {
     "name": "stdout",
     "output_type": "stream",
     "text": [
      "(3.5+1.5j)\n",
      "False\n",
      "5.830951894845301\n"
     ]
    }
   ],
   "source": [
    "a = 1+3j\n",
    "b = -3 -5j\n",
    "c = 1j\n",
    "d = 2\n",
    "print(a+b*c/d)\n",
    "print(1==b)\n",
    "print(abs(b))"
   ]
  },
  {
   "cell_type": "markdown",
   "metadata": {},
   "source": [
    "La documentazione di Python contiene la [lista completa di funzioni per i numeri complessi](https://docs.python.org/3.3/library/cmath.html).\n",
    "\n",
    "Si consiglia di leggere anche la documentazione sulla [funzione \"format\" per le stringhe](https://pyformat.info/)."
   ]
  },
  {
   "cell_type": "markdown",
   "metadata": {},
   "source": [
    "# Liste e Matrici\n",
    "Una matrice rettangolare di $n$ righe e $m$ colonne può essere direttamente rappresentata in Python utilizzando delle liste di liste che contengono gli elementi della matrice. Per esempio, la matrice\n",
    "\n",
    "$A = \\left[ \\begin{array}{ccc} 1 & 3 & 0 \\\\ -1 & 1 & 9 \\\\ -3 & 4 & 1 \\end{array} \\right]$\n",
    "\n",
    "può essere rappresentata dalla lista di liste:"
   ]
  },
  {
   "cell_type": "code",
   "execution_count": 10,
   "metadata": {},
   "outputs": [],
   "source": [
    "A = [[1,3,0], [-1,1,9], [-3,4,1]]"
   ]
  },
  {
   "cell_type": "code",
   "execution_count": 11,
   "metadata": {},
   "outputs": [
    {
     "name": "stdout",
     "output_type": "stream",
     "text": [
      "[[1, 3, 0], [-1, 1, 9], [-3, 4, 1]]\n"
     ]
    }
   ],
   "source": [
    "print(A)"
   ]
  },
  {
   "cell_type": "code",
   "execution_count": 12,
   "metadata": {},
   "outputs": [
    {
     "name": "stdout",
     "output_type": "stream",
     "text": [
      "[-1, 1, 9]\n"
     ]
    }
   ],
   "source": [
    "# Accesso alla seconda riga\n",
    "print(A[1])"
   ]
  },
  {
   "cell_type": "code",
   "execution_count": 5,
   "metadata": {},
   "outputs": [
    {
     "name": "stdout",
     "output_type": "stream",
     "text": [
      "9\n"
     ]
    }
   ],
   "source": [
    "# Accesso al terzo elemento della seconda riga, ovvero elemento a(2,3)\n",
    "print(A[1][2])"
   ]
  },
  {
   "cell_type": "markdown",
   "metadata": {},
   "source": [
    "Un'implementazione efficiente della struttura dati \"matrice\" viene fornita dalla libreria [numpy](https://http://www.numpy.org/). Per il momento, basta sapere che con la struttura dati [numpy.matrix](https://docs.scipy.org/doc/numpy-1.13.0/reference/generated/numpy.matrix.html) è possibile definire un dato composto di tipo matrice nel modo seguente:"
   ]
  },
  {
   "cell_type": "code",
   "execution_count": 8,
   "metadata": {},
   "outputs": [],
   "source": [
    "from numpy import matrix"
   ]
  },
  {
   "cell_type": "code",
   "execution_count": 15,
   "metadata": {},
   "outputs": [],
   "source": [
    "B = matrix(A)"
   ]
  },
  {
   "cell_type": "code",
   "execution_count": 16,
   "metadata": {},
   "outputs": [
    {
     "name": "stdout",
     "output_type": "stream",
     "text": [
      "[[ 1  3  0]\n",
      " [-1  1  9]\n",
      " [-3  4  1]]\n"
     ]
    }
   ],
   "source": [
    "print(B)"
   ]
  },
  {
   "cell_type": "code",
   "execution_count": 17,
   "metadata": {},
   "outputs": [
    {
     "data": {
      "text/plain": [
       "matrix([[ 1,  3,  0],\n",
       "        [-1,  1,  9],\n",
       "        [-3,  4,  1]])"
      ]
     },
     "execution_count": 17,
     "metadata": {},
     "output_type": "execute_result"
    }
   ],
   "source": [
    "# Provare a scrivere \"B.\" e poi premere il tasto 'TAB'\n",
    "#B.\n",
    "B"
   ]
  },
  {
   "cell_type": "markdown",
   "metadata": {},
   "source": [
    "Oppure si può definire la matrice direttamente usando l'oggetto matrix:"
   ]
  },
  {
   "cell_type": "code",
   "execution_count": 18,
   "metadata": {},
   "outputs": [],
   "source": [
    "C =matrix([[1, 2], [3, 4]])"
   ]
  },
  {
   "cell_type": "code",
   "execution_count": 12,
   "metadata": {},
   "outputs": [
    {
     "name": "stdout",
     "output_type": "stream",
     "text": [
      "[[1 2]\n",
      " [3 4]]\n"
     ]
    }
   ],
   "source": [
    "print(C)"
   ]
  },
  {
   "cell_type": "markdown",
   "metadata": {},
   "source": [
    "Per una lista completa delle funzioni definite sulle matrice in numpy, consultare la [documentazione di matrix](https://docs.scipy.org/doc/numpy-1.13.0/reference/generated/numpy.matrix.html)."
   ]
  },
  {
   "cell_type": "markdown",
   "metadata": {},
   "source": [
    "# Rappresentazione grafica di una matrice\n",
    "Con la libreria [matplotlib](http://matplotlib.org/) è possibile rappresentare immagini in due dimensioni definite da matrici usando il comando [`imshow`](http://matplotlib.org/api/pyplot_api.html#matplotlib.pyplot.imshow).\n",
    "\n",
    "Nel caso più semplice, la funzione prende in input una matrice di numeri, e se non viene specificato un valore per il parametro [cmap](https://matplotlib.org/tutorials/colors/colorbar_only.html), la funzione decide in automatico i colori da assegnare a ciascun numero contenuto nella matrice. \n",
    "\n",
    "Per vedere esempi di possibili ColorMap si rimanda a questo [tutorial](http://matplotlib.org/users/colormaps.html).\n",
    "\n",
    "## La scacchiera\n",
    "L'esempio più semplice di immagine che corrisponde ad una matrice è sicuramente una scacchiera, in cui possiamo assegnare un numero al bianco e un altro al nero.\n",
    "\n",
    "Per esempio, il codice seguente crea un'immagine corrispondente ad una scacchiare 8x8, in cui ad ogni coppia di interi $(i,j)$ viene assegnato il valore 0, che viene \"mappato\" al nero, oppure il valore 1, che viene \"mappato\" al bianco. La mappatura al bianco e al nero viene determinata dal parametro `cmap=gray`."
   ]
  },
  {
   "cell_type": "code",
   "execution_count": 2,
   "metadata": {},
   "outputs": [
    {
     "name": "stdout",
     "output_type": "stream",
     "text": [
      "[[0 1 0 1 0 1 0 1]\n",
      " [1 0 1 0 1 0 1 0]\n",
      " [0 1 0 1 0 1 0 1]\n",
      " [1 0 1 0 1 0 1 0]\n",
      " [0 1 0 1 0 1 0 1]\n",
      " [1 0 1 0 1 0 1 0]\n",
      " [0 1 0 1 0 1 0 1]\n",
      " [1 0 1 0 1 0 1 0]]\n"
     ]
    },
    {
     "data": {
      "image/png": "[encoded data removed]",
      "text/plain": [
       "<matplotlib.figure.Figure at 0x7fa9fa6409e8>"
      ]
     },
     "metadata": {},
     "output_type": "display_data"
    }
   ],
   "source": [
    "import matplotlib.pyplot as plt\n",
    "import numpy as np\n",
    "\n",
    "def DrawChessBoard(n=8):\n",
    "    # L'operatore '%' calcola il resto della divisione\n",
    "    ChessBoard = np.matrix([[(i+(j%2))%2 for i in range(n)] for j in range(n)])\n",
    "    print(ChessBoard)\n",
    "    # Crea una figura, disegna l'immagine data dalla matrice, aggiungi la colorbar sulla destra\n",
    "    fig = plt.figure(figsize=(6,6))\n",
    "    # Uso la colormap 'gray' per avere la scacchiera in bianco&nero\n",
    "    img = plt.imshow(ChessBoard, cmap='gray')\n",
    "    plt.show()\n",
    "    \n",
    "DrawChessBoard(8)"
   ]
  },
  {
   "cell_type": "markdown",
   "metadata": {},
   "source": [
    "## Un gradiente circolare\n",
    "Per rendersi idea di come vengono gestiti i colori, si consideri il codice seguente, in cui per comodità si usa il piano complesso, e si fa corrispondere ad ogni elemento $a_{rc}$ di una matrice quadrata $n \\times n$ il valore:\n",
    "\n",
    "$$a_{rc} = \\mid complex(r-n, c-n) \\mid$$\n",
    "\n",
    "in cui `complex(a,b)` è la primitiva di Python che crea il numero complesso $a+b\\,i$ (i unità immaginaria)."
   ]
  },
  {
   "cell_type": "code",
   "execution_count": 40,
   "metadata": {},
   "outputs": [
    {
     "data": {
      "image/png": "[encoded data removed]",
      "text/plain": [
       "<matplotlib.figure.Figure at 0x7fa9f37e1a58>"
      ]
     },
     "metadata": {},
     "output_type": "display_data"
    }
   ],
   "source": [
    "# Calcola il modulo del numero complesso\n",
    "# che viene usato per stabilire il colore nell'immagine\n",
    "def ComplexModulo(z):\n",
    "    return abs(z)\n",
    "\n",
    "# Costruisci una matrice n x n dove ciascun elemento\n",
    "# corrisponde ad un pixel dell'immagine; il valore numerico\n",
    "# dell'elemento ne determina il colore\n",
    "def MakeImage(F, n, scale=0.01):\n",
    "    data = [scale*i for i in range(-n,n)]\n",
    "    return np.matrix([[F(complex(a, b)) for a in data] for b in data])\n",
    "\n",
    "# Disegna l'immagine della matrice creata dalla funzione F(z) : Z -> R\n",
    "def DrawImage(F, n, scale):\n",
    "    # Restituisce una matrice n*n\n",
    "    m = MakeImage(F, n, scale)\n",
    "    # Crea una figura, disegna l'immagine data dalla matrice, aggiungi la colorbar sulla destra\n",
    "    plt.figure(figsize=(6,6))\n",
    "    img = plt.imshow(m, extent=(-scale*n, scale*n, -scale*n, scale*n), cmap='hot') # jet, gray,\n",
    "    plt.colorbar()\n",
    "    plt.show()\n",
    "\n",
    "# Alcuni parametri\n",
    "DrawImage(ComplexModulo, 200, 0.01)"
   ]
  },
  {
   "cell_type": "markdown",
   "metadata": {},
   "source": [
    "**ESERCIZIO:** Provare ad usare diversi valori per la colormap, come indicato nel relativo [tutorial](http://matplotlib.org/users/colormaps.html)."
   ]
  },
  {
   "cell_type": "markdown",
   "metadata": {},
   "source": [
    "## Un frattale semplice: il Julia Set\n",
    "Usando le matrici, si può facilmente arrivare a rappresentare immagini frattali in 2D.\n",
    "\n",
    "Prendiamo per esempio un semplice [insieme di Julia](https://en.wikipedia.org/wiki/Julia_set). Per darne una rappresentazione grafica, usiamo il piano complesso tramite una matrice come nell'esempio precedente, e per ogni punto del piano complesso $(r,c)$, corrispondente all'elemento $a_{(n-r)(n-c)}$ della matrice quadrata $n \\times n$, controlliamo se la successione dei punti:\n",
    "\n",
    "$$z_{k+1} = z_k^2 + c$$\n",
    "\n",
    "converge in un numero finito di iterazioni, oppure diverge. La successione si considera divergere quando $\\mid z_{k+1} \\mid > 2$, mentre si considera a convergenza se dopo un numero massimo di iterazioni la condizione precedente non si è ancora verificata.\n",
    "\n",
    "**ESERCIZIO 1:** Si completi la funzione `JuliaSetRec(z, c, k)` seguente in modo che controlli se la successione $z_{k+1} = z_k^2 + c$ sia convergente o meno; il parametro `z` corrisponde al numero complesso, `c` è la costante che appare nella successione, ` k` è il numero di ricorsione corrente. Se la successione converge la funzione ritorna il valore 0; se la successione diverge la funzione ritorna il numero di ricorsione `k` in cui si è dichiarata la successione come divergente. \n",
    "\n",
    "**Si implementi la funzione in maniera RICORSIVA.**"
   ]
  },
  {
   "cell_type": "code",
   "execution_count": 41,
   "metadata": {},
   "outputs": [
    {
     "data": {
      "image/png": "[encoded data removed]",
      "text/plain": [
       "<matplotlib.figure.Figure at 0x7fa9f3a9e978>"
      ]
     },
     "metadata": {},
     "output_type": "display_data"
    }
   ],
   "source": [
    "# Per informazioni di base sui Julia Set, vedere per esempio:\n",
    "# https://en.wikipedia.org/wiki/Julia_set\n",
    "def JuliaSetRec(z, c, k, max_k=64):\n",
    "    if k > max_k:\n",
    "        return 0\n",
    "    if abs(z) > 2:\n",
    "        return k\n",
    "    return JuliaSetRec(z**2+c, c, k+1, max_k)\n",
    "    \n",
    "def JuliaSet(z, c=-0.413):\n",
    "    cList = [-0.413, 0.258, (0.258+0.013j)]\n",
    "    c = cList[0]\n",
    "    return JuliaSetRec(z, c, 0)\n",
    "\n",
    "\n",
    "\n",
    "# Alcuni parametri\n",
    "DrawImage(JuliaSet, 200, 0.01)"
   ]
  },
  {
   "cell_type": "markdown",
   "metadata": {
    "collapsed": true
   },
   "source": [
    "**ESERCIZIO FACOLTATIVO 2:** Si implementi una funzione che disegni un frattale corrispondente all'[insieme di Mandelbrot](https://en.wikipedia.org/wiki/Mandelbrot_set#Computer_drawings)."
   ]
  },
  {
   "cell_type": "code",
   "execution_count": 89,
   "metadata": {},
   "outputs": [
    {
     "data": {
      "image/png": "[encoded data removed]",
      "text/plain": [
       "<matplotlib.figure.Figure at 0x7fa9f25dbcc0>"
      ]
     },
     "metadata": {},
     "output_type": "display_data"
    }
   ],
   "source": [
    "def MandelSetRec(z, d, c, k, max_k=64):\n",
    "    if k > max_k:\n",
    "        return 0\n",
    "    if abs(z) > 2:\n",
    "        return k\n",
    "    return MandelSetRec(z**d+c, d, c, k+1, max_k)\n",
    "    \n",
    "def MandelSet(z, c=-0.413):\n",
    "    cList = [-0.413, 0.258, (0.258+0.013j)]\n",
    "    c = cList[0]\n",
    "    return MandelSetRec(z, 3, c, 0)\n",
    "\n",
    "\n",
    "\n",
    "# Alcuni parametri\n",
    "DrawImage(MandelSet, 200, 0.01)"
   ]
  },
  {
   "cell_type": "markdown",
   "metadata": {},
   "source": [
    "**ESERCIZIO FACOLTATIVO 3:** Si implementi una funzione che disegni un frattale di [Newton](https://en.wikipedia.org/wiki/Newton_fractal)."
   ]
  },
  {
   "cell_type": "code",
   "execution_count": null,
   "metadata": {
    "collapsed": true
   },
   "outputs": [],
   "source": [
    "def NewtonSetRec(z, c, k, max_k=64):\n",
    "    if k > max_k:\n",
    "        return 0\n",
    "    if abs(z) > 2:\n",
    "        return k\n",
    "    return NewtonSetRec(z**d+c, d, c, k+1, max_k)\n",
    "    \n",
    "def NewtonSet(z, c=-0.413):\n",
    "    cList = [-0.413, 0.258, (0.258+0.013j)]\n",
    "    c = cList[0]\n",
    "    return NewtonSetRec(z, c, 0)\n",
    "\n",
    "\n",
    "\n",
    "# Alcuni parametri\n",
    "DrawImage(NewtonSet, 200, 0.01)"
   ]
  }
 ],
 "metadata": {
  "kernelspec": {
   "display_name": "Python 3",
   "language": "python",
   "name": "python3"
  },
  "language_info": {
   "codemirror_mode": {
    "name": "ipython",
    "version": 3
   },
   "file_extension": ".py",
   "mimetype": "text/x-python",
   "name": "python",
   "nbconvert_exporter": "python",
   "pygments_lexer": "ipython3",
   "version": "3.6.3"
  }
 },
 "nbformat": 4,
 "nbformat_minor": 2
}
