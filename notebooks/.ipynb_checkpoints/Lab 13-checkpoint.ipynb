{
 "cells": [
  {
   "cell_type": "markdown",
   "metadata": {},
   "source": [
    "# Cenni di programmazione funzionale\n",
    "\n",
    "### Calcolo di polinomio e sua derivata\n",
    "Si consideri un polinomio di ordine $n$ e la sua derivata prima:\n",
    "\n",
    "$$p(x) = a_0 x^0 + a_1 x^1 + ... + a_n x^n = \\sum_{i=0,..,n} a_i x^i$$\n",
    "\n",
    "$$p'(x) = q(x) = a_1 x^0 + 2 a_2 x^1 + ... + n a_n x^{n-1} = \\sum_{i=1,..,n} a_i x^{i-1}$$\n",
    "\n",
    "Scrivere una funzione che data la lista dei coefficienti del polinomio $[a_0, a_1, ..., a_n]$\n",
    "restituisca le due funzioni $p(x)$ e $q(x)$.\n",
    "\n",
    "Entrambe le funzioni restituite, prendono in input un valore $x$ e calcolano rispettivamente il valore del polinomio in $x$ e il valore della derivata prima."
   ]
  },
  {
   "cell_type": "code",
   "execution_count": 1,
   "metadata": {
    "scrolled": true
   },
   "outputs": [
    {
     "name": "stdout",
     "output_type": "stream",
     "text": [
      "1 0\n",
      "25 48\n"
     ]
    }
   ],
   "source": [
    "def MakePolyAndDerivate(As):\n",
    "    def Poly(x):\n",
    "        return sum(a*x**n for n,a in enumerate(As))\n",
    "    def PolyDerivate(x):\n",
    "        return sum((n+1)*a*x**n for n,a in enumerate(As[1:]))\n",
    "    return Poly, PolyDerivate\n",
    "\n",
    "p, q = MakePolyAndDerivate([1, 0, 24])\n",
    "# NOTA: p e q in questo caso sono due funzioni\n",
    "print(p(0), q(0))\n",
    "print(p(1), q(1))"
   ]
  },
  {
   "cell_type": "markdown",
   "metadata": {},
   "source": [
    "### Processare liste: `iter` e `next`\n",
    "La funzione builtin `iter(sequenza)` prende in input una sequenza (tupla, lista, stringa, dizionario,...) e restituisce un oggetto di tipo `generator`, ovvero un oggetto a cui si può chiedere il prossimo elemento, attraverso la funzione builtin `next(generator)`."
   ]
  },
  {
   "cell_type": "code",
   "execution_count": 16,
   "metadata": {},
   "outputs": [
    {
     "name": "stdout",
     "output_type": "stream",
     "text": [
      "q\n",
      "u\n",
      "a\n",
      "l\n",
      "'\n",
      "è\n"
     ]
    }
   ],
   "source": [
    "a = \"qual'è\"\n",
    "c = iter(a)\n",
    "print (next(c))\n",
    "print (next(c))\n",
    "print (next(c))\n",
    "print (next(c))\n",
    "print (next(c))\n",
    "print (next(c))\n",
    "\n"
   ]
  },
  {
   "cell_type": "code",
   "execution_count": 11,
   "metadata": {},
   "outputs": [
    {
     "name": "stdout",
     "output_type": "stream",
     "text": [
      "tipo di a: <class 'list_iterator'>\n",
      "A: 3\n"
     ]
    }
   ],
   "source": [
    "Ls = [1,2,3,4,3,2,1]\n",
    "a = iter(Ls)\n",
    "print('tipo di a: {}'.format(type(a)))\n",
    "next(a), next(a)\n",
    "A = next(a)\n",
    "print('A:', A)    # COSA STAMPA??"
   ]
  },
  {
   "cell_type": "markdown",
   "metadata": {},
   "source": [
    "Per sapere quando un oggetto di tipo iteratore ha iterato su tutta la lista conviene chiamare la funzione `next(iterator, default)` passandogli oltre all'itereratore un valore di default."
   ]
  },
  {
   "cell_type": "code",
   "execution_count": 12,
   "metadata": {},
   "outputs": [
    {
     "name": "stdout",
     "output_type": "stream",
     "text": [
      "1\n",
      "2\n",
      "3\n",
      "4\n",
      "3\n",
      "2\n",
      "1\n"
     ]
    }
   ],
   "source": [
    "a = iter(Ls)\n",
    "while True:\n",
    "    stop = object()\n",
    "    c = next(a, stop)    \n",
    "    if c == stop:\n",
    "        break\n",
    "    print(c)"
   ]
  },
  {
   "cell_type": "markdown",
   "metadata": {},
   "source": [
    "Altrimenti si può prendere l'eccezione `StopIteration` (in cui `try .. exception` altro argomento da introdurre):"
   ]
  },
  {
   "cell_type": "code",
   "execution_count": 13,
   "metadata": {},
   "outputs": [
    {
     "name": "stdout",
     "output_type": "stream",
     "text": [
      "1\n",
      "2\n",
      "3\n",
      "4\n",
      "3\n",
      "2\n",
      "1\n"
     ]
    }
   ],
   "source": [
    "a = iter(Ls)\n",
    "while True:\n",
    "    try:\n",
    "        c = next(a)\n",
    "        print(c)\n",
    "    except:\n",
    "        break"
   ]
  },
  {
   "cell_type": "markdown",
   "metadata": {},
   "source": [
    "### Lazy evaluation e liste infinite\n",
    "\n",
    "**ESERCIZIO**: scrivere una funzione `Range(n)`che prende in input un numero naturale *n* e restituisce in output i numeri da *0* a *n-1*:"
   ]
  },
  {
   "cell_type": "code",
   "execution_count": 15,
   "metadata": {},
   "outputs": [
    {
     "name": "stdout",
     "output_type": "stream",
     "text": [
      "[0, 1, 2, 3, 4]\n"
     ]
    }
   ],
   "source": [
    "def RangeNaive(n):\n",
    "    return [i for i in range(n)]\n",
    "\n",
    "print(RangeNaive(5))"
   ]
  },
  {
   "cell_type": "code",
   "execution_count": 14,
   "metadata": {},
   "outputs": [
    {
     "name": "stdout",
     "output_type": "stream",
     "text": [
      "range(0, 5)\n"
     ]
    }
   ],
   "source": [
    "print(range(5))"
   ]
  },
  {
   "cell_type": "code",
   "execution_count": 2,
   "metadata": {},
   "outputs": [
    {
     "name": "stdout",
     "output_type": "stream",
     "text": [
      "<class 'range'>\n"
     ]
    }
   ],
   "source": [
    "a = range(0, 5)\n",
    "print(type(a))"
   ]
  },
  {
   "cell_type": "markdown",
   "metadata": {},
   "source": [
    "**DOMANDA**: cosa succede se chiamiamo `Range(100000000000)`? Ma se intanto utilizziamo solo un valore alla volta, perché costruire una lista di 100000000000 elementi?\n",
    "\n",
    "In Python esiste un'altra parola chiave: **`yield`** che e simile a `return`, ma ha un significato leggermente diverso, in quanto la funzione non ritorna un singolo valore, ma un **generator**."
   ]
  },
  {
   "cell_type": "code",
   "execution_count": 64,
   "metadata": {},
   "outputs": [],
   "source": [
    "def Pippo(n):\n",
    "    print('ciao')\n",
    "    sleep(3)\n",
    "    i = 0\n",
    "    while i < n:\n",
    "        print('ciao')\n",
    "        yield i\n",
    "        i = i + 1\n",
    "def Ciao(n):\n",
    "    print('ciao')\n",
    "    yield 1\n",
    "    "
   ]
  },
  {
   "cell_type": "code",
   "execution_count": 65,
   "metadata": {},
   "outputs": [
    {
     "name": "stdout",
     "output_type": "stream",
     "text": [
      "<generator object Pippo at 0x7f2f04067f10>\n"
     ]
    }
   ],
   "source": [
    "c = Pippo(5)\n",
    "d = Ciao(4)\n",
    "print(c)"
   ]
  },
  {
   "cell_type": "code",
   "execution_count": 51,
   "metadata": {},
   "outputs": [
    {
     "name": "stdout",
     "output_type": "stream",
     "text": [
      "5\n",
      "5\n"
     ]
    },
    {
     "ename": "StopIteration",
     "evalue": "",
     "output_type": "error",
     "traceback": [
      "\u001b[0;31m---------------------------------------------------------------------------\u001b[0m",
      "\u001b[0;31mStopIteration\u001b[0m                             Traceback (most recent call last)",
      "\u001b[0;32m<ipython-input-51-bca7acbc5937>\u001b[0m in \u001b[0;36m<module>\u001b[0;34m()\u001b[0m\n\u001b[1;32m      1\u001b[0m \u001b[0mprint\u001b[0m\u001b[0;34m(\u001b[0m\u001b[0mnext\u001b[0m\u001b[0;34m(\u001b[0m\u001b[0mc\u001b[0m\u001b[0;34m)\u001b[0m\u001b[0;34m)\u001b[0m\u001b[0;34m\u001b[0m\u001b[0m\n\u001b[0;32m----> 2\u001b[0;31m \u001b[0mprint\u001b[0m\u001b[0;34m(\u001b[0m\u001b[0mnext\u001b[0m\u001b[0;34m(\u001b[0m\u001b[0mc\u001b[0m\u001b[0;34m)\u001b[0m\u001b[0;34m)\u001b[0m\u001b[0;34m\u001b[0m\u001b[0m\n\u001b[0m\u001b[1;32m      3\u001b[0m \u001b[0mprint\u001b[0m\u001b[0;34m(\u001b[0m\u001b[0mnext\u001b[0m\u001b[0;34m(\u001b[0m\u001b[0mc\u001b[0m\u001b[0;34m)\u001b[0m\u001b[0;34m)\u001b[0m\u001b[0;34m\u001b[0m\u001b[0m\n",
      "\u001b[0;31mStopIteration\u001b[0m: "
     ]
    }
   ],
   "source": [
    "print(next(c))\n",
    "print(next(c))\n",
    "print(next(c))"
   ]
  },
  {
   "cell_type": "code",
   "execution_count": 22,
   "metadata": {},
   "outputs": [
    {
     "name": "stdout",
     "output_type": "stream",
     "text": [
      "3\n",
      "4\n"
     ]
    },
    {
     "ename": "StopIteration",
     "evalue": "",
     "output_type": "error",
     "traceback": [
      "\u001b[0;31m---------------------------------------------------------------------------\u001b[0m",
      "\u001b[0;31mStopIteration\u001b[0m                             Traceback (most recent call last)",
      "\u001b[0;32m<ipython-input-22-bca7acbc5937>\u001b[0m in \u001b[0;36m<module>\u001b[0;34m()\u001b[0m\n\u001b[1;32m      1\u001b[0m \u001b[0mprint\u001b[0m\u001b[0;34m(\u001b[0m\u001b[0mnext\u001b[0m\u001b[0;34m(\u001b[0m\u001b[0mc\u001b[0m\u001b[0;34m)\u001b[0m\u001b[0;34m)\u001b[0m\u001b[0;34m\u001b[0m\u001b[0m\n\u001b[1;32m      2\u001b[0m \u001b[0mprint\u001b[0m\u001b[0;34m(\u001b[0m\u001b[0mnext\u001b[0m\u001b[0;34m(\u001b[0m\u001b[0mc\u001b[0m\u001b[0;34m)\u001b[0m\u001b[0;34m)\u001b[0m\u001b[0;34m\u001b[0m\u001b[0m\n\u001b[0;32m----> 3\u001b[0;31m \u001b[0mprint\u001b[0m\u001b[0;34m(\u001b[0m\u001b[0mnext\u001b[0m\u001b[0;34m(\u001b[0m\u001b[0mc\u001b[0m\u001b[0;34m)\u001b[0m\u001b[0;34m)\u001b[0m\u001b[0;34m\u001b[0m\u001b[0m\n\u001b[0m",
      "\u001b[0;31mStopIteration\u001b[0m: "
     ]
    }
   ],
   "source": [
    "print(next(c))\n",
    "print(next(c))\n",
    "print(next(c))"
   ]
  },
  {
   "cell_type": "code",
   "execution_count": null,
   "metadata": {},
   "outputs": [],
   "source": [
    "print([i for i in Range(5)]) "
   ]
  },
  {
   "cell_type": "markdown",
   "metadata": {},
   "source": [
    "**DOMANDA:** come mai il codice precedente funziona senza dare un errore?\n",
    "\n",
    "**ESERCIZIO:** Come definire una funzione `Enumerate(Ls)` che restituisce una coppia di valori `(indice, elemento)` per ogni elemento di `Ls`, allo stesso modo della funzione builtin `enumerate`?"
   ]
  },
  {
   "cell_type": "code",
   "execution_count": null,
   "metadata": {
    "collapsed": true
   },
   "outputs": [],
   "source": [
    "def Enumerate(Ls):\n",
    "    i = 0\n",
    "    it = iter(Ls)\n",
    "    last = object()\n",
    "    while True:\n",
    "        item = next(it, last)\n",
    "        if item == last:\n",
    "            break\n",
    "        yield i, item\n",
    "        i = i + 1"
   ]
  },
  {
   "cell_type": "code",
   "execution_count": null,
   "metadata": {},
   "outputs": [],
   "source": [
    "Ls = [i for i in range(5, 20, 2)]\n",
    "print(Ls)"
   ]
  },
  {
   "cell_type": "code",
   "execution_count": null,
   "metadata": {},
   "outputs": [],
   "source": [
    "[(i,a) for (i,a) in Enumerate(Ls)]"
   ]
  },
  {
   "cell_type": "markdown",
   "metadata": {},
   "source": []
  }
 ],
 "metadata": {
  "kernelspec": {
   "display_name": "Python 3",
   "language": "python",
   "name": "python3"
  },
  "language_info": {
   "codemirror_mode": {
    "name": "ipython",
    "version": 3
   },
   "file_extension": ".py",
   "mimetype": "text/x-python",
   "name": "python",
   "nbconvert_exporter": "python",
   "pygments_lexer": "ipython3",
   "version": "3.6.3"
  }
 },
 "nbformat": 4,
 "nbformat_minor": 2
}
