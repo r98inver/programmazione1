{
 "cells": [
  {
   "cell_type": "markdown",
   "metadata": {},
   "source": [
    "# Notebook di supporto alle slides di introduzione alla programmazione orientata agli oggetti\n",
    "\n",
    "### Numero complessi builtin\n",
    "L'esempio più semplice in Python di istanza di una classe in Python è un oggetto che rappresenta un numero complesso."
   ]
  },
  {
   "cell_type": "code",
   "execution_count": 1,
   "metadata": {},
   "outputs": [
    {
     "name": "stdout",
     "output_type": "stream",
     "text": [
      "(2+3j) <class 'complex'>\n"
     ]
    }
   ],
   "source": [
    "a = 2 + 3j\n",
    "print(a, type(a))"
   ]
  },
  {
   "cell_type": "markdown",
   "metadata": {},
   "source": [
    "### Definizione di un nuovo ADT: NumeroComplesso\n",
    "Vediamo ora come aggiungere un nuovo tipo che sia una nostra implementazione di un numero complesso. Una possibile implementazione di base è la seguente. Si noti che qualsiasi oggetto in Python eredità dall'oggetto base `object`.\n",
    "\n",
    "**ESERCIZIO 1:** Completare il metodo `somma` nel codice seguente."
   ]
  },
  {
   "cell_type": "code",
   "execution_count": 31,
   "metadata": {},
   "outputs": [],
   "source": [
    "class NumeroComplesso(object):\n",
    "    def __init__(self, real, imag):\n",
    "        \"\"\"Metodo costruttore, chiamato quando viene \n",
    "           inizializzato un nuovo oggetto\"\"\"\n",
    "        self.a = real\n",
    "        self.b = imag\n",
    "        \n",
    "    def somma(self, c):\n",
    "        \"\"\"Somma al numero corrente il numero complesso c\"\"\"\n",
    "        self.a += c.a\n",
    "        self.b += c.b\n",
    "        \n",
    "    def __str__(self):\n",
    "        \"\"\"Ritorna una stringa che rappresenta il numero\"\"\"\n",
    "        return str(self.a) + ' + ' + str(self.b) +'i'"
   ]
  },
  {
   "cell_type": "code",
   "execution_count": 3,
   "metadata": {},
   "outputs": [
    {
     "data": {
      "text/plain": [
       "type"
      ]
     },
     "execution_count": 3,
     "metadata": {},
     "output_type": "execute_result"
    }
   ],
   "source": [
    "type(NumeroComplesso)"
   ]
  },
  {
   "cell_type": "code",
   "execution_count": 28,
   "metadata": {},
   "outputs": [
    {
     "name": "stdout",
     "output_type": "stream",
     "text": [
      "2 + 3i\n",
      "3 + 1i\n"
     ]
    }
   ],
   "source": [
    "a = NumeroComplesso(2,3)\n",
    "b = NumeroComplesso(1,-2)\n",
    "print(a)\n",
    "a.somma(b)\n",
    "print(a)"
   ]
  },
  {
   "cell_type": "markdown",
   "metadata": {},
   "source": [
    "### Danger ZONE !!!"
   ]
  },
  {
   "cell_type": "code",
   "execution_count": 30,
   "metadata": {},
   "outputs": [
    {
     "name": "stdout",
     "output_type": "stream",
     "text": [
      "0 + -1i 1 + -2i\n",
      "1 + -3i\n"
     ]
    }
   ],
   "source": [
    "a.a = 0\n",
    "print(a, b)\n",
    "a.somma(b)\n",
    "print(a)"
   ]
  },
  {
   "cell_type": "markdown",
   "metadata": {},
   "source": [
    "### Inheritance e Operator Overloading\n",
    "Supponiamo ora di definire un nuovo tipo chiamato `NCO` che rappresenta un numero complesso, ma su cui vogliamo specificare l'overloading di due operazioni:\n",
    "\n",
    "1. La somma di due numeri complessi\n",
    "2. L'operatore di confronto logico di uguaglianza tra due numeri complessi\n",
    "\n",
    "Per specificare che la classe `NCO` estende la classe base `NumeroComplesso` basta dichiararla come:\n",
    "\n",
    "```\n",
    "class NCO(NumeroComplesso):\n",
    "```\n",
    "\n",
    "Si noti che si è racchiuso tra parentesi il nome del tipo da cui si ereditano attributi e metodi.\n",
    "\n",
    "**ESERCIZIO 2:** Si completi il metodo `__add__` nella classe `NCO` in modo che restituisca un nuovo oggetto che, dati due numeri `a` e `b`, rappresenti il numero complesso `c = a + b`."
   ]
  },
  {
   "cell_type": "code",
   "execution_count": 32,
   "metadata": {},
   "outputs": [],
   "source": [
    "class NCO(NumeroComplesso):\n",
    "    # EREDITA DI I METODI E ATTRIBUTI DELLA CLASSE \"NUMERO COMPLESSO\"\n",
    "    def __add__(self, c):\n",
    "        \"\"\"Esempio di OPERATOR OVERLOADING: addizione\"\"\"\n",
    "        return c\n",
    "        \n",
    "    def __eq__(self, c):\n",
    "        \"\"\"Esempio di OPERATOR OVERLOADING: confronto\"\"\"\n",
    "        return self.a == c.a and self.b == c.b"
   ]
  },
  {
   "cell_type": "code",
   "execution_count": 33,
   "metadata": {},
   "outputs": [
    {
     "name": "stdout",
     "output_type": "stream",
     "text": [
      "1 + 2i\n"
     ]
    }
   ],
   "source": [
    "c = NCO(1,2)\n",
    "print(c)"
   ]
  },
  {
   "cell_type": "code",
   "execution_count": 34,
   "metadata": {},
   "outputs": [
    {
     "data": {
      "text/plain": [
       "method"
      ]
     },
     "execution_count": 34,
     "metadata": {},
     "output_type": "execute_result"
    }
   ],
   "source": [
    "type(c.somma)"
   ]
  },
  {
   "cell_type": "code",
   "execution_count": 35,
   "metadata": {},
   "outputs": [
    {
     "data": {
      "text/plain": [
       "int"
      ]
     },
     "execution_count": 35,
     "metadata": {},
     "output_type": "execute_result"
    }
   ],
   "source": [
    "type(c.a)"
   ]
  },
  {
   "cell_type": "code",
   "execution_count": 56,
   "metadata": {},
   "outputs": [
    {
     "name": "stdout",
     "output_type": "stream",
     "text": [
      "1 + -3i 1 + -3i\n",
      "<class '__main__.NumeroComplesso'> <class '__main__.NCO'>\n"
     ]
    },
    {
     "data": {
      "text/plain": [
       "True"
      ]
     },
     "execution_count": 56,
     "metadata": {},
     "output_type": "execute_result"
    }
   ],
   "source": [
    "c = NCO(1, -3)\n",
    "print(a, c)\n",
    "print(type(a), type(c))\n",
    "c == a\n",
    "#a+c"
   ]
  },
  {
   "cell_type": "code",
   "execution_count": null,
   "metadata": {},
   "outputs": [],
   "source": [
    "d = NCO(1,2)\n",
    "print(c, id(c))\n",
    "print(d, id(d))\n",
    "print(d == c)"
   ]
  },
  {
   "cell_type": "markdown",
   "metadata": {},
   "source": [
    "## Classes vs. Closures"
   ]
  },
  {
   "cell_type": "code",
   "execution_count": null,
   "metadata": {},
   "outputs": [],
   "source": [
    "# Definizione di una classe che implementa un \"adder\"\n",
    "class Adder(object):\n",
    "    def __init__(self, n=0):\n",
    "        self.n = n   # Stato mutabile della classe (DANGER ZONE!!!)\n",
    "    def __call__(self, m):\n",
    "        return self.n + m\n",
    "    \n",
    "add5_istanza = Adder(5)\n",
    "print(add5_istanza(1), add5_istanza(7))"
   ]
  },
  {
   "cell_type": "code",
   "execution_count": null,
   "metadata": {},
   "outputs": [],
   "source": [
    "# Definizione di una closure che implementa un \"adder\"\n",
    "def make_adder(n=0):\n",
    "    def adder(m):\n",
    "        return n + m\n",
    "    return adder\n",
    "add5_function = make_adder(5)\n",
    "print(add5_function(1), add5_function(7))"
   ]
  },
  {
   "cell_type": "code",
   "execution_count": null,
   "metadata": {},
   "outputs": [],
   "source": [
    "add5_istanza.n = 1\n",
    "print(add5_istanza(1), add5_istanza(7))\n",
    "print(add5_function(1), add5_function(7))"
   ]
  },
  {
   "cell_type": "markdown",
   "metadata": {},
   "source": [
    "**NOTA:** Con gli **oggetti** per poter capire l'esecuzione del codice bisogna capire qual'è stata la storia di esecuzione precedente..."
   ]
  },
  {
   "cell_type": "code",
   "execution_count": null,
   "metadata": {},
   "outputs": [],
   "source": [
    "# Definizione di una classe che implementa un \"counter\"\n",
    "class Counter(object):\n",
    "    def __init__(self, n=0):\n",
    "        self.n = n\n",
    "        \n",
    "    def __call__(self):\n",
    "        self.n += 1\n",
    "        return self.n\n",
    "    \n",
    "counter_istanza = Counter(5)\n",
    "print(counter_istanza(), counter_istanza())"
   ]
  },
  {
   "cell_type": "code",
   "execution_count": null,
   "metadata": {},
   "outputs": [],
   "source": [
    "# Definizione di una closure che implementa un \"counter\"\n",
    "def make_counter(n=0):\n",
    "    def state():\n",
    "        c = n\n",
    "        while True:\n",
    "            c += 1\n",
    "            yield c\n",
    "        \n",
    "    def counter():\n",
    "        return next(f)\n",
    "        \n",
    "    f = state()\n",
    "    \n",
    "    return counter\n",
    "\n",
    "counter_function = make_counter(5)\n",
    "print(counter_function(), counter_function())"
   ]
  },
  {
   "cell_type": "code",
   "execution_count": null,
   "metadata": {},
   "outputs": [],
   "source": [
    "# faccio una modifica apparentemente \"innocua\"\n",
    "counter_istanza.n = 'ciao'"
   ]
  },
  {
   "cell_type": "code",
   "execution_count": null,
   "metadata": {},
   "outputs": [],
   "source": [
    "print(counter_function(), counter_function())"
   ]
  },
  {
   "cell_type": "code",
   "execution_count": null,
   "metadata": {},
   "outputs": [],
   "source": [
    "# ... dopo un po` riutilizzo il counter_istanza\n",
    "print(counter_istanza())"
   ]
  },
  {
   "cell_type": "code",
   "execution_count": null,
   "metadata": {
    "collapsed": true
   },
   "outputs": [],
   "source": []
  }
 ],
 "metadata": {
  "kernelspec": {
   "display_name": "Python 3",
   "language": "python",
   "name": "python3"
  },
  "language_info": {
   "codemirror_mode": {
    "name": "ipython",
    "version": 3
   },
   "file_extension": ".py",
   "mimetype": "text/x-python",
   "name": "python",
   "nbconvert_exporter": "python",
   "pygments_lexer": "ipython3",
   "version": "3.6.3"
  }
 },
 "nbformat": 4,
 "nbformat_minor": 2
}
