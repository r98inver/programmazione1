{
 "cells": [
  {
   "cell_type": "markdown",
   "metadata": {},
   "source": [
    "# Esercizi\n",
    "\n",
    "** ESERCIZIO 3.1**: Il metodo di Newton per calcolare le radici cubiche si basa sul fatto che se $y$ è una buona approssimazione della radice cubica di $x$, allora un'approssimazione più accurata può essere data dal valore:\n",
    "\n",
    "$$\\frac{x/y^2 + 2y}{3}$$\n",
    "\n",
    "Si usi questa formula per implementare una procedura `RadiceCubica` analoga a quella scritta per il calcolo della radice quadrata."
   ]
  },
  {
   "cell_type": "code",
   "execution_count": null,
   "metadata": {
    "collapsed": true
   },
   "outputs": [],
   "source": [
    "# DA COMPLETARE"
   ]
  },
  {
   "cell_type": "markdown",
   "metadata": {},
   "source": [
    "**ESERCIZIO 3.2**: Si definisce il fattoriale di un numero naturale $n$, indicato con $n!$, come il prodotto dei numeri naturali uguali o minori a quel numero. In pratica, si definisce:\n",
    "\n",
    "$$n! = \\prod_{k=1}^n k = 1 \\cdot 2 \\cdot 3 \\cdot \\cdot \\cdot (n-2) \\cdot (n-1) \\cdot n$$\n",
    "\n",
    "Si scriva una funzione che prende in input un numero naturale $n$ e restituisce in output il valore $n!$."
   ]
  },
  {
   "cell_type": "code",
   "execution_count": null,
   "metadata": {
    "collapsed": true
   },
   "outputs": [],
   "source": [
    "# DA COMPLETARE"
   ]
  },
  {
   "cell_type": "markdown",
   "metadata": {},
   "source": [
    "**ESERCIZIO 3.3**: Si considerino le due procedure seguenti:\n",
    "\n",
    "\n"
   ]
  },
  {
   "cell_type": "code",
   "execution_count": null,
   "metadata": {
    "collapsed": true
   },
   "outputs": [],
   "source": [
    "def Inc(x):\n",
    "    \"\"\" Incrementa di uno il valore di x \"\"\"\n",
    "    return x+1\n",
    "\n",
    "def Dec(x):\n",
    "    \"\"\" Decrementa di uno il valore di x \"\"\"\n",
    "    return x-1"
   ]
  },
  {
   "cell_type": "code",
   "execution_count": null,
   "metadata": {
    "collapsed": false
   },
   "outputs": [],
   "source": [
    "help(Inc)"
   ]
  },
  {
   "cell_type": "markdown",
   "metadata": {},
   "source": [
    "Si scriva una funzione `Somma(x,y)` che restituisca la somma `x+y`, usando solo le chiamate *ricorsive*, le espressioni condizionali, e le due funzioni `Inc(x)` e `Dec(x)`."
   ]
  },
  {
   "cell_type": "code",
   "execution_count": null,
   "metadata": {
    "collapsed": true
   },
   "outputs": [],
   "source": [
    "# DA COMPLETARE"
   ]
  }
 ],
 "metadata": {
  "kernelspec": {
   "display_name": "Python [default]",
   "language": "python",
   "name": "python3"
  },
  "language_info": {
   "codemirror_mode": {
    "name": "ipython",
    "version": 3
   },
   "file_extension": ".py",
   "mimetype": "text/x-python",
   "name": "python",
   "nbconvert_exporter": "python",
   "pygments_lexer": "ipython3",
   "version": "3.5.3"
  }
 },
 "nbformat": 4,
 "nbformat_minor": 2
}
