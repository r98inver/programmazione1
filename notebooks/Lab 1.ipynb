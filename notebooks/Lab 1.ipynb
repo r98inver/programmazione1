{
 "cells": [
  {
   "cell_type": "markdown",
   "metadata": {},
   "source": [
    "# Elementi di programmazione\n",
    "\n",
    "Un linguaggio di programmazione serve sia per istruire una macchina ad eseguire dei conti, che per organizzare le nostre idee su come quei conti devono essere eseguiti. Per questo, nella scelta di un linguaggio di programmazione, dobbiamo tener presente quali sono gli strumenti che ci vengono offerti dal linguaggio per formare idee più complesse partendo da poche idee semplici.\n",
    "\n",
    "Ogni linguaggio di programmazione dovrebbe avere 3 meccanismi per ottenere questo obiettivo:\n",
    "\n",
    "1. Delle **espressioni primitive** che rappresentano le entità più semplici del linguaggio\n",
    "\n",
    "2. Dei modi di **combinare** gli elementi primitivi in elementi composti\n",
    "\n",
    "3. Dei modi di **astrarre** in modo che degli elementi composti possano essere utilizzati come elementi primitivi di entità ancora più complesse\n",
    "\n",
    "In programmazione abbiamo due tipi di elementi: le PROCEDURE e i DATI.\n",
    "\n",
    "In modo informale possiamo definire i **dati** come gli oggetti che vorremmo manipolare, e le **procedure** come la descrizione delle regole per manipolare i dati. Quindi, per quanto spiegato sopra, un linguaggio dovrebbe avere dei **dati primitivi** e delle **procedure primitive**, a dovrebbe avere dei modi per combinare e astrarre i dati e le procedure.\n",
    "\n",
    "## Dati e procedure numeriche\n",
    "Iniziamo a vedere qualche semplice iterazione con l'interprete di Python: se digitiamo sulla tastiera una **espressione**, l'interprete risponde **valutando** tale espressione. Per esempio se digitiamo il numero 345 e poi premiamo la combinazione di tasti `shift + enter`, l'interprete valuta l'espressione che abbiamo appena scritto:"
   ]
  },
  {
   "cell_type": "code",
   "execution_count": null,
   "metadata": {
    "collapsed": false
   },
   "outputs": [],
   "source": [
    "345"
   ]
  },
  {
   "cell_type": "markdown",
   "metadata": {},
   "source": [
    "Semplici espressioni numeriche possono essere combinate usando delle procedure primitive che rappresentano l'applicazione di procedure a quei numeri. Per esempio:"
   ]
  },
  {
   "cell_type": "code",
   "execution_count": null,
   "metadata": {
    "collapsed": false
   },
   "outputs": [],
   "source": [
    "339 + 6"
   ]
  },
  {
   "cell_type": "code",
   "execution_count": null,
   "metadata": {
    "collapsed": false
   },
   "outputs": [],
   "source": [
    "345 - 6"
   ]
  },
  {
   "cell_type": "code",
   "execution_count": null,
   "metadata": {
    "collapsed": false
   },
   "outputs": [],
   "source": [
    "2.7 / 12.1"
   ]
  },
  {
   "cell_type": "code",
   "execution_count": null,
   "metadata": {
    "collapsed": false
   },
   "outputs": [],
   "source": [
    "345 - 12/6"
   ]
  },
  {
   "cell_type": "markdown",
   "metadata": {},
   "source": [
    "Si noti come in questo caso, per queste semplici procedure numeriche che corrispondono agli operatori aritmetici, viene implicitamente usata una notazione chiamata **postfix**. Importando la libreria `operator` è possibile esprimere le stesse espressioni in notazione **prefix**:"
   ]
  },
  {
   "cell_type": "code",
   "execution_count": null,
   "metadata": {
    "collapsed": true
   },
   "outputs": [],
   "source": [
    "# Importa tutte le procedure (funzioni) definite nel modulo \"operator\"\n",
    "from operator import *"
   ]
  },
  {
   "cell_type": "markdown",
   "metadata": {},
   "source": [
    "Si consiglia di leggere la **documentazione** della libreria `operator` sul sito di [python](https://docs.python.org/3.6/library/operator.html). Le funzioni principali che useremo in questo notebook sono:\n",
    "\n",
    "* `add(a,b)` corrisponde ad `a+b`\n",
    "* `sub(a,b)` corrisponde ad `a-b`\n",
    "* `mul(a,b)` corrisponde ad `a*b`\n",
    "* `truediv(a,b)` corrisponde ad `a/b`\n",
    "\n",
    "Per esempio:"
   ]
  },
  {
   "cell_type": "code",
   "execution_count": null,
   "metadata": {
    "collapsed": false
   },
   "outputs": [],
   "source": [
    "add(339, 6)"
   ]
  },
  {
   "cell_type": "markdown",
   "metadata": {},
   "source": [
    "Uno dei vantaggi della notazione **prefix** è che rende sempre chiaro qual'è l'operatore/procedure che deve essere svolta, applicandola a quali dati: `add` è il nome dell'operatore, mentre tra parentesi sono dati i due dati numerici a cui deve essere applicata l'operazione."
   ]
  },
  {
   "cell_type": "code",
   "execution_count": null,
   "metadata": {
    "collapsed": false
   },
   "outputs": [],
   "source": [
    "sub(345, truediv(12, 6))"
   ]
  },
  {
   "cell_type": "code",
   "execution_count": null,
   "metadata": {
    "collapsed": false
   },
   "outputs": [],
   "source": [
    "mul(add(2,3), (sub(add(2,2), add(3,2))))"
   ]
  },
  {
   "cell_type": "markdown",
   "metadata": {},
   "source": [
    "Si noti come l'espressione precedente sarebbe più chiara se scritta come:\n",
    "\n",
    "```\n",
    "mul(\n",
    "    add(2, 3),\n",
    "    sub(\n",
    "        add(2, 2),\n",
    "        add(3, 2)\n",
    "    )\n",
    ")\n",
    "```"
   ]
  },
  {
   "cell_type": "markdown",
   "metadata": {},
   "source": [
    "In questo caso l'interprete lavora in un ciclo chiamato \"leggi-valuta-stampa\": legge le espressioni composte e le espressioni primitive, le valuta nell'ordine in cui le trova, e stampa alla fine il risultato finale."
   ]
  },
  {
   "cell_type": "markdown",
   "metadata": {},
   "source": [
    "## Assegnazione di nomi ad oggetti\n",
    "Un aspetto critico della programmazione è il modo in cui vengono assegnati i nomi agli oggetti computazionali.\n",
    "Si dice che un **nome** identifica una **variabile** il cui valore è l'oggetto a cui viene associato. Per esempio:"
   ]
  },
  {
   "cell_type": "code",
   "execution_count": null,
   "metadata": {
    "collapsed": true
   },
   "outputs": [],
   "source": [
    "a = 13"
   ]
  },
  {
   "cell_type": "markdown",
   "metadata": {},
   "source": [
    "In questo caso abbiamo una variabile, che abbiamo chiamato `a`, e il cui **valore** è il numero 13. A questo punto possiamo usare la variabile `a` come un oggetto di tipo numerico:"
   ]
  },
  {
   "cell_type": "code",
   "execution_count": null,
   "metadata": {
    "collapsed": false
   },
   "outputs": [],
   "source": [
    "3*a"
   ]
  },
  {
   "cell_type": "code",
   "execution_count": null,
   "metadata": {
    "collapsed": false
   },
   "outputs": [],
   "source": [
    "add(a, add(a,a))"
   ]
  },
  {
   "cell_type": "code",
   "execution_count": null,
   "metadata": {
    "collapsed": true
   },
   "outputs": [],
   "source": [
    "pi = 3.14159"
   ]
  },
  {
   "cell_type": "code",
   "execution_count": null,
   "metadata": {
    "collapsed": true
   },
   "outputs": [],
   "source": [
    "raggio = 5"
   ]
  },
  {
   "cell_type": "code",
   "execution_count": null,
   "metadata": {
    "collapsed": true
   },
   "outputs": [],
   "source": [
    "circonferenza = 2*pi*raggio"
   ]
  },
  {
   "cell_type": "code",
   "execution_count": null,
   "metadata": {
    "collapsed": false
   },
   "outputs": [],
   "source": [
    "circonferenza"
   ]
  },
  {
   "cell_type": "code",
   "execution_count": null,
   "metadata": {
    "collapsed": true
   },
   "outputs": [],
   "source": [
    "raggio = 10"
   ]
  },
  {
   "cell_type": "code",
   "execution_count": null,
   "metadata": {
    "collapsed": false
   },
   "outputs": [],
   "source": [
    "circonferenza"
   ]
  },
  {
   "cell_type": "markdown",
   "metadata": {},
   "source": [
    "In questo caso, l'interprete del linguaggio, ha prima valutato l'espressione `2*pi*raggio`, e dopo ha assegnato il **valore** ottenuto dalla valutazione dell'**espressione** alla variabile di nome `circonferenza`.\n",
    "\n",
    "In questo caso, l'operatore di assegnamento `=` rappresenta il più semplice meccanismo di astrazione, perché permette di dare un **nome** al risultato di operazioni più complesse. \n",
    "\n",
    "In pratica, qualsiasi programma viene costruito partendo dalla costruzione, passo passo, di oggetti computazionali via via più complessi.\n",
    "\n",
    "L'uso di un interprete, che in modo incrementale valute le **espressioni** che li vengono passate, favorisce la definizione di tante piccole procedure, innestate l'uno nell'altra.\n",
    "\n",
    "Dovrebbe essere chiaro a questo punto, che l'interprete deve mantenere una sorta di **MEMORIA** che tiene traccia di tutti gli assegnamenti di nomi a oggetti, chiamato il `global environment`. Per vedere quali sono i nomi memorizzati in memoria si usa il comando `who`:"
   ]
  },
  {
   "cell_type": "code",
   "execution_count": null,
   "metadata": {
    "collapsed": false
   },
   "outputs": [],
   "source": [
    "who"
   ]
  },
  {
   "cell_type": "markdown",
   "metadata": {},
   "source": [
    "## La valutazione di espressioni composte\n",
    "Uno degli obiettivo di questo corso è di insegnare a pensare in maniera \"algoritmica\" o \"procedurale\". Proviamo ad analizzare come l'interprete del linguaggio valuta operazioni composte come quelle viste prima. In pratica, la valutazione di operazioni composte avviene attraverso la procedura seguente:\n",
    "\n",
    "1. Per valutare un'espressione composta:\n",
    "\n",
    "1.1 Prima, valuta le sottoespressioni della espressioni composta\n",
    "\n",
    "1.2 Applica la procedura indicata dalla sottoespressioni più a sinistra (l'operatore), agli argomenti che sono i valori della sottoespressione (gli operandi).\n",
    "    \n",
    "Si noti come questa per valutare un'operazione composta, per prima cosa dobbiamo eseguire il processo di valutazione a ogni elementi dell'espressione composta. Quindi la regola di valutazione di un'espressione è intrinsecamente **RICORSIVA**, ovvero include come uno dei suoi passi la chiamata a se stessa.\n",
    "\n",
    "NOTA: mostrare alla lavagna un *recursion tree* con l'espressione precedente."
   ]
  },
  {
   "cell_type": "markdown",
   "metadata": {},
   "source": [
    "## Definizione di procedure composte\n",
    "Abbiamo sin qui identificato alcuni elementi che devono appartenere ad un linguaggio di programmazione:\n",
    "\n",
    "1. I numeri e le operazioni aritmetiche sono dati e procedure primitive (in gergo, vengono chiamate *builtin*)\n",
    "2. L'annidamento di espressioni composte offrono un meccanismo per comporre delle operazioni\n",
    "3. Gli assegnamenti di nomi di variabili a valori offrono un livello di astrazione piuttosto limitato\n",
    "\n",
    "Abbiamo quindi bisogno di un modo per poter **definire nuove procedure**, in modo che una nuova operazione possa essere definita in termini di composizione di operazioni più semplici.\n",
    "\n",
    "Consideriamo per esempio una procedura di elevamento al quadrato."
   ]
  },
  {
   "cell_type": "code",
   "execution_count": null,
   "metadata": {
    "collapsed": true
   },
   "outputs": [],
   "source": [
    "quadrato = mul(3, 3)"
   ]
  },
  {
   "cell_type": "code",
   "execution_count": null,
   "metadata": {
    "collapsed": false
   },
   "outputs": [],
   "source": [
    "quadrato"
   ]
  },
  {
   "cell_type": "code",
   "execution_count": null,
   "metadata": {
    "collapsed": false
   },
   "outputs": [],
   "source": [
    "power = mul(x,x)\n",
    "print(power)"
   ]
  },
  {
   "cell_type": "code",
   "execution_count": null,
   "metadata": {
    "collapsed": true
   },
   "outputs": [],
   "source": [
    "x = 7"
   ]
  },
  {
   "cell_type": "markdown",
   "metadata": {},
   "source": [
    "Per ottenere un livello di astrazione più alto abbiamo bisogno di un meccanismo (una sintassi del linguaggio) per definire nuove procedure (funzioni). La sintassi è la seguente:\n",
    "\n",
    "```\n",
    "def <Nome>(<parametri formali>):\n",
    "    <corpo della procedura>\n",
    "```\n",
    "\n",
    "Si noti come sono apparse la prima parole chiave riservata del linguaggio: **def**. Inoltre, `<Nome>` è il nome che noi vogliamo associare alla procedure che stiamo definendo, e i `<parametri formali>` (chiamati argomenti della procedura) sono le variabili che non appartengono direttamente al *working eniviroment* (ovvero alla MEMORIA dell'interprete), ma sono \"visibili\" solo internamente alla procedura in cui sono definite.\n",
    "\n",
    "Se torniamo all'esempio delle definizione di una procedura per l'elevamento al quadrato, possiamo scrivere:"
   ]
  },
  {
   "cell_type": "code",
   "execution_count": null,
   "metadata": {
    "collapsed": true
   },
   "outputs": [],
   "source": [
    "def Quadrato(numero):\n",
    "    return mul(numero, numero)"
   ]
  },
  {
   "cell_type": "code",
   "execution_count": null,
   "metadata": {
    "collapsed": false
   },
   "outputs": [],
   "source": [
    "Quadrato"
   ]
  },
  {
   "cell_type": "code",
   "execution_count": null,
   "metadata": {
    "collapsed": false
   },
   "outputs": [],
   "source": [
    "who"
   ]
  },
  {
   "cell_type": "code",
   "execution_count": null,
   "metadata": {
    "collapsed": false
   },
   "outputs": [],
   "source": [
    "Quadrato(532)"
   ]
  },
  {
   "cell_type": "code",
   "execution_count": null,
   "metadata": {
    "collapsed": false
   },
   "outputs": [],
   "source": [
    "Quadrato(mul(3,2))"
   ]
  },
  {
   "cell_type": "markdown",
   "metadata": {},
   "source": [
    "A questo punto possiamo anche definire nuove procedure in termini della procedura appena definita, definendo per esempio una nuova procedura chiamata `SommaDiQuadrati`:"
   ]
  },
  {
   "cell_type": "code",
   "execution_count": null,
   "metadata": {
    "collapsed": true
   },
   "outputs": [],
   "source": [
    "def SommaQuadrati(x, y):\n",
    "    return add(Quadrato(x), Quadrato(y))"
   ]
  },
  {
   "cell_type": "code",
   "execution_count": null,
   "metadata": {
    "collapsed": false
   },
   "outputs": [],
   "source": [
    "SommaQuadrati(4,3)"
   ]
  },
  {
   "cell_type": "code",
   "execution_count": null,
   "metadata": {
    "collapsed": false
   },
   "outputs": [],
   "source": [
    "x"
   ]
  },
  {
   "cell_type": "code",
   "execution_count": null,
   "metadata": {
    "collapsed": true
   },
   "outputs": [],
   "source": [
    "del x"
   ]
  },
  {
   "cell_type": "markdown",
   "metadata": {},
   "source": [
    "**ESEMPIO**: considera la seguente espressione composta:"
   ]
  },
  {
   "cell_type": "code",
   "execution_count": null,
   "metadata": {
    "collapsed": true
   },
   "outputs": [],
   "source": [
    "def F(a):\n",
    "    return SommaQuadrati(add(a, 1), mul(a, 2))"
   ]
  },
  {
   "cell_type": "code",
   "execution_count": null,
   "metadata": {
    "collapsed": false
   },
   "outputs": [],
   "source": [
    "F(5)"
   ]
  },
  {
   "cell_type": "markdown",
   "metadata": {},
   "source": [
    "**DOMANDA**: come è stata valutata questa procedura?\n",
    "    \n",
    "**OSSERVAZIONE**: *normal-order evaluation* in confronto ad un *applicative-order evaluation* (alla lavagna)."
   ]
  },
  {
   "cell_type": "markdown",
   "metadata": {},
   "source": [
    "**DOMANDA**: con gli elementi del linguaggio sin qui introdotti, possiamo definire una funzione `ValoreAssoluto(x)`, ovvero \n",
    "\n",
    "$|x| = x$ se $x \\geq 0$, e $|x|=-x$ se $x < 0$? "
   ]
  },
  {
   "cell_type": "markdown",
   "metadata": {},
   "source": [
    "**RISPOSTA**: No, il linguaggio non è abbastanza *espressivo*."
   ]
  },
  {
   "cell_type": "markdown",
   "metadata": {},
   "source": [
    "## Espressioni condizionali e predicati\n",
    "Qualsiasi linguaggio di programmazione deve avere un modo per poter analizzare diversi casi e attivare diverse procedure in base all'esito di tale analisi. Ovvero, si devono poter definire delle **espressioni condizionali**, la cui sintassi è la seguente:\n",
    "\n",
    "```\n",
    "if <predicato1>:\n",
    "    <body1>\n",
    "elif <predicato2>:\n",
    "    <body2>\n",
    "else:\n",
    "    <body3>\n",
    "```\n",
    "\n",
    "Per predicato si intende una procedura (meglio, una funzione) o un espressione logica che restituisce un valore *vero* o *falso*.\n",
    "Per definire delle espressioni logiche, si possono utilizzare gli operatori di confronto (>, <, >=, <=, ==) e gli operatori logici (and, or, not).\n",
    "\n",
    "**ESEMPIO**:"
   ]
  },
  {
   "cell_type": "code",
   "execution_count": null,
   "metadata": {
    "collapsed": true
   },
   "outputs": [],
   "source": [
    "if not 3 > 4:\n",
    "    a = 3*2\n",
    "else:\n",
    "    a = 4*2"
   ]
  },
  {
   "cell_type": "code",
   "execution_count": null,
   "metadata": {
    "collapsed": false
   },
   "outputs": [],
   "source": [
    "a"
   ]
  },
  {
   "cell_type": "code",
   "execution_count": null,
   "metadata": {
    "collapsed": false
   },
   "outputs": [],
   "source": [
    "print(a)"
   ]
  },
  {
   "cell_type": "code",
   "execution_count": null,
   "metadata": {
    "collapsed": true
   },
   "outputs": [],
   "source": [
    "def Test(x):\n",
    "    return x > 5 and x < 10"
   ]
  },
  {
   "cell_type": "code",
   "execution_count": null,
   "metadata": {
    "collapsed": false
   },
   "outputs": [],
   "source": [
    "Test(2)"
   ]
  },
  {
   "cell_type": "code",
   "execution_count": null,
   "metadata": {
    "collapsed": false
   },
   "outputs": [],
   "source": [
    "Test(6)"
   ]
  },
  {
   "cell_type": "code",
   "execution_count": null,
   "metadata": {
    "collapsed": true
   },
   "outputs": [],
   "source": [
    "def ThreeAnd(x,y,z):\n",
    "    return x and y and z"
   ]
  },
  {
   "cell_type": "code",
   "execution_count": null,
   "metadata": {
    "collapsed": false
   },
   "outputs": [],
   "source": [
    "ThreeAnd(2>4, 1<2, 1==3)"
   ]
  },
  {
   "cell_type": "code",
   "execution_count": null,
   "metadata": {
    "collapsed": true
   },
   "outputs": [],
   "source": [
    "def Abs(x):\n",
    "    if x >= 0:\n",
    "        return x\n",
    "    else:\n",
    "        return -x"
   ]
  },
  {
   "cell_type": "code",
   "execution_count": null,
   "metadata": {
    "collapsed": false
   },
   "outputs": [],
   "source": [
    "Abs(-3)"
   ]
  },
  {
   "cell_type": "code",
   "execution_count": null,
   "metadata": {
    "collapsed": false
   },
   "outputs": [],
   "source": [
    "Abs(5)"
   ]
  },
  {
   "cell_type": "markdown",
   "metadata": {},
   "source": [
    "## Esercizi\n",
    "**ESERCIZIO 1.1**: Viene data sotto una serie di espressioni. Qual'è il risultato dell'interprete in risposta a ciascuna espressione? Si assuma che la sequenza viene valutata nell'ordine in cui vi viene presentata.\n",
    "\n",
    "```\n",
    "10\n",
    "5 + 3 + 4\n",
    "sub(9, 1)\n",
    "add(mul(2, 4), sub(4, 6))\n",
    "a = 3\n",
    "b = add(a, 1)\n",
    "add(a, add(b, mul(a, b)))\n",
    "a = b\n",
    "if a > b and b < mul(a, b):\n",
    "    print(b)\n",
    "else:\n",
    "    print(a)\n",
    "```\n"
   ]
  },
  {
   "cell_type": "code",
   "execution_count": null,
   "metadata": {
    "collapsed": false
   },
   "outputs": [],
   "source": []
  },
  {
   "cell_type": "markdown",
   "metadata": {},
   "source": [
    "**ESERCIZIO 1.2**: Si traduca l'espressione seguente in notazione *prefix*:\n",
    "\n",
    "$\\frac{5+4+(2 - (3 - ( 6 + \\frac{4}{5})))}{3(6-2)(2-7)}$"
   ]
  },
  {
   "cell_type": "code",
   "execution_count": null,
   "metadata": {
    "collapsed": false
   },
   "outputs": [],
   "source": []
  },
  {
   "cell_type": "markdown",
   "metadata": {},
   "source": [
    "**ESERCIZIO 1.3:** Si scriva una procedura che prenda tre numeri come argomenti e restituisca la somma dei quadrati dei due numeri più grandi."
   ]
  },
  {
   "cell_type": "code",
   "execution_count": null,
   "metadata": {
    "collapsed": false
   },
   "outputs": [],
   "source": []
  },
  {
   "cell_type": "markdown",
   "metadata": {},
   "source": [
    "**ESERCIZIO 1.4:** Si osservi che il modello di valutazione dell'interprete visto sino ad ora permette la valutazione di procedure in cui si hanno procedure composte. Si osservi l'esempio seguente e si commenti il comportamento dell'interprete in questo caso:"
   ]
  },
  {
   "cell_type": "code",
   "execution_count": null,
   "metadata": {
    "collapsed": false
   },
   "outputs": [],
   "source": [
    "def F(a, b):\n",
    "    if b > 0:\n",
    "        return add\n",
    "    else:\n",
    "        return sub\n",
    "    \n",
    "def G(a, b):\n",
    "    return F(a,b)(a,b)"
   ]
  },
  {
   "cell_type": "code",
   "execution_count": null,
   "metadata": {
    "collapsed": false
   },
   "outputs": [],
   "source": [
    "G(-2,-3)"
   ]
  },
  {
   "cell_type": "markdown",
   "metadata": {},
   "source": [
    "**ESERCIZIO 1.5:** Il sig. Bit ha inventato un test per determinare se l'interprete del linguaggio che sta usando segue un *applicative-order evaluation* oppure un *normal-order evaluation*. L'idea è di definire due procedure:"
   ]
  },
  {
   "cell_type": "code",
   "execution_count": null,
   "metadata": {
    "collapsed": true
   },
   "outputs": [],
   "source": [
    "def P():\n",
    "    return P()"
   ]
  },
  {
   "cell_type": "code",
   "execution_count": null,
   "metadata": {
    "collapsed": true
   },
   "outputs": [],
   "source": [
    "def Test(x, y):\n",
    "    if x == 0:\n",
    "        return 0\n",
    "    else:\n",
    "        return y"
   ]
  },
  {
   "cell_type": "markdown",
   "metadata": {},
   "source": [
    "e poi de valutare l'espressione:\n",
    "\n",
    "```\n",
    "Test(0,P())\n",
    "```\n",
    "\n",
    "Quale comportamento osserverà il signor Bit con un interprete che usa una *applicative-order evaluation*? Quale comportamento osserverà con un interprete che usa una *normal-order evaluation*? Spiegare la risposta data."
   ]
  },
  {
   "cell_type": "code",
   "execution_count": null,
   "metadata": {
    "collapsed": true
   },
   "outputs": [],
   "source": []
  }
 ],
 "metadata": {
  "kernelspec": {
   "display_name": "Python [default]",
   "language": "python",
   "name": "python3"
  },
  "language_info": {
   "codemirror_mode": {
    "name": "ipython",
    "version": 3
   },
   "file_extension": ".py",
   "mimetype": "text/x-python",
   "name": "python",
   "nbconvert_exporter": "python",
   "pygments_lexer": "ipython3",
   "version": "3.5.3"
  }
 },
 "nbformat": 4,
 "nbformat_minor": 2
}
