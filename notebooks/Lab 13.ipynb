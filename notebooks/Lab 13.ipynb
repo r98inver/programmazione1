{
 "cells": [
  {
   "cell_type": "markdown",
   "metadata": {},
   "source": [
    "# Cenni di programmazione funzionale\n",
    "\n",
    "### Calcolo di polinomio e sua derivata\n",
    "Si consideri un polinomio di ordine $n$ e la sua derivata prima:\n",
    "\n",
    "$$p(x) = a_0 x^0 + a_1 x^1 + ... + a_n x^n = \\sum_{i=0,..,n} a_i x^i$$\n",
    "\n",
    "$$p'(x) = q(x) = a_1 x^0 + 2 a_2 x^1 + ... + n a_n x^{n-1} = \\sum_{i=1,..,n} a_i x^{i-1}$$\n",
    "\n",
    "Scrivere una funzione che data la lista dei coefficienti del polinomio $[a_0, a_1, ..., a_n]$\n",
    "restituisca le due funzioni $p(x)$ e $q(x)$.\n",
    "\n",
    "Entrambe le funzioni restituite, prendono in input un valore $x$ e calcolano rispettivamente il valore del polinomio in $x$ e il valore della derivata prima."
   ]
  },
  {
   "cell_type": "code",
   "execution_count": null,
   "metadata": {
    "collapsed": false
   },
   "outputs": [],
   "source": [
    "def MakePolyAndDerivate(As):\n",
    "    def Poly(x):\n",
    "        return sum(a*x**n for n,a in enumerate(As))\n",
    "    def PolyDerivate(x):\n",
    "        return sum((n+1)*a*x**n for n,a in enumerate(As[1:]))\n",
    "    return Poly, PolyDerivate\n",
    "\n",
    "p, q = MakePolyAndDerivate([1, 0, 24])\n",
    "# NOTA: p e q in questo caso sono due funzioni\n",
    "print(p(0), q(0))\n",
    "print(p(1), q(1))"
   ]
  },
  {
   "cell_type": "markdown",
   "metadata": {},
   "source": [
    "### Processare liste: `iter` e `next`\n",
    "La funzione builtin `iter(sequenza)` prende in input una sequenza (tupla, lista, stringa, dizionario,...) e restituisce un oggetto di tipo `generator`, ovvero un oggetto a cui si può chiedere il prossimo elemento, attraverso la funzione builtin `next(generator)`."
   ]
  },
  {
   "cell_type": "code",
   "execution_count": null,
   "metadata": {
    "collapsed": false
   },
   "outputs": [],
   "source": [
    "a = \"qual'è\"\n",
    "c = iter(a)\n",
    "next(c)\n",
    "next(c)\n",
    "next(c)\n",
    "next(c)\n",
    "print(next(c)) # COSA STAMPA??"
   ]
  },
  {
   "cell_type": "code",
   "execution_count": null,
   "metadata": {
    "collapsed": false
   },
   "outputs": [],
   "source": [
    "Ls = [1,2,3,4,3,2,1]\n",
    "a = iter(Ls)\n",
    "print('tipo di a: {}'.format(type(a)))\n",
    "next(a), next(a)\n",
    "A = next(a)\n",
    "print('A:', A)    # COSA STAMPA??"
   ]
  },
  {
   "cell_type": "markdown",
   "metadata": {},
   "source": [
    "Per sapere quando un oggetto di tipo iteratore ha iterato su tutta la lista conviene chiamare la funzione `next(iterator, default)` passandogli oltre all'iteratore un valore di default."
   ]
  },
  {
   "cell_type": "code",
   "execution_count": null,
   "metadata": {
    "collapsed": false
   },
   "outputs": [],
   "source": [
    "a = iter(Ls)\n",
    "while True:\n",
    "    stop = object()\n",
    "    c = next(a, stop)    \n",
    "    if c == stop:\n",
    "        break\n",
    "    print(c)"
   ]
  },
  {
   "cell_type": "markdown",
   "metadata": {},
   "source": [
    "Altrimenti si può prendere l'eccezione `StopIteration` (in cui `try .. exception` altro argomento da introdurre):"
   ]
  },
  {
   "cell_type": "code",
   "execution_count": null,
   "metadata": {
    "collapsed": false
   },
   "outputs": [],
   "source": [
    "a = iter(Ls)\n",
    "while True:\n",
    "    try:\n",
    "        c = next(a)\n",
    "        print(c)\n",
    "    except:\n",
    "        break"
   ]
  },
  {
   "cell_type": "markdown",
   "metadata": {},
   "source": [
    "### Lazy evaluation e liste infinite\n",
    "\n",
    "**ESERCIZIO**: scrivere una funzione `Range(n)`che prende in input un numero naturale *n* e restituisce in output i numeri da *0* a *n-1*:"
   ]
  },
  {
   "cell_type": "code",
   "execution_count": null,
   "metadata": {
    "collapsed": false
   },
   "outputs": [],
   "source": [
    "def RangeNaive(n):\n",
    "    return [i for i in range(n)]\n",
    "\n",
    "print(RangeNaive(5))"
   ]
  },
  {
   "cell_type": "code",
   "execution_count": 1,
   "metadata": {
    "collapsed": false
   },
   "outputs": [
    {
     "name": "stdout",
     "output_type": "stream",
     "text": [
      "range(0, 5)\n"
     ]
    }
   ],
   "source": [
    "print(range(5))"
   ]
  },
  {
   "cell_type": "code",
   "execution_count": 2,
   "metadata": {
    "collapsed": false
   },
   "outputs": [
    {
     "name": "stdout",
     "output_type": "stream",
     "text": [
      "<class 'range'>\n"
     ]
    }
   ],
   "source": [
    "a = range(0, 5)\n",
    "print(type(a))"
   ]
  },
  {
   "cell_type": "markdown",
   "metadata": {},
   "source": [
    "**DOMANDA**: cosa succede se chiamiamo `Range(100000000000)`? Ma se intanto utilizziamo solo un valore alla volta, perché costruire una lista di 100000000000 elementi?\n",
    "\n",
    "In Python esiste un'altra parola chiave: **`yield`** che e simile a `return`, ma ha un significato leggermente diverso, in quanto la funzione non ritorna un singolo valore, ma un **generator**."
   ]
  },
  {
   "cell_type": "code",
   "execution_count": null,
   "metadata": {
    "collapsed": true
   },
   "outputs": [],
   "source": [
    "def Range(n):\n",
    "    i = 0\n",
    "    while i < n:\n",
    "        yield i\n",
    "        i = i + 1"
   ]
  },
  {
   "cell_type": "code",
   "execution_count": null,
   "metadata": {
    "collapsed": false
   },
   "outputs": [],
   "source": [
    "c = Range(5)\n",
    "print(c)"
   ]
  },
  {
   "cell_type": "code",
   "execution_count": null,
   "metadata": {
    "collapsed": false
   },
   "outputs": [],
   "source": [
    "print(next(c))\n",
    "print(next(c))\n",
    "print(next(c))"
   ]
  },
  {
   "cell_type": "code",
   "execution_count": null,
   "metadata": {
    "collapsed": false
   },
   "outputs": [],
   "source": [
    "print(next(c))\n",
    "print(next(c))\n",
    "print(next(c))"
   ]
  },
  {
   "cell_type": "code",
   "execution_count": null,
   "metadata": {
    "collapsed": false
   },
   "outputs": [],
   "source": [
    "print([i for i in Range(5)]) "
   ]
  },
  {
   "cell_type": "markdown",
   "metadata": {},
   "source": [
    "**DOMANDA:** come mai il codice precedente funziona senza dare un errore?\n",
    "\n",
    "**ESERCIZIO:** Come definire una funzione `Enumerate(Ls)` che restituisce una coppia di valori `(indice, elemento)` per ogni elemento di `Ls`, allo stesso modo della funzione builtin `enumerate`?"
   ]
  },
  {
   "cell_type": "code",
   "execution_count": null,
   "metadata": {
    "collapsed": true
   },
   "outputs": [],
   "source": [
    "def Enumerate(Ls):\n",
    "    i = 0\n",
    "    it = iter(Ls)\n",
    "    last = object()\n",
    "    while True:\n",
    "        item = next(it, last)\n",
    "        if item == last:\n",
    "            break\n",
    "        yield i, item\n",
    "        i = i + 1"
   ]
  },
  {
   "cell_type": "code",
   "execution_count": null,
   "metadata": {
    "collapsed": false
   },
   "outputs": [],
   "source": [
    "Ls = [i for i in range(5, 20, 2)]\n",
    "print(Ls)"
   ]
  },
  {
   "cell_type": "code",
   "execution_count": null,
   "metadata": {
    "collapsed": false
   },
   "outputs": [],
   "source": [
    "[(i,a) for (i,a) in Enumerate(Ls)]"
   ]
  },
  {
   "cell_type": "markdown",
   "metadata": {},
   "source": [
    "### Tail recursions"
   ]
  },
  {
   "cell_type": "code",
   "execution_count": 3,
   "metadata": {
    "collapsed": false
   },
   "outputs": [
    {
     "name": "stdout",
     "output_type": "stream",
     "text": [
      "3 6 5\n"
     ]
    }
   ],
   "source": [
    "def LazyReverse(Ls):\n",
    "    def Cat(v, As):  \n",
    "        yield v\n",
    "        for l in As:\n",
    "            yield l\n",
    "        \n",
    "    def ReverseRec(As, v):\n",
    "        if As == []:\n",
    "            return [v]\n",
    "        else:\n",
    "            return Cat(As[-1], ReverseRec(As[:-1], v))\n",
    "    return ReverseRec(Ls, [])\n",
    "\n",
    "As = LazyReverse([4,3,2,5,6,3])\n",
    "print(next(As), next(As), next(As))"
   ]
  },
  {
   "cell_type": "markdown",
   "metadata": {},
   "source": [
    "### Memoization"
   ]
  },
  {
   "cell_type": "code",
   "execution_count": 17,
   "metadata": {
    "collapsed": false
   },
   "outputs": [
    {
     "name": "stdout",
     "output_type": "stream",
     "text": [
      "1346269\n",
      "0.7029097080230713\n"
     ]
    }
   ],
   "source": [
    "def Fib(n):\n",
    "    if n == 0:\n",
    "        return 0\n",
    "    if n == 1:\n",
    "        return 1\n",
    "    return Fib(n-1) + Fib(n-2)\n",
    "\n",
    "import time\n",
    "\n",
    "start = time.time()\n",
    "print(Fib(31))\n",
    "end = time.time()\n",
    "print(end - start)"
   ]
  },
  {
   "cell_type": "code",
   "execution_count": 16,
   "metadata": {
    "collapsed": false
   },
   "outputs": [
    {
     "name": "stdout",
     "output_type": "stream",
     "text": [
      "1346269\n",
      "0.0\n"
     ]
    }
   ],
   "source": [
    "from functools import lru_cache\n",
    "\n",
    "@lru_cache(maxsize=50)\n",
    "def Fib(n):\n",
    "    if n == 0:\n",
    "        return 0\n",
    "    if n == 1:\n",
    "        return 1\n",
    "    return Fib(n-1) + Fib(n-2)\n",
    "\n",
    "start = time.time()\n",
    "print(Fib(31))\n",
    "end = time.time()\n",
    "print(end - start)"
   ]
  },
  {
   "cell_type": "code",
   "execution_count": null,
   "metadata": {
    "collapsed": true
   },
   "outputs": [],
   "source": []
  }
 ],
 "metadata": {
  "kernelspec": {
   "display_name": "Python [default]",
   "language": "python",
   "name": "python3"
  },
  "language_info": {
   "codemirror_mode": {
    "name": "ipython",
    "version": 3
   },
   "file_extension": ".py",
   "mimetype": "text/x-python",
   "name": "python",
   "nbconvert_exporter": "python",
   "pygments_lexer": "ipython3",
   "version": "3.5.3"
  }
 },
 "nbformat": 4,
 "nbformat_minor": 2
}
